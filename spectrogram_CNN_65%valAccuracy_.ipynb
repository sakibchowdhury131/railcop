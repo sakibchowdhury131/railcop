{
  "nbformat": 4,
  "nbformat_minor": 0,
  "metadata": {
    "colab": {
      "name": "__DFT+CNN_test.ipynb",
      "provenance": [],
      "collapsed_sections": [],
      "mount_file_id": "18r69LbxCgtdv9i1dK5FI_CrmZusiZnJ0",
      "authorship_tag": "ABX9TyMFlNXMw1b60o1yae9/snIW",
      "include_colab_link": true
    },
    "kernelspec": {
      "name": "python3",
      "display_name": "Python 3"
    },
    "language_info": {
      "name": "python"
    }
  },
  "cells": [
    {
      "cell_type": "markdown",
      "metadata": {
        "id": "view-in-github",
        "colab_type": "text"
      },
      "source": [
        "<a href=\"https://colab.research.google.com/github/sakibchowdhury131/railcop/blob/main/spectrogram_CNN_65%25valAccuracy_.ipynb\" target=\"_parent\"><img src=\"https://colab.research.google.com/assets/colab-badge.svg\" alt=\"Open In Colab\"/></a>"
      ]
    },
    {
      "cell_type": "code",
      "metadata": {
        "colab": {
          "base_uri": "https://localhost:8080/"
        },
        "id": "I-4d4ZklblM9",
        "outputId": "ff26ac43-ea20-4346-92d3-11b7f148611c"
      },
      "source": [
        "from google.colab import drive\n",
        "drive.mount('/content/drive')"
      ],
      "execution_count": 1,
      "outputs": [
        {
          "output_type": "stream",
          "name": "stdout",
          "text": [
            "Drive already mounted at /content/drive; to attempt to forcibly remount, call drive.mount(\"/content/drive\", force_remount=True).\n"
          ]
        }
      ]
    },
    {
      "cell_type": "code",
      "metadata": {
        "id": "VMGFU-7Vg8Y6"
      },
      "source": [
        "import numpy as np\n",
        "np.random.seed(1)\n",
        "\n",
        "import tensorflow as tf\n",
        "tf.random.set_seed(1)"
      ],
      "execution_count": 2,
      "outputs": []
    },
    {
      "cell_type": "code",
      "metadata": {
        "id": "MwBbdKz5hHoU"
      },
      "source": [
        "import os\n",
        "from tensorflow import keras\n",
        "import matplotlib.pyplot as plt\n",
        "import math\n",
        "import pandas as pd"
      ],
      "execution_count": 3,
      "outputs": []
    },
    {
      "cell_type": "code",
      "metadata": {
        "colab": {
          "base_uri": "https://localhost:8080/"
        },
        "id": "zK4WfmLUCxO_",
        "outputId": "7c2f23e3-bf29-4022-8cb6-47d7c36a76a5"
      },
      "source": [
        "label0 = pd.read_csv('/content/drive/MyDrive/RailCop/New Files/Sakib/data/label0/Copy of train_1.csv')\n",
        "label1 = pd.read_csv('/content/drive/MyDrive/RailCop/New Files/Sakib/data/label1/Copy of train_1.csv')\n",
        "print(label1)"
      ],
      "execution_count": 4,
      "outputs": [
        {
          "output_type": "stream",
          "name": "stdout",
          "text": [
            "      Sensor1  Sensor2  ...  Sensor2+Sensor4  Sensor1+Sensor2+Sensor3\n",
            "0           2        9  ...               10                       12\n",
            "1           4        9  ...                9                       13\n",
            "2           4        9  ...               11                       15\n",
            "3           4       11  ...               12                       16\n",
            "4           2        9  ...               10                       12\n",
            "...       ...      ...  ...              ...                      ...\n",
            "5384        3        9  ...               10                       13\n",
            "5385        3       10  ...               11                       14\n",
            "5386        4        8  ...                9                       13\n",
            "5387        3        9  ...               10                       13\n",
            "5388        3       10  ...               12                       15\n",
            "\n",
            "[5389 rows x 7 columns]\n"
          ]
        }
      ]
    },
    {
      "cell_type": "code",
      "metadata": {
        "colab": {
          "base_uri": "https://localhost:8080/"
        },
        "id": "dSHgZYxHEQjv",
        "outputId": "660e0ebf-3c8a-4f70-b68c-9742a61bc328"
      },
      "source": [
        "__fullVector0 = label0['Sensor1+Sensor2+Sensor3'].to_numpy()\n",
        "__fullVector1 = label1['Sensor1+Sensor2+Sensor3'].to_numpy()\n",
        "\n",
        "\n",
        "print(__fullVector0.shape)\n",
        "print(__fullVector1.shape)\n"
      ],
      "execution_count": 5,
      "outputs": [
        {
          "output_type": "stream",
          "name": "stdout",
          "text": [
            "(23050,)\n",
            "(5389,)\n"
          ]
        }
      ]
    },
    {
      "cell_type": "code",
      "metadata": {
        "id": "IxHOcgAKEzFD"
      },
      "source": [
        "__frameSize = 50\n",
        "\n",
        "## label 0 framing\n",
        "\n",
        "__numFrames0 = int(__fullVector0.shape[0] / __frameSize)\n",
        "__frames0 = np.zeros((__numFrames0,__frameSize))\n",
        "for i in range (0, __numFrames0):\n",
        "  for j in range (0, __frameSize):\n",
        "    __frames0[i][j] = __fullVector0[i*__frameSize+j]"
      ],
      "execution_count": 49,
      "outputs": []
    },
    {
      "cell_type": "code",
      "metadata": {
        "id": "LLdPYaw6InIu"
      },
      "source": [
        "## label 1 framing\n",
        "\n",
        "__numFrames1 = int(__fullVector1.shape[0] / __frameSize)\n",
        "__frames1 = np.zeros((__numFrames1,__frameSize))\n",
        "for i in range (0, __numFrames1):\n",
        "  for j in range (0, __frameSize):\n",
        "    __frames1[i][j] = __fullVector1[i*__frameSize+j]"
      ],
      "execution_count": 50,
      "outputs": []
    },
    {
      "cell_type": "code",
      "metadata": {
        "colab": {
          "base_uri": "https://localhost:8080/"
        },
        "id": "OaiwVxH2JDM1",
        "outputId": "ee85e7b2-9fd2-4b92-f9e5-376cefaaca15"
      },
      "source": [
        "__frames0.shape"
      ],
      "execution_count": 51,
      "outputs": [
        {
          "output_type": "execute_result",
          "data": {
            "text/plain": [
              "(461, 50)"
            ]
          },
          "metadata": {},
          "execution_count": 51
        }
      ]
    },
    {
      "cell_type": "code",
      "metadata": {
        "colab": {
          "base_uri": "https://localhost:8080/"
        },
        "id": "vcL-0u7tJIe8",
        "outputId": "7eec2af1-cecb-4856-d7b0-facf212f59e9"
      },
      "source": [
        "__frames1.shape"
      ],
      "execution_count": 52,
      "outputs": [
        {
          "output_type": "execute_result",
          "data": {
            "text/plain": [
              "(107, 50)"
            ]
          },
          "metadata": {},
          "execution_count": 52
        }
      ]
    },
    {
      "cell_type": "code",
      "metadata": {
        "id": "SCU13F4tJR58"
      },
      "source": [
        "__maxFrames = __frames1.shape[0]\n",
        "__label0 = __frames0[0:__maxFrames, :]\n",
        "__label1 = __frames1[0:__maxFrames, :]"
      ],
      "execution_count": 53,
      "outputs": []
    },
    {
      "cell_type": "code",
      "metadata": {
        "id": "LxO7fXQi1_WO",
        "outputId": "f4e0c456-799f-4998-edd1-191c4bdda3a5",
        "colab": {
          "base_uri": "https://localhost:8080/"
        }
      },
      "source": [
        "__label0.shape"
      ],
      "execution_count": 69,
      "outputs": [
        {
          "output_type": "execute_result",
          "data": {
            "text/plain": [
              "(107, 50)"
            ]
          },
          "metadata": {},
          "execution_count": 69
        }
      ]
    },
    {
      "cell_type": "code",
      "metadata": {
        "id": "J6TDoOS510MP"
      },
      "source": [
        "X0 = np.zeros((__label0.shape[0],6,6))\n",
        "for i in range(0, __label0.shape[0]):\n",
        "  t, f, X0[i,:,:] = spectrogram(__frames0[i])"
      ],
      "execution_count": 73,
      "outputs": []
    },
    {
      "cell_type": "code",
      "metadata": {
        "id": "tCiYj1Rk2uLo"
      },
      "source": [
        "X1 = np.zeros((__label1.shape[0],6,6))\n",
        "for i in range(0, __label1.shape[0]):\n",
        "  t, f, X1[i,:,:] = spectrogram(__frames1[i])"
      ],
      "execution_count": 74,
      "outputs": []
    },
    {
      "cell_type": "code",
      "metadata": {
        "id": "BfZgfjAY24BK"
      },
      "source": [
        "X = np.asarray(np.concatenate((X0, X1), axis = 0), dtype=np.float32)"
      ],
      "execution_count": 75,
      "outputs": []
    },
    {
      "cell_type": "code",
      "metadata": {
        "colab": {
          "base_uri": "https://localhost:8080/"
        },
        "id": "-HuAiNmf6NnQ",
        "outputId": "38c8e679-da4b-47c8-e9e4-94f5f422edcf"
      },
      "source": [
        "Y0 = np.zeros(__label0.shape[0])\n",
        "Y1 = np.ones(__label1.shape[0])\n",
        "print(Y0.shape)\n",
        "print(Y1.shape)"
      ],
      "execution_count": 77,
      "outputs": [
        {
          "output_type": "stream",
          "name": "stdout",
          "text": [
            "(107,)\n",
            "(107,)\n"
          ]
        }
      ]
    },
    {
      "cell_type": "code",
      "metadata": {
        "id": "k9Uqv_Py3XjI"
      },
      "source": [
        "Y = np.asarray(np.concatenate((Y0, Y1), axis = 0), dtype=np.float32)"
      ],
      "execution_count": 78,
      "outputs": []
    },
    {
      "cell_type": "code",
      "metadata": {
        "id": "y9TsEwnf3cBY",
        "outputId": "04c356b0-760e-4eaf-e291-da89d600a7af",
        "colab": {
          "base_uri": "https://localhost:8080/"
        }
      },
      "source": [
        "Y.shape"
      ],
      "execution_count": 79,
      "outputs": [
        {
          "output_type": "execute_result",
          "data": {
            "text/plain": [
              "(214,)"
            ]
          },
          "metadata": {},
          "execution_count": 79
        }
      ]
    },
    {
      "cell_type": "code",
      "metadata": {
        "id": "t0fbc4SIPY13"
      },
      "source": [
        "## Applying DFT\n",
        "## finding Fourier Co-efficients Xn\n",
        "\n",
        "def get_xn(samples,n):\n",
        "    L  = len(samples)\n",
        "    ks = np.arange(0,L,1)\n",
        "    xn = np.sum(samples*np.exp((1j*2*np.pi*ks*n)/L))/L\n",
        "    return(xn)"
      ],
      "execution_count": 55,
      "outputs": []
    },
    {
      "cell_type": "code",
      "metadata": {
        "id": "8vsN2UOEPzP2"
      },
      "source": [
        "## Compute Fourier coefficients only up to the Nyquest Limit Xn, n=1,...,L/2 and \n",
        "## multiply the absolute value of the Fourier coefficients by 2, to account for \n",
        "## the symetry of the Fourier coefficients above the Nyquest Limit.\n",
        "\n",
        "\n",
        "def get_xns(samples):\n",
        "    mag = []\n",
        "    L = len(samples)\n",
        "    for n in range(int(L/2)): # Nyquest Limit\n",
        "        mag.append(np.abs(get_xn(samples,n))*2)\n",
        "    return(mag)\n",
        "mag = get_xns(__frames0[4])"
      ],
      "execution_count": 56,
      "outputs": []
    },
    {
      "cell_type": "code",
      "metadata": {
        "colab": {
          "base_uri": "https://localhost:8080/",
          "height": 241
        },
        "id": "qKa6Pah3QEik",
        "outputId": "5ceb5247-546a-4229-b645-a354d063b997"
      },
      "source": [
        "## Fourier Plot \n",
        "\n",
        "def get_Hz_scale_vec(ks,sample_rate,Npoints):\n",
        "    freq_Hz = ks*sample_rate/Npoints\n",
        "    freq_Hz  = [int(i) for i in freq_Hz ] \n",
        "    return(freq_Hz )\n",
        "Nxlim = 12\n",
        "sample_rate = int(9600/4)             \n",
        "ks   = np.linspace(0,len(mag),Nxlim)\n",
        "ksHz = get_Hz_scale_vec(ks,sample_rate,len(__frames1[0]))\n",
        "\n",
        "plt.figure(figsize=(20,3))\n",
        "plt.plot(mag[1:])\n",
        "plt.xticks(ks,ksHz)\n",
        "plt.title(\"Frequency Domain\")\n",
        "plt.xlabel(\"Frequency (Hz)\")\n",
        "plt.ylabel(\"|Fourier Coefficient|\")\n",
        "plt.show()"
      ],
      "execution_count": 57,
      "outputs": [
        {
          "output_type": "display_data",
          "data": {
            "image/png": "[encoded data removed]",
            "text/plain": [
              "<Figure size 1440x216 with 1 Axes>"
            ]
          },
          "metadata": {
            "needs_background": "light"
          }
        }
      ]
    },
    {
      "cell_type": "code",
      "metadata": {
        "colab": {
          "base_uri": "https://localhost:8080/",
          "height": 282
        },
        "id": "0OawIhlaWke4",
        "outputId": "5df846a7-33a2-48d4-b659-d31d492a62fd"
      },
      "source": [
        "plt.plot (__label0[3])"
      ],
      "execution_count": 36,
      "outputs": [
        {
          "output_type": "execute_result",
          "data": {
            "text/plain": [
              "[<matplotlib.lines.Line2D at 0x7f4899163f50>]"
            ]
          },
          "metadata": {},
          "execution_count": 36
        },
        {
          "output_type": "display_data",
          "data": {
            "image/png": "[encoded data removed]",
            "text/plain": [
              "<Figure size 432x288 with 1 Axes>"
            ]
          },
          "metadata": {
            "needs_background": "light"
          }
        }
      ]
    },
    {
      "cell_type": "code",
      "metadata": {
        "id": "MJUw7uZnRSqS"
      },
      "source": [
        "## Fourier coefficients of label0 \n",
        "__fourier0 = np.zeros((__maxFrames,len(mag)))\n",
        "for i in range(0, __maxFrames):\n",
        "  __fourier0[i] = np.array(get_xns(__label0[i]))\n",
        "\n",
        "\n",
        "\n",
        "## Fourier coefficients of label1 \n",
        "__fourier1 = np.zeros((__maxFrames,len(mag)))\n",
        "for i in range(0, __maxFrames):\n",
        "  __fourier1[i] = np.array(get_xns(__label1[i]))"
      ],
      "execution_count": 58,
      "outputs": []
    },
    {
      "cell_type": "code",
      "metadata": {
        "colab": {
          "base_uri": "https://localhost:8080/"
        },
        "id": "6CnpRw747nep",
        "outputId": "d4ba8162-949b-408f-df1e-c1209318a9e6"
      },
      "source": [
        "X = np.asarray(np.concatenate((__fourier0[:, 1:], __fourier1[:, 1:]), axis = 0), dtype=np.float32)\n",
        "Y = np.asarray(np.concatenate((Y0, Y1), axis = 0), dtype = np.float32)\n",
        "print(X.shape)\n",
        "print(Y.shape)"
      ],
      "execution_count": 59,
      "outputs": [
        {
          "output_type": "stream",
          "name": "stdout",
          "text": [
            "(214, 24)\n",
            "(214,)\n"
          ]
        }
      ]
    },
    {
      "cell_type": "code",
      "metadata": {
        "id": "Dkru_rqG8y_j"
      },
      "source": [
        "from sklearn.utils import shuffle\n",
        "X, Y = shuffle(X,Y)"
      ],
      "execution_count": 80,
      "outputs": []
    },
    {
      "cell_type": "code",
      "metadata": {
        "colab": {
          "base_uri": "https://localhost:8080/"
        },
        "id": "mlQZ0BlbVWLM",
        "outputId": "99c0391d-bc1c-4e2a-9e23-127278ee9a8e"
      },
      "source": [
        "X.shape"
      ],
      "execution_count": 40,
      "outputs": [
        {
          "output_type": "execute_result",
          "data": {
            "text/plain": [
              "(10, 499)"
            ]
          },
          "metadata": {},
          "execution_count": 40
        }
      ]
    },
    {
      "cell_type": "markdown",
      "metadata": {
        "id": "P3LbdMBc_4xi"
      },
      "source": [
        "### Performing Spectrogram"
      ]
    },
    {
      "cell_type": "code",
      "metadata": {
        "id": "mX42qE0v_0KL"
      },
      "source": [
        "from scipy import signal"
      ],
      "execution_count": 41,
      "outputs": []
    },
    {
      "cell_type": "code",
      "metadata": {
        "id": "cs9ihMYn_-Ja"
      },
      "source": [
        "def spectrogram(sig_in):\n",
        "    nperseg = 10 # default 256\n",
        "    noverlap = nperseg // 4 # default: nperseg // 8\n",
        "    fs = sample_rate# raw signal sample rate is 8000Hz\n",
        "    window = 'triang'\n",
        "    scaling = 'density' # {'density', 'spectrum'}\n",
        "    detrend = 'linear' # {'linear', 'constant', False}\n",
        "    eps = 1e-11\n",
        "    f, t, Sxx = signal.spectrogram(sig_in, nperseg=nperseg, noverlap=noverlap,\n",
        "                                   fs=fs, window=window,\n",
        "                                   scaling=scaling, detrend=detrend)\n",
        "    return f, t, np.log(Sxx + eps)"
      ],
      "execution_count": 64,
      "outputs": []
    },
    {
      "cell_type": "code",
      "metadata": {
        "id": "we2-b5dtAS9a",
        "colab": {
          "base_uri": "https://localhost:8080/",
          "height": 486
        },
        "outputId": "e65baff1-b3fa-40ab-f24d-8f769f68599f"
      },
      "source": [
        "frame_index = 2\n",
        "f, t, Sxx_out = spectrogram(__frames1[frame_index, :])\n",
        "\n",
        "fig = plt.figure(figsize=(18, 8))\n",
        "ax = fig.add_subplot(2, 1, 1)\n",
        "ax.margins(x=0.003)\n",
        "plt.plot(X[frame_index, :])\n",
        "plt.title('signal:', fontsize=18, loc='left')\n",
        "plt.axis('off')\n",
        "\n",
        "ax = fig.add_subplot(2, 1, 2)\n",
        "cmap = plt.get_cmap('magma')\n",
        "spec = plt.pcolormesh(t, f, Sxx_out, cmap=cmap)\n",
        "plt.title('normalized log spectrogram (aspect stretched):',\n",
        "          fontsize=18, loc='left')\n",
        "plt.axis('off');"
      ],
      "execution_count": 65,
      "outputs": [
        {
          "output_type": "display_data",
          "data": {
            "image/png": "[encoded data removed]",
            "text/plain": [
              "<Figure size 1296x576 with 2 Axes>"
            ]
          },
          "metadata": {
            "needs_background": "light"
          }
        }
      ]
    },
    {
      "cell_type": "code",
      "metadata": {
        "id": "_jNd0d4t1Qqm",
        "outputId": "6e108ba5-3fb6-4a1c-d436-b3d4b5d79713",
        "colab": {
          "base_uri": "https://localhost:8080/"
        }
      },
      "source": [
        "Sxx_out.shape"
      ],
      "execution_count": 68,
      "outputs": [
        {
          "output_type": "execute_result",
          "data": {
            "text/plain": [
              "(6, 6)"
            ]
          },
          "metadata": {},
          "execution_count": 68
        }
      ]
    },
    {
      "cell_type": "code",
      "metadata": {
        "id": "6ZaMKs4I1jQY",
        "outputId": "b7bf8aad-7b4b-40f8-97e2-1c3e0815ad38",
        "colab": {
          "base_uri": "https://localhost:8080/"
        }
      },
      "source": [
        "X.shape"
      ],
      "execution_count": 89,
      "outputs": [
        {
          "output_type": "execute_result",
          "data": {
            "text/plain": [
              "(214, 6, 6)"
            ]
          },
          "metadata": {},
          "execution_count": 89
        }
      ]
    },
    {
      "cell_type": "code",
      "metadata": {
        "colab": {
          "base_uri": "https://localhost:8080/"
        },
        "id": "0IkBKV3V8SKV",
        "outputId": "1d9689e1-a7f7-4324-cfa1-ae42db45fa34"
      },
      "source": [
        "def network():\n",
        "  __input = keras.Input((X.shape[1], X.shape[2],1))\n",
        "  __conv1 = keras.layers.Conv2D(filters = 8, kernel_size = 3, activation = 'relu')(__input)\n",
        "  _#_conv1 = keras.layers.Conv2D(filters = 8, kernel_size = 3, activation = 'relu')(__conv1)\n",
        "  #__conv1 = keras.layers.GRU(8)(__conv1)\n",
        "  __flat1 = keras.layers.Flatten()(__conv1)\n",
        "  __dense1 = keras.layers.Dense(8, activation = 'relu')(__flat1)\n",
        "  __output = keras.layers.Dense(1, activation = 'sigmoid')(__dense1)\n",
        "\n",
        "  model = keras.Model(inputs = __input, outputs = __output)\n",
        "  return model \n",
        "\n",
        "\n",
        "\n",
        "model = network()\n",
        "model.summary()"
      ],
      "execution_count": 94,
      "outputs": [
        {
          "output_type": "stream",
          "name": "stdout",
          "text": [
            "Model: \"model_4\"\n",
            "_________________________________________________________________\n",
            " Layer (type)                Output Shape              Param #   \n",
            "=================================================================\n",
            " input_7 (InputLayer)        [(None, 6, 6, 1)]         0         \n",
            "                                                                 \n",
            " conv2d_5 (Conv2D)           (None, 4, 4, 8)           80        \n",
            "                                                                 \n",
            " flatten_4 (Flatten)         (None, 128)               0         \n",
            "                                                                 \n",
            " dense_8 (Dense)             (None, 8)                 1032      \n",
            "                                                                 \n",
            " dense_9 (Dense)             (None, 1)                 9         \n",
            "                                                                 \n",
            "=================================================================\n",
            "Total params: 1,121\n",
            "Trainable params: 1,121\n",
            "Non-trainable params: 0\n",
            "_________________________________________________________________\n"
          ]
        }
      ]
    },
    {
      "cell_type": "code",
      "metadata": {
        "id": "fjqPOWy4-ihx"
      },
      "source": [
        "model.compile(loss='binary_crossentropy',\n",
        "                      optimizer= 'adam',\n",
        "                      metrics=['accuracy'])"
      ],
      "execution_count": 95,
      "outputs": []
    },
    {
      "cell_type": "code",
      "metadata": {
        "colab": {
          "base_uri": "https://localhost:8080/",
          "height": 1000
        },
        "id": "vuiIE4FR-1LG",
        "outputId": "ae41dcd0-e8ba-4d2a-e256-06d5eaac80a7"
      },
      "source": [
        "__modelVersion = '__timeSeriesTest1.0'\n",
        "\n",
        "weight_saver = tf.keras.callbacks.ModelCheckpoint('/content/drive/MyDrive/RailCop/New Files/Sakib/models/'+__modelVersion, monitor='val_accuracy', \n",
        "                                save_best_only=True, save_weights_only=False, mode= 'max')\n",
        "\n",
        "annealer = tf.keras.callbacks.ReduceLROnPlateau(monitor='val_loss', factor=0.5,\n",
        "                              patience=5,mode= 'min')\n",
        "\n",
        "\n",
        "hist = model.fit( x = X , \n",
        "                  y = Y, \n",
        "                  batch_size = 4,\n",
        "                  epochs = 600,\n",
        "                  callbacks = [weight_saver , annealer],\n",
        "                  validation_split = 0.2,\n",
        "                  shuffle = True,\n",
        "                  verbose = 1)"
      ],
      "execution_count": 96,
      "outputs": [
        {
          "output_type": "stream",
          "name": "stdout",
          "text": [
            "Epoch 1/600\n",
            "32/43 [=====================>........] - ETA: 0s - loss: 0.7808 - accuracy: 0.4922 INFO:tensorflow:Assets written to: /content/drive/MyDrive/RailCop/New Files/Sakib/models/__timeSeriesTest1.0/assets\n"
          ]
        },
        {
          "output_type": "stream",
          "name": "stderr",
          "text": [
            "INFO:tensorflow:Assets written to: /content/drive/MyDrive/RailCop/New Files/Sakib/models/__timeSeriesTest1.0/assets\n"
          ]
        },
        {
          "output_type": "stream",
          "name": "stdout",
          "text": [
            "43/43 [==============================] - 1s 24ms/step - loss: 0.7851 - accuracy: 0.4795 - val_loss: 0.7586 - val_accuracy: 0.5814 - lr: 0.0010\n",
            "Epoch 2/600\n",
            "43/43 [==============================] - 0s 3ms/step - loss: 0.7186 - accuracy: 0.5146 - val_loss: 0.7103 - val_accuracy: 0.5349 - lr: 0.0010\n",
            "Epoch 3/600\n",
            "43/43 [==============================] - 0s 3ms/step - loss: 0.7173 - accuracy: 0.4854 - val_loss: 0.7024 - val_accuracy: 0.5814 - lr: 0.0010\n",
            "Epoch 4/600\n",
            "43/43 [==============================] - 0s 3ms/step - loss: 0.7399 - accuracy: 0.5380 - val_loss: 0.7158 - val_accuracy: 0.5581 - lr: 0.0010\n",
            "Epoch 5/600\n",
            "43/43 [==============================] - 0s 3ms/step - loss: 0.6686 - accuracy: 0.5556 - val_loss: 0.6917 - val_accuracy: 0.5814 - lr: 0.0010\n",
            "Epoch 6/600\n",
            "31/43 [====================>.........] - ETA: 0s - loss: 0.6698 - accuracy: 0.5887INFO:tensorflow:Assets written to: /content/drive/MyDrive/RailCop/New Files/Sakib/models/__timeSeriesTest1.0/assets\n"
          ]
        },
        {
          "output_type": "stream",
          "name": "stderr",
          "text": [
            "INFO:tensorflow:Assets written to: /content/drive/MyDrive/RailCop/New Files/Sakib/models/__timeSeriesTest1.0/assets\n"
          ]
        },
        {
          "output_type": "stream",
          "name": "stdout",
          "text": [
            "43/43 [==============================] - 1s 21ms/step - loss: 0.6824 - accuracy: 0.5673 - val_loss: 0.6930 - val_accuracy: 0.6047 - lr: 0.0010\n",
            "Epoch 7/600\n",
            "43/43 [==============================] - 0s 3ms/step - loss: 0.6780 - accuracy: 0.5965 - val_loss: 0.7006 - val_accuracy: 0.4884 - lr: 0.0010\n",
            "Epoch 8/600\n",
            "43/43 [==============================] - 0s 3ms/step - loss: 0.6590 - accuracy: 0.5789 - val_loss: 0.7076 - val_accuracy: 0.6047 - lr: 0.0010\n",
            "Epoch 9/600\n",
            "43/43 [==============================] - 0s 3ms/step - loss: 0.6481 - accuracy: 0.6491 - val_loss: 0.7000 - val_accuracy: 0.5349 - lr: 0.0010\n",
            "Epoch 10/600\n",
            "43/43 [==============================] - 0s 2ms/step - loss: 0.6654 - accuracy: 0.5848 - val_loss: 0.6855 - val_accuracy: 0.5581 - lr: 0.0010\n",
            "Epoch 11/600\n",
            "43/43 [==============================] - 0s 3ms/step - loss: 0.6637 - accuracy: 0.5906 - val_loss: 0.6809 - val_accuracy: 0.5581 - lr: 0.0010\n",
            "Epoch 12/600\n",
            "43/43 [==============================] - 0s 3ms/step - loss: 0.6503 - accuracy: 0.6082 - val_loss: 0.6749 - val_accuracy: 0.5814 - lr: 0.0010\n",
            "Epoch 13/600\n",
            "43/43 [==============================] - 0s 3ms/step - loss: 0.6692 - accuracy: 0.5614 - val_loss: 0.7043 - val_accuracy: 0.5581 - lr: 0.0010\n",
            "Epoch 14/600\n",
            "43/43 [==============================] - 0s 3ms/step - loss: 0.6630 - accuracy: 0.6140 - val_loss: 0.6944 - val_accuracy: 0.6047 - lr: 0.0010\n",
            "Epoch 15/600\n",
            "43/43 [==============================] - 0s 3ms/step - loss: 0.6325 - accuracy: 0.6608 - val_loss: 0.6735 - val_accuracy: 0.6047 - lr: 0.0010\n",
            "Epoch 16/600\n",
            "28/43 [==================>...........] - ETA: 0s - loss: 0.6244 - accuracy: 0.6696INFO:tensorflow:Assets written to: /content/drive/MyDrive/RailCop/New Files/Sakib/models/__timeSeriesTest1.0/assets\n"
          ]
        },
        {
          "output_type": "stream",
          "name": "stderr",
          "text": [
            "INFO:tensorflow:Assets written to: /content/drive/MyDrive/RailCop/New Files/Sakib/models/__timeSeriesTest1.0/assets\n"
          ]
        },
        {
          "output_type": "stream",
          "name": "stdout",
          "text": [
            "43/43 [==============================] - 1s 24ms/step - loss: 0.6256 - accuracy: 0.6550 - val_loss: 0.6858 - val_accuracy: 0.6279 - lr: 0.0010\n",
            "Epoch 17/600\n",
            "43/43 [==============================] - 0s 3ms/step - loss: 0.6429 - accuracy: 0.6374 - val_loss: 0.6729 - val_accuracy: 0.6047 - lr: 0.0010\n",
            "Epoch 18/600\n",
            "43/43 [==============================] - 0s 3ms/step - loss: 0.6565 - accuracy: 0.6199 - val_loss: 0.7032 - val_accuracy: 0.5349 - lr: 0.0010\n",
            "Epoch 19/600\n",
            "30/43 [===================>..........] - ETA: 0s - loss: 0.6344 - accuracy: 0.6917INFO:tensorflow:Assets written to: /content/drive/MyDrive/RailCop/New Files/Sakib/models/__timeSeriesTest1.0/assets\n"
          ]
        },
        {
          "output_type": "stream",
          "name": "stderr",
          "text": [
            "INFO:tensorflow:Assets written to: /content/drive/MyDrive/RailCop/New Files/Sakib/models/__timeSeriesTest1.0/assets\n"
          ]
        },
        {
          "output_type": "stream",
          "name": "stdout",
          "text": [
            "43/43 [==============================] - 1s 21ms/step - loss: 0.6340 - accuracy: 0.6667 - val_loss: 0.6659 - val_accuracy: 0.6512 - lr: 0.0010\n",
            "Epoch 20/600\n",
            "43/43 [==============================] - 0s 3ms/step - loss: 0.6115 - accuracy: 0.6784 - val_loss: 0.6741 - val_accuracy: 0.6047 - lr: 0.0010\n",
            "Epoch 21/600\n",
            "43/43 [==============================] - 0s 3ms/step - loss: 0.6238 - accuracy: 0.6784 - val_loss: 0.6702 - val_accuracy: 0.5814 - lr: 0.0010\n",
            "Epoch 22/600\n",
            "43/43 [==============================] - 0s 3ms/step - loss: 0.6102 - accuracy: 0.6901 - val_loss: 0.6706 - val_accuracy: 0.6512 - lr: 0.0010\n",
            "Epoch 23/600\n",
            "43/43 [==============================] - 0s 2ms/step - loss: 0.6155 - accuracy: 0.6667 - val_loss: 0.6688 - val_accuracy: 0.6047 - lr: 0.0010\n",
            "Epoch 24/600\n",
            "43/43 [==============================] - 0s 3ms/step - loss: 0.6349 - accuracy: 0.6608 - val_loss: 0.6736 - val_accuracy: 0.6279 - lr: 0.0010\n",
            "Epoch 25/600\n",
            "43/43 [==============================] - 0s 3ms/step - loss: 0.6057 - accuracy: 0.6901 - val_loss: 0.6642 - val_accuracy: 0.6512 - lr: 5.0000e-04\n",
            "Epoch 26/600\n",
            "43/43 [==============================] - 0s 3ms/step - loss: 0.5973 - accuracy: 0.6959 - val_loss: 0.6657 - val_accuracy: 0.6512 - lr: 5.0000e-04\n",
            "Epoch 27/600\n",
            "43/43 [==============================] - 0s 2ms/step - loss: 0.6040 - accuracy: 0.6784 - val_loss: 0.6732 - val_accuracy: 0.6047 - lr: 5.0000e-04\n",
            "Epoch 28/600\n",
            "43/43 [==============================] - 0s 3ms/step - loss: 0.6008 - accuracy: 0.6901 - val_loss: 0.6706 - val_accuracy: 0.6047 - lr: 5.0000e-04\n",
            "Epoch 29/600\n",
            "43/43 [==============================] - 0s 3ms/step - loss: 0.5896 - accuracy: 0.7310 - val_loss: 0.6637 - val_accuracy: 0.6512 - lr: 5.0000e-04\n",
            "Epoch 30/600\n",
            "43/43 [==============================] - 0s 3ms/step - loss: 0.5936 - accuracy: 0.6959 - val_loss: 0.6625 - val_accuracy: 0.6512 - lr: 5.0000e-04\n",
            "Epoch 31/600\n",
            "43/43 [==============================] - 0s 3ms/step - loss: 0.5852 - accuracy: 0.7135 - val_loss: 0.6659 - val_accuracy: 0.6512 - lr: 5.0000e-04\n",
            "Epoch 32/600\n",
            "43/43 [==============================] - 0s 2ms/step - loss: 0.5921 - accuracy: 0.6901 - val_loss: 0.6724 - val_accuracy: 0.6279 - lr: 5.0000e-04\n",
            "Epoch 33/600\n",
            "43/43 [==============================] - 0s 3ms/step - loss: 0.5934 - accuracy: 0.7076 - val_loss: 0.6645 - val_accuracy: 0.6512 - lr: 5.0000e-04\n",
            "Epoch 34/600\n",
            "43/43 [==============================] - 0s 2ms/step - loss: 0.5839 - accuracy: 0.7018 - val_loss: 0.6655 - val_accuracy: 0.6512 - lr: 5.0000e-04\n",
            "Epoch 35/600\n",
            "43/43 [==============================] - 0s 2ms/step - loss: 0.5852 - accuracy: 0.6959 - val_loss: 0.6650 - val_accuracy: 0.6512 - lr: 5.0000e-04\n",
            "Epoch 36/600\n",
            "43/43 [==============================] - 0s 3ms/step - loss: 0.5788 - accuracy: 0.7193 - val_loss: 0.6629 - val_accuracy: 0.6512 - lr: 2.5000e-04\n",
            "Epoch 37/600\n",
            "43/43 [==============================] - 0s 3ms/step - loss: 0.5788 - accuracy: 0.7251 - val_loss: 0.6629 - val_accuracy: 0.6512 - lr: 2.5000e-04\n",
            "Epoch 38/600\n",
            "32/43 [=====================>........] - ETA: 0s - loss: 0.5906 - accuracy: 0.6797INFO:tensorflow:Assets written to: /content/drive/MyDrive/RailCop/New Files/Sakib/models/__timeSeriesTest1.0/assets\n"
          ]
        },
        {
          "output_type": "stream",
          "name": "stderr",
          "text": [
            "INFO:tensorflow:Assets written to: /content/drive/MyDrive/RailCop/New Files/Sakib/models/__timeSeriesTest1.0/assets\n"
          ]
        },
        {
          "output_type": "stream",
          "name": "stdout",
          "text": [
            "43/43 [==============================] - 1s 21ms/step - loss: 0.5798 - accuracy: 0.7251 - val_loss: 0.6625 - val_accuracy: 0.6744 - lr: 2.5000e-04\n",
            "Epoch 39/600\n",
            "43/43 [==============================] - 0s 3ms/step - loss: 0.5748 - accuracy: 0.7310 - val_loss: 0.6615 - val_accuracy: 0.6512 - lr: 2.5000e-04\n",
            "Epoch 40/600\n",
            "43/43 [==============================] - 0s 3ms/step - loss: 0.5736 - accuracy: 0.7193 - val_loss: 0.6625 - val_accuracy: 0.6512 - lr: 2.5000e-04\n",
            "Epoch 41/600\n",
            "43/43 [==============================] - 0s 3ms/step - loss: 0.5737 - accuracy: 0.7135 - val_loss: 0.6627 - val_accuracy: 0.6512 - lr: 2.5000e-04\n",
            "Epoch 42/600\n",
            "43/43 [==============================] - 0s 3ms/step - loss: 0.5698 - accuracy: 0.7310 - val_loss: 0.6620 - val_accuracy: 0.6744 - lr: 2.5000e-04\n",
            "Epoch 43/600\n",
            "43/43 [==============================] - 0s 3ms/step - loss: 0.5710 - accuracy: 0.7310 - val_loss: 0.6622 - val_accuracy: 0.6279 - lr: 2.5000e-04\n",
            "Epoch 44/600\n",
            "43/43 [==============================] - 0s 2ms/step - loss: 0.5710 - accuracy: 0.7076 - val_loss: 0.6645 - val_accuracy: 0.6047 - lr: 2.5000e-04\n",
            "Epoch 45/600\n",
            "43/43 [==============================] - 0s 3ms/step - loss: 0.5684 - accuracy: 0.7193 - val_loss: 0.6613 - val_accuracy: 0.6279 - lr: 1.2500e-04\n",
            "Epoch 46/600\n",
            "43/43 [==============================] - 0s 3ms/step - loss: 0.5689 - accuracy: 0.7310 - val_loss: 0.6609 - val_accuracy: 0.6512 - lr: 1.2500e-04\n",
            "Epoch 47/600\n",
            "43/43 [==============================] - 0s 3ms/step - loss: 0.5670 - accuracy: 0.7310 - val_loss: 0.6609 - val_accuracy: 0.6512 - lr: 1.2500e-04\n",
            "Epoch 48/600\n",
            "43/43 [==============================] - 0s 3ms/step - loss: 0.5737 - accuracy: 0.7076 - val_loss: 0.6611 - val_accuracy: 0.6279 - lr: 1.2500e-04\n",
            "Epoch 49/600\n",
            "43/43 [==============================] - 0s 3ms/step - loss: 0.5655 - accuracy: 0.7368 - val_loss: 0.6610 - val_accuracy: 0.6512 - lr: 1.2500e-04\n",
            "Epoch 50/600\n",
            "43/43 [==============================] - 0s 3ms/step - loss: 0.5654 - accuracy: 0.7310 - val_loss: 0.6612 - val_accuracy: 0.6279 - lr: 1.2500e-04\n",
            "Epoch 51/600\n",
            "43/43 [==============================] - 0s 3ms/step - loss: 0.5661 - accuracy: 0.7251 - val_loss: 0.6619 - val_accuracy: 0.6512 - lr: 1.2500e-04\n",
            "Epoch 52/600\n",
            "43/43 [==============================] - 0s 3ms/step - loss: 0.5649 - accuracy: 0.7310 - val_loss: 0.6611 - val_accuracy: 0.6512 - lr: 6.2500e-05\n",
            "Epoch 53/600\n",
            "43/43 [==============================] - 0s 3ms/step - loss: 0.5641 - accuracy: 0.7251 - val_loss: 0.6614 - val_accuracy: 0.6512 - lr: 6.2500e-05\n",
            "Epoch 54/600\n",
            "43/43 [==============================] - 0s 3ms/step - loss: 0.5650 - accuracy: 0.7427 - val_loss: 0.6608 - val_accuracy: 0.6279 - lr: 6.2500e-05\n",
            "Epoch 55/600\n",
            "43/43 [==============================] - 0s 2ms/step - loss: 0.5651 - accuracy: 0.7310 - val_loss: 0.6606 - val_accuracy: 0.6512 - lr: 6.2500e-05\n",
            "Epoch 56/600\n",
            "43/43 [==============================] - 0s 3ms/step - loss: 0.5640 - accuracy: 0.7368 - val_loss: 0.6608 - val_accuracy: 0.6512 - lr: 6.2500e-05\n",
            "Epoch 57/600\n",
            "43/43 [==============================] - 0s 3ms/step - loss: 0.5633 - accuracy: 0.7368 - val_loss: 0.6606 - val_accuracy: 0.6279 - lr: 6.2500e-05\n",
            "Epoch 58/600\n",
            "43/43 [==============================] - 0s 3ms/step - loss: 0.5630 - accuracy: 0.7368 - val_loss: 0.6607 - val_accuracy: 0.6512 - lr: 6.2500e-05\n",
            "Epoch 59/600\n",
            "43/43 [==============================] - 0s 3ms/step - loss: 0.5627 - accuracy: 0.7310 - val_loss: 0.6609 - val_accuracy: 0.6512 - lr: 6.2500e-05\n",
            "Epoch 60/600\n",
            "43/43 [==============================] - 0s 3ms/step - loss: 0.5634 - accuracy: 0.7310 - val_loss: 0.6609 - val_accuracy: 0.6512 - lr: 6.2500e-05\n",
            "Epoch 61/600\n",
            "43/43 [==============================] - 0s 4ms/step - loss: 0.5634 - accuracy: 0.7251 - val_loss: 0.6607 - val_accuracy: 0.6512 - lr: 3.1250e-05\n",
            "Epoch 62/600\n",
            "43/43 [==============================] - 0s 3ms/step - loss: 0.5624 - accuracy: 0.7310 - val_loss: 0.6605 - val_accuracy: 0.6512 - lr: 3.1250e-05\n",
            "Epoch 63/600\n",
            "43/43 [==============================] - 0s 3ms/step - loss: 0.5642 - accuracy: 0.7193 - val_loss: 0.6610 - val_accuracy: 0.6512 - lr: 3.1250e-05\n",
            "Epoch 64/600\n",
            "43/43 [==============================] - 0s 3ms/step - loss: 0.5622 - accuracy: 0.7310 - val_loss: 0.6606 - val_accuracy: 0.6512 - lr: 3.1250e-05\n",
            "Epoch 65/600\n",
            "43/43 [==============================] - 0s 3ms/step - loss: 0.5621 - accuracy: 0.7310 - val_loss: 0.6606 - val_accuracy: 0.6279 - lr: 3.1250e-05\n",
            "Epoch 66/600\n",
            "43/43 [==============================] - 0s 3ms/step - loss: 0.5617 - accuracy: 0.7310 - val_loss: 0.6605 - val_accuracy: 0.6279 - lr: 1.5625e-05\n",
            "Epoch 67/600\n",
            "43/43 [==============================] - 0s 3ms/step - loss: 0.5616 - accuracy: 0.7251 - val_loss: 0.6607 - val_accuracy: 0.6512 - lr: 1.5625e-05\n",
            "Epoch 68/600\n",
            "43/43 [==============================] - 0s 3ms/step - loss: 0.5614 - accuracy: 0.7310 - val_loss: 0.6607 - val_accuracy: 0.6512 - lr: 1.5625e-05\n",
            "Epoch 69/600\n",
            "43/43 [==============================] - 0s 3ms/step - loss: 0.5614 - accuracy: 0.7251 - val_loss: 0.6607 - val_accuracy: 0.6512 - lr: 1.5625e-05\n",
            "Epoch 70/600\n",
            "43/43 [==============================] - 0s 3ms/step - loss: 0.5614 - accuracy: 0.7251 - val_loss: 0.6608 - val_accuracy: 0.6512 - lr: 1.5625e-05\n",
            "Epoch 71/600\n",
            "43/43 [==============================] - 0s 3ms/step - loss: 0.5614 - accuracy: 0.7310 - val_loss: 0.6607 - val_accuracy: 0.6512 - lr: 1.5625e-05\n",
            "Epoch 72/600\n",
            "43/43 [==============================] - 0s 3ms/step - loss: 0.5611 - accuracy: 0.7310 - val_loss: 0.6607 - val_accuracy: 0.6512 - lr: 7.8125e-06\n",
            "Epoch 73/600\n",
            "43/43 [==============================] - 0s 3ms/step - loss: 0.5612 - accuracy: 0.7310 - val_loss: 0.6607 - val_accuracy: 0.6512 - lr: 7.8125e-06\n",
            "Epoch 74/600\n",
            "43/43 [==============================] - 0s 3ms/step - loss: 0.5611 - accuracy: 0.7310 - val_loss: 0.6607 - val_accuracy: 0.6512 - lr: 7.8125e-06\n",
            "Epoch 75/600\n",
            "43/43 [==============================] - 0s 3ms/step - loss: 0.5611 - accuracy: 0.7310 - val_loss: 0.6607 - val_accuracy: 0.6512 - lr: 7.8125e-06\n",
            "Epoch 76/600\n",
            "43/43 [==============================] - 0s 2ms/step - loss: 0.5611 - accuracy: 0.7251 - val_loss: 0.6606 - val_accuracy: 0.6512 - lr: 7.8125e-06\n",
            "Epoch 77/600\n",
            "43/43 [==============================] - 0s 3ms/step - loss: 0.5610 - accuracy: 0.7310 - val_loss: 0.6607 - val_accuracy: 0.6512 - lr: 3.9063e-06\n",
            "Epoch 78/600\n",
            "43/43 [==============================] - 0s 3ms/step - loss: 0.5610 - accuracy: 0.7310 - val_loss: 0.6607 - val_accuracy: 0.6512 - lr: 3.9063e-06\n",
            "Epoch 79/600\n",
            "43/43 [==============================] - 0s 3ms/step - loss: 0.5611 - accuracy: 0.7310 - val_loss: 0.6607 - val_accuracy: 0.6512 - lr: 3.9063e-06\n",
            "Epoch 80/600\n",
            "43/43 [==============================] - 0s 3ms/step - loss: 0.5611 - accuracy: 0.7310 - val_loss: 0.6607 - val_accuracy: 0.6512 - lr: 3.9063e-06\n",
            "Epoch 81/600\n",
            "43/43 [==============================] - 0s 3ms/step - loss: 0.5609 - accuracy: 0.7310 - val_loss: 0.6607 - val_accuracy: 0.6512 - lr: 3.9063e-06\n",
            "Epoch 82/600\n",
            "43/43 [==============================] - 0s 3ms/step - loss: 0.5608 - accuracy: 0.7310 - val_loss: 0.6607 - val_accuracy: 0.6512 - lr: 1.9531e-06\n",
            "Epoch 83/600\n",
            "43/43 [==============================] - 0s 3ms/step - loss: 0.5608 - accuracy: 0.7310 - val_loss: 0.6607 - val_accuracy: 0.6512 - lr: 1.9531e-06\n",
            "Epoch 84/600\n",
            "43/43 [==============================] - 0s 3ms/step - loss: 0.5608 - accuracy: 0.7310 - val_loss: 0.6607 - val_accuracy: 0.6512 - lr: 1.9531e-06\n",
            "Epoch 85/600\n",
            "43/43 [==============================] - 0s 2ms/step - loss: 0.5609 - accuracy: 0.7310 - val_loss: 0.6607 - val_accuracy: 0.6512 - lr: 1.9531e-06\n",
            "Epoch 86/600\n",
            "43/43 [==============================] - 0s 3ms/step - loss: 0.5608 - accuracy: 0.7310 - val_loss: 0.6606 - val_accuracy: 0.6512 - lr: 1.9531e-06\n",
            "Epoch 87/600\n",
            "43/43 [==============================] - 0s 3ms/step - loss: 0.5608 - accuracy: 0.7251 - val_loss: 0.6607 - val_accuracy: 0.6512 - lr: 9.7656e-07\n",
            "Epoch 88/600\n",
            "43/43 [==============================] - 0s 3ms/step - loss: 0.5608 - accuracy: 0.7310 - val_loss: 0.6606 - val_accuracy: 0.6512 - lr: 9.7656e-07\n",
            "Epoch 89/600\n",
            "43/43 [==============================] - 0s 3ms/step - loss: 0.5608 - accuracy: 0.7310 - val_loss: 0.6607 - val_accuracy: 0.6512 - lr: 9.7656e-07\n",
            "Epoch 90/600\n",
            "43/43 [==============================] - 0s 3ms/step - loss: 0.5608 - accuracy: 0.7251 - val_loss: 0.6606 - val_accuracy: 0.6512 - lr: 9.7656e-07\n",
            "Epoch 91/600\n",
            "43/43 [==============================] - 0s 3ms/step - loss: 0.5608 - accuracy: 0.7310 - val_loss: 0.6607 - val_accuracy: 0.6512 - lr: 9.7656e-07\n",
            "Epoch 92/600\n",
            "43/43 [==============================] - 0s 3ms/step - loss: 0.5608 - accuracy: 0.7310 - val_loss: 0.6607 - val_accuracy: 0.6512 - lr: 4.8828e-07\n",
            "Epoch 93/600\n",
            "43/43 [==============================] - 0s 3ms/step - loss: 0.5608 - accuracy: 0.7310 - val_loss: 0.6607 - val_accuracy: 0.6512 - lr: 4.8828e-07\n",
            "Epoch 94/600\n",
            "43/43 [==============================] - 0s 3ms/step - loss: 0.5608 - accuracy: 0.7310 - val_loss: 0.6607 - val_accuracy: 0.6512 - lr: 4.8828e-07\n",
            "Epoch 95/600\n",
            "43/43 [==============================] - 0s 3ms/step - loss: 0.5608 - accuracy: 0.7310 - val_loss: 0.6607 - val_accuracy: 0.6512 - lr: 4.8828e-07\n",
            "Epoch 96/600\n",
            "43/43 [==============================] - 0s 3ms/step - loss: 0.5608 - accuracy: 0.7310 - val_loss: 0.6607 - val_accuracy: 0.6512 - lr: 4.8828e-07\n",
            "Epoch 97/600\n",
            "43/43 [==============================] - 0s 3ms/step - loss: 0.5608 - accuracy: 0.7310 - val_loss: 0.6607 - val_accuracy: 0.6512 - lr: 2.4414e-07\n",
            "Epoch 98/600\n",
            "43/43 [==============================] - 0s 3ms/step - loss: 0.5608 - accuracy: 0.7310 - val_loss: 0.6607 - val_accuracy: 0.6512 - lr: 2.4414e-07\n",
            "Epoch 99/600\n",
            "43/43 [==============================] - 0s 3ms/step - loss: 0.5608 - accuracy: 0.7310 - val_loss: 0.6607 - val_accuracy: 0.6512 - lr: 2.4414e-07\n",
            "Epoch 100/600\n",
            "43/43 [==============================] - 0s 3ms/step - loss: 0.5608 - accuracy: 0.7310 - val_loss: 0.6607 - val_accuracy: 0.6512 - lr: 2.4414e-07\n",
            "Epoch 101/600\n",
            "43/43 [==============================] - 0s 3ms/step - loss: 0.5608 - accuracy: 0.7310 - val_loss: 0.6607 - val_accuracy: 0.6512 - lr: 2.4414e-07\n",
            "Epoch 102/600\n",
            "43/43 [==============================] - 0s 3ms/step - loss: 0.5607 - accuracy: 0.7310 - val_loss: 0.6607 - val_accuracy: 0.6512 - lr: 1.2207e-07\n",
            "Epoch 103/600\n",
            "43/43 [==============================] - 0s 3ms/step - loss: 0.5607 - accuracy: 0.7310 - val_loss: 0.6607 - val_accuracy: 0.6512 - lr: 1.2207e-07\n",
            "Epoch 104/600\n",
            "43/43 [==============================] - 0s 3ms/step - loss: 0.5607 - accuracy: 0.7310 - val_loss: 0.6607 - val_accuracy: 0.6512 - lr: 1.2207e-07\n",
            "Epoch 105/600\n",
            "43/43 [==============================] - 0s 3ms/step - loss: 0.5607 - accuracy: 0.7310 - val_loss: 0.6607 - val_accuracy: 0.6512 - lr: 1.2207e-07\n",
            "Epoch 106/600\n",
            "43/43 [==============================] - 0s 3ms/step - loss: 0.5607 - accuracy: 0.7310 - val_loss: 0.6607 - val_accuracy: 0.6512 - lr: 1.2207e-07\n",
            "Epoch 107/600\n",
            "43/43 [==============================] - 0s 3ms/step - loss: 0.5607 - accuracy: 0.7310 - val_loss: 0.6607 - val_accuracy: 0.6512 - lr: 6.1035e-08\n",
            "Epoch 108/600\n",
            "43/43 [==============================] - 0s 3ms/step - loss: 0.5607 - accuracy: 0.7310 - val_loss: 0.6607 - val_accuracy: 0.6512 - lr: 6.1035e-08\n",
            "Epoch 109/600\n",
            "43/43 [==============================] - 0s 3ms/step - loss: 0.5607 - accuracy: 0.7310 - val_loss: 0.6607 - val_accuracy: 0.6512 - lr: 6.1035e-08\n",
            "Epoch 110/600\n",
            "43/43 [==============================] - 0s 3ms/step - loss: 0.5607 - accuracy: 0.7310 - val_loss: 0.6607 - val_accuracy: 0.6512 - lr: 6.1035e-08\n",
            "Epoch 111/600\n",
            "43/43 [==============================] - 0s 3ms/step - loss: 0.5607 - accuracy: 0.7310 - val_loss: 0.6607 - val_accuracy: 0.6512 - lr: 6.1035e-08\n",
            "Epoch 112/600\n",
            "43/43 [==============================] - 0s 3ms/step - loss: 0.5607 - accuracy: 0.7310 - val_loss: 0.6607 - val_accuracy: 0.6512 - lr: 3.0518e-08\n",
            "Epoch 113/600\n",
            "43/43 [==============================] - 0s 3ms/step - loss: 0.5607 - accuracy: 0.7310 - val_loss: 0.6607 - val_accuracy: 0.6512 - lr: 3.0518e-08\n",
            "Epoch 114/600\n",
            "43/43 [==============================] - 0s 3ms/step - loss: 0.5607 - accuracy: 0.7310 - val_loss: 0.6607 - val_accuracy: 0.6512 - lr: 3.0518e-08\n",
            "Epoch 115/600\n",
            "43/43 [==============================] - 0s 3ms/step - loss: 0.5607 - accuracy: 0.7310 - val_loss: 0.6607 - val_accuracy: 0.6512 - lr: 3.0518e-08\n",
            "Epoch 116/600\n",
            "43/43 [==============================] - 0s 3ms/step - loss: 0.5607 - accuracy: 0.7310 - val_loss: 0.6607 - val_accuracy: 0.6512 - lr: 3.0518e-08\n",
            "Epoch 117/600\n",
            "43/43 [==============================] - 0s 3ms/step - loss: 0.5607 - accuracy: 0.7310 - val_loss: 0.6607 - val_accuracy: 0.6512 - lr: 1.5259e-08\n",
            "Epoch 118/600\n",
            "43/43 [==============================] - 0s 3ms/step - loss: 0.5607 - accuracy: 0.7310 - val_loss: 0.6607 - val_accuracy: 0.6512 - lr: 1.5259e-08\n",
            "Epoch 119/600\n",
            "43/43 [==============================] - 0s 3ms/step - loss: 0.5607 - accuracy: 0.7310 - val_loss: 0.6607 - val_accuracy: 0.6512 - lr: 1.5259e-08\n",
            "Epoch 120/600\n",
            "43/43 [==============================] - 0s 3ms/step - loss: 0.5607 - accuracy: 0.7310 - val_loss: 0.6607 - val_accuracy: 0.6512 - lr: 1.5259e-08\n",
            "Epoch 121/600\n",
            "43/43 [==============================] - 0s 3ms/step - loss: 0.5607 - accuracy: 0.7310 - val_loss: 0.6607 - val_accuracy: 0.6512 - lr: 1.5259e-08\n",
            "Epoch 122/600\n",
            "43/43 [==============================] - 0s 3ms/step - loss: 0.5607 - accuracy: 0.7310 - val_loss: 0.6607 - val_accuracy: 0.6512 - lr: 7.6294e-09\n",
            "Epoch 123/600\n",
            "43/43 [==============================] - 0s 3ms/step - loss: 0.5607 - accuracy: 0.7310 - val_loss: 0.6607 - val_accuracy: 0.6512 - lr: 7.6294e-09\n",
            "Epoch 124/600\n",
            "43/43 [==============================] - 0s 3ms/step - loss: 0.5607 - accuracy: 0.7310 - val_loss: 0.6607 - val_accuracy: 0.6512 - lr: 7.6294e-09\n",
            "Epoch 125/600\n",
            "43/43 [==============================] - 0s 3ms/step - loss: 0.5607 - accuracy: 0.7310 - val_loss: 0.6607 - val_accuracy: 0.6512 - lr: 7.6294e-09\n",
            "Epoch 126/600\n",
            "43/43 [==============================] - 0s 3ms/step - loss: 0.5607 - accuracy: 0.7310 - val_loss: 0.6607 - val_accuracy: 0.6512 - lr: 7.6294e-09\n",
            "Epoch 127/600\n",
            "43/43 [==============================] - 0s 3ms/step - loss: 0.5607 - accuracy: 0.7310 - val_loss: 0.6607 - val_accuracy: 0.6512 - lr: 3.8147e-09\n",
            "Epoch 128/600\n",
            "43/43 [==============================] - 0s 3ms/step - loss: 0.5607 - accuracy: 0.7310 - val_loss: 0.6607 - val_accuracy: 0.6512 - lr: 3.8147e-09\n",
            "Epoch 129/600\n",
            "43/43 [==============================] - 0s 3ms/step - loss: 0.5607 - accuracy: 0.7310 - val_loss: 0.6607 - val_accuracy: 0.6512 - lr: 3.8147e-09\n",
            "Epoch 130/600\n",
            "43/43 [==============================] - 0s 3ms/step - loss: 0.5607 - accuracy: 0.7310 - val_loss: 0.6607 - val_accuracy: 0.6512 - lr: 3.8147e-09\n",
            "Epoch 131/600\n",
            "43/43 [==============================] - 0s 2ms/step - loss: 0.5607 - accuracy: 0.7310 - val_loss: 0.6607 - val_accuracy: 0.6512 - lr: 3.8147e-09\n",
            "Epoch 132/600\n",
            "43/43 [==============================] - 0s 2ms/step - loss: 0.5607 - accuracy: 0.7310 - val_loss: 0.6607 - val_accuracy: 0.6512 - lr: 1.9073e-09\n",
            "Epoch 133/600\n",
            "43/43 [==============================] - 0s 3ms/step - loss: 0.5607 - accuracy: 0.7310 - val_loss: 0.6607 - val_accuracy: 0.6512 - lr: 1.9073e-09\n",
            "Epoch 134/600\n",
            "43/43 [==============================] - 0s 3ms/step - loss: 0.5607 - accuracy: 0.7310 - val_loss: 0.6607 - val_accuracy: 0.6512 - lr: 1.9073e-09\n",
            "Epoch 135/600\n",
            "43/43 [==============================] - 0s 3ms/step - loss: 0.5607 - accuracy: 0.7310 - val_loss: 0.6607 - val_accuracy: 0.6512 - lr: 1.9073e-09\n",
            "Epoch 136/600\n",
            "43/43 [==============================] - 0s 3ms/step - loss: 0.5607 - accuracy: 0.7310 - val_loss: 0.6607 - val_accuracy: 0.6512 - lr: 1.9073e-09\n",
            "Epoch 137/600\n",
            "43/43 [==============================] - 0s 3ms/step - loss: 0.5607 - accuracy: 0.7310 - val_loss: 0.6607 - val_accuracy: 0.6512 - lr: 9.5367e-10\n",
            "Epoch 138/600\n",
            "43/43 [==============================] - 0s 3ms/step - loss: 0.5607 - accuracy: 0.7310 - val_loss: 0.6607 - val_accuracy: 0.6512 - lr: 9.5367e-10\n",
            "Epoch 139/600\n",
            "43/43 [==============================] - 0s 2ms/step - loss: 0.5607 - accuracy: 0.7310 - val_loss: 0.6607 - val_accuracy: 0.6512 - lr: 9.5367e-10\n",
            "Epoch 140/600\n",
            "43/43 [==============================] - 0s 3ms/step - loss: 0.5607 - accuracy: 0.7310 - val_loss: 0.6607 - val_accuracy: 0.6512 - lr: 9.5367e-10\n",
            "Epoch 141/600\n",
            "43/43 [==============================] - 0s 3ms/step - loss: 0.5607 - accuracy: 0.7310 - val_loss: 0.6607 - val_accuracy: 0.6512 - lr: 9.5367e-10\n",
            "Epoch 142/600\n",
            "43/43 [==============================] - 0s 3ms/step - loss: 0.5607 - accuracy: 0.7310 - val_loss: 0.6607 - val_accuracy: 0.6512 - lr: 4.7684e-10\n",
            "Epoch 143/600\n",
            "43/43 [==============================] - 0s 3ms/step - loss: 0.5607 - accuracy: 0.7310 - val_loss: 0.6607 - val_accuracy: 0.6512 - lr: 4.7684e-10\n",
            "Epoch 144/600\n",
            "43/43 [==============================] - 0s 3ms/step - loss: 0.5607 - accuracy: 0.7310 - val_loss: 0.6607 - val_accuracy: 0.6512 - lr: 4.7684e-10\n",
            "Epoch 145/600\n",
            "43/43 [==============================] - 0s 3ms/step - loss: 0.5607 - accuracy: 0.7310 - val_loss: 0.6607 - val_accuracy: 0.6512 - lr: 4.7684e-10\n",
            "Epoch 146/600\n",
            "43/43 [==============================] - 0s 3ms/step - loss: 0.5607 - accuracy: 0.7310 - val_loss: 0.6607 - val_accuracy: 0.6512 - lr: 4.7684e-10\n",
            "Epoch 147/600\n",
            "43/43 [==============================] - 0s 2ms/step - loss: 0.5607 - accuracy: 0.7310 - val_loss: 0.6607 - val_accuracy: 0.6512 - lr: 2.3842e-10\n",
            "Epoch 148/600\n",
            "43/43 [==============================] - 0s 3ms/step - loss: 0.5607 - accuracy: 0.7310 - val_loss: 0.6607 - val_accuracy: 0.6512 - lr: 2.3842e-10\n",
            "Epoch 149/600\n",
            "43/43 [==============================] - 0s 3ms/step - loss: 0.5607 - accuracy: 0.7310 - val_loss: 0.6607 - val_accuracy: 0.6512 - lr: 2.3842e-10\n",
            "Epoch 150/600\n",
            "43/43 [==============================] - 0s 3ms/step - loss: 0.5607 - accuracy: 0.7310 - val_loss: 0.6607 - val_accuracy: 0.6512 - lr: 2.3842e-10\n",
            "Epoch 151/600\n",
            "43/43 [==============================] - 0s 3ms/step - loss: 0.5607 - accuracy: 0.7310 - val_loss: 0.6607 - val_accuracy: 0.6512 - lr: 2.3842e-10\n",
            "Epoch 152/600\n",
            "43/43 [==============================] - 0s 3ms/step - loss: 0.5607 - accuracy: 0.7310 - val_loss: 0.6607 - val_accuracy: 0.6512 - lr: 1.1921e-10\n",
            "Epoch 153/600\n",
            "43/43 [==============================] - 0s 3ms/step - loss: 0.5607 - accuracy: 0.7310 - val_loss: 0.6607 - val_accuracy: 0.6512 - lr: 1.1921e-10\n",
            "Epoch 154/600\n",
            "43/43 [==============================] - 0s 2ms/step - loss: 0.5607 - accuracy: 0.7310 - val_loss: 0.6607 - val_accuracy: 0.6512 - lr: 1.1921e-10\n",
            "Epoch 155/600\n",
            "43/43 [==============================] - 0s 2ms/step - loss: 0.5607 - accuracy: 0.7310 - val_loss: 0.6607 - val_accuracy: 0.6512 - lr: 1.1921e-10\n",
            "Epoch 156/600\n",
            "43/43 [==============================] - 0s 3ms/step - loss: 0.5607 - accuracy: 0.7310 - val_loss: 0.6607 - val_accuracy: 0.6512 - lr: 1.1921e-10\n",
            "Epoch 157/600\n",
            "43/43 [==============================] - 0s 3ms/step - loss: 0.5607 - accuracy: 0.7310 - val_loss: 0.6607 - val_accuracy: 0.6512 - lr: 5.9605e-11\n",
            "Epoch 158/600\n",
            "43/43 [==============================] - 0s 3ms/step - loss: 0.5607 - accuracy: 0.7310 - val_loss: 0.6607 - val_accuracy: 0.6512 - lr: 5.9605e-11\n",
            "Epoch 159/600\n",
            "43/43 [==============================] - 0s 3ms/step - loss: 0.5607 - accuracy: 0.7310 - val_loss: 0.6607 - val_accuracy: 0.6512 - lr: 5.9605e-11\n",
            "Epoch 160/600\n",
            "43/43 [==============================] - 0s 3ms/step - loss: 0.5607 - accuracy: 0.7310 - val_loss: 0.6607 - val_accuracy: 0.6512 - lr: 5.9605e-11\n",
            "Epoch 161/600\n",
            "43/43 [==============================] - 0s 3ms/step - loss: 0.5607 - accuracy: 0.7310 - val_loss: 0.6607 - val_accuracy: 0.6512 - lr: 5.9605e-11\n",
            "Epoch 162/600\n",
            "43/43 [==============================] - 0s 3ms/step - loss: 0.5607 - accuracy: 0.7310 - val_loss: 0.6607 - val_accuracy: 0.6512 - lr: 2.9802e-11\n",
            "Epoch 163/600\n",
            "43/43 [==============================] - 0s 3ms/step - loss: 0.5607 - accuracy: 0.7310 - val_loss: 0.6607 - val_accuracy: 0.6512 - lr: 2.9802e-11\n",
            "Epoch 164/600\n",
            "43/43 [==============================] - 0s 3ms/step - loss: 0.5607 - accuracy: 0.7310 - val_loss: 0.6607 - val_accuracy: 0.6512 - lr: 2.9802e-11\n",
            "Epoch 165/600\n",
            "43/43 [==============================] - 0s 2ms/step - loss: 0.5607 - accuracy: 0.7310 - val_loss: 0.6607 - val_accuracy: 0.6512 - lr: 2.9802e-11\n",
            "Epoch 166/600\n",
            "43/43 [==============================] - 0s 3ms/step - loss: 0.5607 - accuracy: 0.7310 - val_loss: 0.6607 - val_accuracy: 0.6512 - lr: 2.9802e-11\n",
            "Epoch 167/600\n",
            "43/43 [==============================] - 0s 3ms/step - loss: 0.5607 - accuracy: 0.7310 - val_loss: 0.6607 - val_accuracy: 0.6512 - lr: 1.4901e-11\n",
            "Epoch 168/600\n",
            "43/43 [==============================] - 0s 3ms/step - loss: 0.5607 - accuracy: 0.7310 - val_loss: 0.6607 - val_accuracy: 0.6512 - lr: 1.4901e-11\n",
            "Epoch 169/600\n",
            "43/43 [==============================] - 0s 3ms/step - loss: 0.5607 - accuracy: 0.7310 - val_loss: 0.6607 - val_accuracy: 0.6512 - lr: 1.4901e-11\n",
            "Epoch 170/600\n",
            "43/43 [==============================] - 0s 3ms/step - loss: 0.5607 - accuracy: 0.7310 - val_loss: 0.6607 - val_accuracy: 0.6512 - lr: 1.4901e-11\n",
            "Epoch 171/600\n",
            "43/43 [==============================] - 0s 3ms/step - loss: 0.5607 - accuracy: 0.7310 - val_loss: 0.6607 - val_accuracy: 0.6512 - lr: 1.4901e-11\n",
            "Epoch 172/600\n",
            "43/43 [==============================] - 0s 3ms/step - loss: 0.5607 - accuracy: 0.7310 - val_loss: 0.6607 - val_accuracy: 0.6512 - lr: 7.4506e-12\n",
            "Epoch 173/600\n",
            "43/43 [==============================] - 0s 3ms/step - loss: 0.5607 - accuracy: 0.7310 - val_loss: 0.6607 - val_accuracy: 0.6512 - lr: 7.4506e-12\n",
            "Epoch 174/600\n",
            "43/43 [==============================] - 0s 3ms/step - loss: 0.5607 - accuracy: 0.7310 - val_loss: 0.6607 - val_accuracy: 0.6512 - lr: 7.4506e-12\n",
            "Epoch 175/600\n",
            "43/43 [==============================] - 0s 3ms/step - loss: 0.5607 - accuracy: 0.7310 - val_loss: 0.6607 - val_accuracy: 0.6512 - lr: 7.4506e-12\n",
            "Epoch 176/600\n",
            "43/43 [==============================] - 0s 3ms/step - loss: 0.5607 - accuracy: 0.7310 - val_loss: 0.6607 - val_accuracy: 0.6512 - lr: 7.4506e-12\n",
            "Epoch 177/600\n",
            "43/43 [==============================] - 0s 3ms/step - loss: 0.5607 - accuracy: 0.7310 - val_loss: 0.6607 - val_accuracy: 0.6512 - lr: 3.7253e-12\n",
            "Epoch 178/600\n",
            "43/43 [==============================] - 0s 3ms/step - loss: 0.5607 - accuracy: 0.7310 - val_loss: 0.6607 - val_accuracy: 0.6512 - lr: 3.7253e-12\n",
            "Epoch 179/600\n",
            "43/43 [==============================] - 0s 3ms/step - loss: 0.5607 - accuracy: 0.7310 - val_loss: 0.6607 - val_accuracy: 0.6512 - lr: 3.7253e-12\n",
            "Epoch 180/600\n",
            "43/43 [==============================] - 0s 3ms/step - loss: 0.5607 - accuracy: 0.7310 - val_loss: 0.6607 - val_accuracy: 0.6512 - lr: 3.7253e-12\n",
            "Epoch 181/600\n",
            "43/43 [==============================] - 0s 3ms/step - loss: 0.5607 - accuracy: 0.7310 - val_loss: 0.6607 - val_accuracy: 0.6512 - lr: 3.7253e-12\n",
            "Epoch 182/600\n",
            "43/43 [==============================] - 0s 3ms/step - loss: 0.5607 - accuracy: 0.7310 - val_loss: 0.6607 - val_accuracy: 0.6512 - lr: 1.8626e-12\n",
            "Epoch 183/600\n",
            "43/43 [==============================] - 0s 3ms/step - loss: 0.5607 - accuracy: 0.7310 - val_loss: 0.6607 - val_accuracy: 0.6512 - lr: 1.8626e-12\n",
            "Epoch 184/600\n",
            "43/43 [==============================] - 0s 3ms/step - loss: 0.5607 - accuracy: 0.7310 - val_loss: 0.6607 - val_accuracy: 0.6512 - lr: 1.8626e-12\n",
            "Epoch 185/600\n",
            "43/43 [==============================] - 0s 3ms/step - loss: 0.5607 - accuracy: 0.7310 - val_loss: 0.6607 - val_accuracy: 0.6512 - lr: 1.8626e-12\n",
            "Epoch 186/600\n",
            "43/43 [==============================] - 0s 3ms/step - loss: 0.5607 - accuracy: 0.7310 - val_loss: 0.6607 - val_accuracy: 0.6512 - lr: 1.8626e-12\n",
            "Epoch 187/600\n",
            "43/43 [==============================] - 0s 3ms/step - loss: 0.5607 - accuracy: 0.7310 - val_loss: 0.6607 - val_accuracy: 0.6512 - lr: 9.3132e-13\n",
            "Epoch 188/600\n",
            "43/43 [==============================] - 0s 3ms/step - loss: 0.5607 - accuracy: 0.7310 - val_loss: 0.6607 - val_accuracy: 0.6512 - lr: 9.3132e-13\n",
            "Epoch 189/600\n",
            "43/43 [==============================] - 0s 2ms/step - loss: 0.5607 - accuracy: 0.7310 - val_loss: 0.6607 - val_accuracy: 0.6512 - lr: 9.3132e-13\n",
            "Epoch 190/600\n",
            "43/43 [==============================] - 0s 3ms/step - loss: 0.5607 - accuracy: 0.7310 - val_loss: 0.6607 - val_accuracy: 0.6512 - lr: 9.3132e-13\n",
            "Epoch 191/600\n",
            "43/43 [==============================] - 0s 3ms/step - loss: 0.5607 - accuracy: 0.7310 - val_loss: 0.6607 - val_accuracy: 0.6512 - lr: 9.3132e-13\n",
            "Epoch 192/600\n",
            "43/43 [==============================] - 0s 3ms/step - loss: 0.5607 - accuracy: 0.7310 - val_loss: 0.6607 - val_accuracy: 0.6512 - lr: 4.6566e-13\n",
            "Epoch 193/600\n",
            "43/43 [==============================] - 0s 3ms/step - loss: 0.5607 - accuracy: 0.7310 - val_loss: 0.6607 - val_accuracy: 0.6512 - lr: 4.6566e-13\n",
            "Epoch 194/600\n",
            "43/43 [==============================] - 0s 3ms/step - loss: 0.5607 - accuracy: 0.7310 - val_loss: 0.6607 - val_accuracy: 0.6512 - lr: 4.6566e-13\n",
            "Epoch 195/600\n",
            "43/43 [==============================] - 0s 3ms/step - loss: 0.5607 - accuracy: 0.7310 - val_loss: 0.6607 - val_accuracy: 0.6512 - lr: 4.6566e-13\n",
            "Epoch 196/600\n",
            "43/43 [==============================] - 0s 3ms/step - loss: 0.5607 - accuracy: 0.7310 - val_loss: 0.6607 - val_accuracy: 0.6512 - lr: 4.6566e-13\n",
            "Epoch 197/600\n",
            "43/43 [==============================] - 0s 3ms/step - loss: 0.5607 - accuracy: 0.7310 - val_loss: 0.6607 - val_accuracy: 0.6512 - lr: 2.3283e-13\n",
            "Epoch 198/600\n",
            "43/43 [==============================] - 0s 3ms/step - loss: 0.5607 - accuracy: 0.7310 - val_loss: 0.6607 - val_accuracy: 0.6512 - lr: 2.3283e-13\n",
            "Epoch 199/600\n",
            "43/43 [==============================] - 0s 3ms/step - loss: 0.5607 - accuracy: 0.7310 - val_loss: 0.6607 - val_accuracy: 0.6512 - lr: 2.3283e-13\n",
            "Epoch 200/600\n",
            "43/43 [==============================] - 0s 3ms/step - loss: 0.5607 - accuracy: 0.7310 - val_loss: 0.6607 - val_accuracy: 0.6512 - lr: 2.3283e-13\n",
            "Epoch 201/600\n",
            "43/43 [==============================] - 0s 3ms/step - loss: 0.5607 - accuracy: 0.7310 - val_loss: 0.6607 - val_accuracy: 0.6512 - lr: 2.3283e-13\n",
            "Epoch 202/600\n",
            "43/43 [==============================] - 0s 2ms/step - loss: 0.5607 - accuracy: 0.7310 - val_loss: 0.6607 - val_accuracy: 0.6512 - lr: 1.1642e-13\n",
            "Epoch 203/600\n",
            "43/43 [==============================] - 0s 3ms/step - loss: 0.5607 - accuracy: 0.7310 - val_loss: 0.6607 - val_accuracy: 0.6512 - lr: 1.1642e-13\n",
            "Epoch 204/600\n",
            "43/43 [==============================] - 0s 3ms/step - loss: 0.5607 - accuracy: 0.7310 - val_loss: 0.6607 - val_accuracy: 0.6512 - lr: 1.1642e-13\n",
            "Epoch 205/600\n",
            "43/43 [==============================] - 0s 3ms/step - loss: 0.5607 - accuracy: 0.7310 - val_loss: 0.6607 - val_accuracy: 0.6512 - lr: 1.1642e-13\n",
            "Epoch 206/600\n",
            "43/43 [==============================] - 0s 3ms/step - loss: 0.5607 - accuracy: 0.7310 - val_loss: 0.6607 - val_accuracy: 0.6512 - lr: 1.1642e-13\n",
            "Epoch 207/600\n",
            "43/43 [==============================] - 0s 3ms/step - loss: 0.5607 - accuracy: 0.7310 - val_loss: 0.6607 - val_accuracy: 0.6512 - lr: 5.8208e-14\n",
            "Epoch 208/600\n",
            "43/43 [==============================] - 0s 3ms/step - loss: 0.5607 - accuracy: 0.7310 - val_loss: 0.6607 - val_accuracy: 0.6512 - lr: 5.8208e-14\n",
            "Epoch 209/600\n",
            "43/43 [==============================] - 0s 3ms/step - loss: 0.5607 - accuracy: 0.7310 - val_loss: 0.6607 - val_accuracy: 0.6512 - lr: 5.8208e-14\n",
            "Epoch 210/600\n",
            "43/43 [==============================] - 0s 3ms/step - loss: 0.5607 - accuracy: 0.7310 - val_loss: 0.6607 - val_accuracy: 0.6512 - lr: 5.8208e-14\n",
            "Epoch 211/600\n",
            "43/43 [==============================] - 0s 3ms/step - loss: 0.5607 - accuracy: 0.7310 - val_loss: 0.6607 - val_accuracy: 0.6512 - lr: 5.8208e-14\n",
            "Epoch 212/600\n",
            "43/43 [==============================] - 0s 3ms/step - loss: 0.5607 - accuracy: 0.7310 - val_loss: 0.6607 - val_accuracy: 0.6512 - lr: 2.9104e-14\n",
            "Epoch 213/600\n",
            "43/43 [==============================] - 0s 3ms/step - loss: 0.5607 - accuracy: 0.7310 - val_loss: 0.6607 - val_accuracy: 0.6512 - lr: 2.9104e-14\n",
            "Epoch 214/600\n",
            "43/43 [==============================] - 0s 3ms/step - loss: 0.5607 - accuracy: 0.7310 - val_loss: 0.6607 - val_accuracy: 0.6512 - lr: 2.9104e-14\n",
            "Epoch 215/600\n",
            "43/43 [==============================] - 0s 3ms/step - loss: 0.5607 - accuracy: 0.7310 - val_loss: 0.6607 - val_accuracy: 0.6512 - lr: 2.9104e-14\n",
            "Epoch 216/600\n",
            "43/43 [==============================] - 0s 3ms/step - loss: 0.5607 - accuracy: 0.7310 - val_loss: 0.6607 - val_accuracy: 0.6512 - lr: 2.9104e-14\n",
            "Epoch 217/600\n",
            "43/43 [==============================] - 0s 3ms/step - loss: 0.5607 - accuracy: 0.7310 - val_loss: 0.6607 - val_accuracy: 0.6512 - lr: 1.4552e-14\n",
            "Epoch 218/600\n",
            "43/43 [==============================] - 0s 3ms/step - loss: 0.5607 - accuracy: 0.7310 - val_loss: 0.6607 - val_accuracy: 0.6512 - lr: 1.4552e-14\n",
            "Epoch 219/600\n",
            "43/43 [==============================] - 0s 3ms/step - loss: 0.5607 - accuracy: 0.7310 - val_loss: 0.6607 - val_accuracy: 0.6512 - lr: 1.4552e-14\n",
            "Epoch 220/600\n",
            "43/43 [==============================] - 0s 3ms/step - loss: 0.5607 - accuracy: 0.7310 - val_loss: 0.6607 - val_accuracy: 0.6512 - lr: 1.4552e-14\n",
            "Epoch 221/600\n",
            "43/43 [==============================] - 0s 3ms/step - loss: 0.5607 - accuracy: 0.7310 - val_loss: 0.6607 - val_accuracy: 0.6512 - lr: 1.4552e-14\n",
            "Epoch 222/600\n",
            "43/43 [==============================] - 0s 3ms/step - loss: 0.5607 - accuracy: 0.7310 - val_loss: 0.6607 - val_accuracy: 0.6512 - lr: 7.2760e-15\n",
            "Epoch 223/600\n",
            "43/43 [==============================] - 0s 3ms/step - loss: 0.5607 - accuracy: 0.7310 - val_loss: 0.6607 - val_accuracy: 0.6512 - lr: 7.2760e-15\n",
            "Epoch 224/600\n",
            "43/43 [==============================] - 0s 3ms/step - loss: 0.5607 - accuracy: 0.7310 - val_loss: 0.6607 - val_accuracy: 0.6512 - lr: 7.2760e-15\n",
            "Epoch 225/600\n",
            "43/43 [==============================] - 0s 3ms/step - loss: 0.5607 - accuracy: 0.7310 - val_loss: 0.6607 - val_accuracy: 0.6512 - lr: 7.2760e-15\n",
            "Epoch 226/600\n",
            "43/43 [==============================] - 0s 3ms/step - loss: 0.5607 - accuracy: 0.7310 - val_loss: 0.6607 - val_accuracy: 0.6512 - lr: 7.2760e-15\n",
            "Epoch 227/600\n",
            "43/43 [==============================] - 0s 3ms/step - loss: 0.5607 - accuracy: 0.7310 - val_loss: 0.6607 - val_accuracy: 0.6512 - lr: 3.6380e-15\n",
            "Epoch 228/600\n",
            "43/43 [==============================] - 0s 3ms/step - loss: 0.5607 - accuracy: 0.7310 - val_loss: 0.6607 - val_accuracy: 0.6512 - lr: 3.6380e-15\n",
            "Epoch 229/600\n",
            "43/43 [==============================] - 0s 3ms/step - loss: 0.5607 - accuracy: 0.7310 - val_loss: 0.6607 - val_accuracy: 0.6512 - lr: 3.6380e-15\n",
            "Epoch 230/600\n",
            "43/43 [==============================] - 0s 3ms/step - loss: 0.5607 - accuracy: 0.7310 - val_loss: 0.6607 - val_accuracy: 0.6512 - lr: 3.6380e-15\n",
            "Epoch 231/600\n",
            "43/43 [==============================] - 0s 3ms/step - loss: 0.5607 - accuracy: 0.7310 - val_loss: 0.6607 - val_accuracy: 0.6512 - lr: 3.6380e-15\n",
            "Epoch 232/600\n",
            "43/43 [==============================] - 0s 3ms/step - loss: 0.5607 - accuracy: 0.7310 - val_loss: 0.6607 - val_accuracy: 0.6512 - lr: 1.8190e-15\n",
            "Epoch 233/600\n",
            "43/43 [==============================] - 0s 3ms/step - loss: 0.5607 - accuracy: 0.7310 - val_loss: 0.6607 - val_accuracy: 0.6512 - lr: 1.8190e-15\n",
            "Epoch 234/600\n",
            "43/43 [==============================] - 0s 3ms/step - loss: 0.5607 - accuracy: 0.7310 - val_loss: 0.6607 - val_accuracy: 0.6512 - lr: 1.8190e-15\n",
            "Epoch 235/600\n",
            "43/43 [==============================] - 0s 3ms/step - loss: 0.5607 - accuracy: 0.7310 - val_loss: 0.6607 - val_accuracy: 0.6512 - lr: 1.8190e-15\n",
            "Epoch 236/600\n",
            "43/43 [==============================] - 0s 3ms/step - loss: 0.5607 - accuracy: 0.7310 - val_loss: 0.6607 - val_accuracy: 0.6512 - lr: 1.8190e-15\n",
            "Epoch 237/600\n",
            "43/43 [==============================] - 0s 3ms/step - loss: 0.5607 - accuracy: 0.7310 - val_loss: 0.6607 - val_accuracy: 0.6512 - lr: 9.0949e-16\n",
            "Epoch 238/600\n",
            "43/43 [==============================] - 0s 3ms/step - loss: 0.5607 - accuracy: 0.7310 - val_loss: 0.6607 - val_accuracy: 0.6512 - lr: 9.0949e-16\n",
            "Epoch 239/600\n",
            "43/43 [==============================] - 0s 3ms/step - loss: 0.5607 - accuracy: 0.7310 - val_loss: 0.6607 - val_accuracy: 0.6512 - lr: 9.0949e-16\n",
            "Epoch 240/600\n",
            "43/43 [==============================] - 0s 3ms/step - loss: 0.5607 - accuracy: 0.7310 - val_loss: 0.6607 - val_accuracy: 0.6512 - lr: 9.0949e-16\n",
            "Epoch 241/600\n",
            "43/43 [==============================] - 0s 3ms/step - loss: 0.5607 - accuracy: 0.7310 - val_loss: 0.6607 - val_accuracy: 0.6512 - lr: 9.0949e-16\n",
            "Epoch 242/600\n",
            "43/43 [==============================] - 0s 3ms/step - loss: 0.5607 - accuracy: 0.7310 - val_loss: 0.6607 - val_accuracy: 0.6512 - lr: 4.5475e-16\n",
            "Epoch 243/600\n",
            "43/43 [==============================] - 0s 3ms/step - loss: 0.5607 - accuracy: 0.7310 - val_loss: 0.6607 - val_accuracy: 0.6512 - lr: 4.5475e-16\n",
            "Epoch 244/600\n",
            "43/43 [==============================] - 0s 3ms/step - loss: 0.5607 - accuracy: 0.7310 - val_loss: 0.6607 - val_accuracy: 0.6512 - lr: 4.5475e-16\n",
            "Epoch 245/600\n",
            "43/43 [==============================] - 0s 3ms/step - loss: 0.5607 - accuracy: 0.7310 - val_loss: 0.6607 - val_accuracy: 0.6512 - lr: 4.5475e-16\n",
            "Epoch 246/600\n",
            "43/43 [==============================] - 0s 3ms/step - loss: 0.5607 - accuracy: 0.7310 - val_loss: 0.6607 - val_accuracy: 0.6512 - lr: 4.5475e-16\n",
            "Epoch 247/600\n",
            "43/43 [==============================] - 0s 3ms/step - loss: 0.5607 - accuracy: 0.7310 - val_loss: 0.6607 - val_accuracy: 0.6512 - lr: 2.2737e-16\n",
            "Epoch 248/600\n",
            "43/43 [==============================] - 0s 3ms/step - loss: 0.5607 - accuracy: 0.7310 - val_loss: 0.6607 - val_accuracy: 0.6512 - lr: 2.2737e-16\n",
            "Epoch 249/600\n",
            "43/43 [==============================] - 0s 3ms/step - loss: 0.5607 - accuracy: 0.7310 - val_loss: 0.6607 - val_accuracy: 0.6512 - lr: 2.2737e-16\n",
            "Epoch 250/600\n",
            "43/43 [==============================] - 0s 3ms/step - loss: 0.5607 - accuracy: 0.7310 - val_loss: 0.6607 - val_accuracy: 0.6512 - lr: 2.2737e-16\n",
            "Epoch 251/600\n",
            "43/43 [==============================] - 0s 3ms/step - loss: 0.5607 - accuracy: 0.7310 - val_loss: 0.6607 - val_accuracy: 0.6512 - lr: 2.2737e-16\n",
            "Epoch 252/600\n",
            "43/43 [==============================] - 0s 3ms/step - loss: 0.5607 - accuracy: 0.7310 - val_loss: 0.6607 - val_accuracy: 0.6512 - lr: 1.1369e-16\n",
            "Epoch 253/600\n",
            "43/43 [==============================] - 0s 3ms/step - loss: 0.5607 - accuracy: 0.7310 - val_loss: 0.6607 - val_accuracy: 0.6512 - lr: 1.1369e-16\n",
            "Epoch 254/600\n",
            "43/43 [==============================] - 0s 3ms/step - loss: 0.5607 - accuracy: 0.7310 - val_loss: 0.6607 - val_accuracy: 0.6512 - lr: 1.1369e-16\n",
            "Epoch 255/600\n",
            "43/43 [==============================] - 0s 3ms/step - loss: 0.5607 - accuracy: 0.7310 - val_loss: 0.6607 - val_accuracy: 0.6512 - lr: 1.1369e-16\n",
            "Epoch 256/600\n",
            "43/43 [==============================] - 0s 3ms/step - loss: 0.5607 - accuracy: 0.7310 - val_loss: 0.6607 - val_accuracy: 0.6512 - lr: 1.1369e-16\n",
            "Epoch 257/600\n",
            "43/43 [==============================] - 0s 3ms/step - loss: 0.5607 - accuracy: 0.7310 - val_loss: 0.6607 - val_accuracy: 0.6512 - lr: 5.6843e-17\n",
            "Epoch 258/600\n",
            "43/43 [==============================] - 0s 3ms/step - loss: 0.5607 - accuracy: 0.7310 - val_loss: 0.6607 - val_accuracy: 0.6512 - lr: 5.6843e-17\n",
            "Epoch 259/600\n",
            "43/43 [==============================] - 0s 3ms/step - loss: 0.5607 - accuracy: 0.7310 - val_loss: 0.6607 - val_accuracy: 0.6512 - lr: 5.6843e-17\n",
            "Epoch 260/600\n",
            "43/43 [==============================] - 0s 3ms/step - loss: 0.5607 - accuracy: 0.7310 - val_loss: 0.6607 - val_accuracy: 0.6512 - lr: 5.6843e-17\n",
            "Epoch 261/600\n",
            "43/43 [==============================] - 0s 3ms/step - loss: 0.5607 - accuracy: 0.7310 - val_loss: 0.6607 - val_accuracy: 0.6512 - lr: 5.6843e-17\n",
            "Epoch 262/600\n",
            "43/43 [==============================] - 0s 3ms/step - loss: 0.5607 - accuracy: 0.7310 - val_loss: 0.6607 - val_accuracy: 0.6512 - lr: 2.8422e-17\n",
            "Epoch 263/600\n",
            "43/43 [==============================] - 0s 3ms/step - loss: 0.5607 - accuracy: 0.7310 - val_loss: 0.6607 - val_accuracy: 0.6512 - lr: 2.8422e-17\n",
            "Epoch 264/600\n",
            "43/43 [==============================] - 0s 3ms/step - loss: 0.5607 - accuracy: 0.7310 - val_loss: 0.6607 - val_accuracy: 0.6512 - lr: 2.8422e-17\n",
            "Epoch 265/600\n",
            "43/43 [==============================] - 0s 3ms/step - loss: 0.5607 - accuracy: 0.7310 - val_loss: 0.6607 - val_accuracy: 0.6512 - lr: 2.8422e-17\n",
            "Epoch 266/600\n",
            "43/43 [==============================] - 0s 3ms/step - loss: 0.5607 - accuracy: 0.7310 - val_loss: 0.6607 - val_accuracy: 0.6512 - lr: 2.8422e-17\n",
            "Epoch 267/600\n",
            "43/43 [==============================] - 0s 3ms/step - loss: 0.5607 - accuracy: 0.7310 - val_loss: 0.6607 - val_accuracy: 0.6512 - lr: 1.4211e-17\n",
            "Epoch 268/600\n",
            "43/43 [==============================] - 0s 3ms/step - loss: 0.5607 - accuracy: 0.7310 - val_loss: 0.6607 - val_accuracy: 0.6512 - lr: 1.4211e-17\n",
            "Epoch 269/600\n",
            "43/43 [==============================] - 0s 3ms/step - loss: 0.5607 - accuracy: 0.7310 - val_loss: 0.6607 - val_accuracy: 0.6512 - lr: 1.4211e-17\n",
            "Epoch 270/600\n",
            "43/43 [==============================] - 0s 3ms/step - loss: 0.5607 - accuracy: 0.7310 - val_loss: 0.6607 - val_accuracy: 0.6512 - lr: 1.4211e-17\n",
            "Epoch 271/600\n",
            "43/43 [==============================] - 0s 3ms/step - loss: 0.5607 - accuracy: 0.7310 - val_loss: 0.6607 - val_accuracy: 0.6512 - lr: 1.4211e-17\n",
            "Epoch 272/600\n",
            "43/43 [==============================] - 0s 3ms/step - loss: 0.5607 - accuracy: 0.7310 - val_loss: 0.6607 - val_accuracy: 0.6512 - lr: 7.1054e-18\n",
            "Epoch 273/600\n",
            "43/43 [==============================] - 0s 3ms/step - loss: 0.5607 - accuracy: 0.7310 - val_loss: 0.6607 - val_accuracy: 0.6512 - lr: 7.1054e-18\n",
            "Epoch 274/600\n",
            "43/43 [==============================] - 0s 3ms/step - loss: 0.5607 - accuracy: 0.7310 - val_loss: 0.6607 - val_accuracy: 0.6512 - lr: 7.1054e-18\n",
            "Epoch 275/600\n",
            "43/43 [==============================] - 0s 3ms/step - loss: 0.5607 - accuracy: 0.7310 - val_loss: 0.6607 - val_accuracy: 0.6512 - lr: 7.1054e-18\n",
            "Epoch 276/600\n",
            "43/43 [==============================] - 0s 3ms/step - loss: 0.5607 - accuracy: 0.7310 - val_loss: 0.6607 - val_accuracy: 0.6512 - lr: 7.1054e-18\n",
            "Epoch 277/600\n",
            "43/43 [==============================] - 0s 3ms/step - loss: 0.5607 - accuracy: 0.7310 - val_loss: 0.6607 - val_accuracy: 0.6512 - lr: 3.5527e-18\n",
            "Epoch 278/600\n",
            "43/43 [==============================] - 0s 3ms/step - loss: 0.5607 - accuracy: 0.7310 - val_loss: 0.6607 - val_accuracy: 0.6512 - lr: 3.5527e-18\n",
            "Epoch 279/600\n",
            "43/43 [==============================] - 0s 3ms/step - loss: 0.5607 - accuracy: 0.7310 - val_loss: 0.6607 - val_accuracy: 0.6512 - lr: 3.5527e-18\n",
            "Epoch 280/600\n",
            "43/43 [==============================] - 0s 3ms/step - loss: 0.5607 - accuracy: 0.7310 - val_loss: 0.6607 - val_accuracy: 0.6512 - lr: 3.5527e-18\n",
            "Epoch 281/600\n",
            "43/43 [==============================] - 0s 3ms/step - loss: 0.5607 - accuracy: 0.7310 - val_loss: 0.6607 - val_accuracy: 0.6512 - lr: 3.5527e-18\n",
            "Epoch 282/600\n",
            "43/43 [==============================] - 0s 3ms/step - loss: 0.5607 - accuracy: 0.7310 - val_loss: 0.6607 - val_accuracy: 0.6512 - lr: 1.7764e-18\n",
            "Epoch 283/600\n",
            "43/43 [==============================] - 0s 3ms/step - loss: 0.5607 - accuracy: 0.7310 - val_loss: 0.6607 - val_accuracy: 0.6512 - lr: 1.7764e-18\n",
            "Epoch 284/600\n",
            "43/43 [==============================] - 0s 3ms/step - loss: 0.5607 - accuracy: 0.7310 - val_loss: 0.6607 - val_accuracy: 0.6512 - lr: 1.7764e-18\n",
            "Epoch 285/600\n",
            "43/43 [==============================] - 0s 3ms/step - loss: 0.5607 - accuracy: 0.7310 - val_loss: 0.6607 - val_accuracy: 0.6512 - lr: 1.7764e-18\n",
            "Epoch 286/600\n",
            "43/43 [==============================] - 0s 3ms/step - loss: 0.5607 - accuracy: 0.7310 - val_loss: 0.6607 - val_accuracy: 0.6512 - lr: 1.7764e-18\n",
            "Epoch 287/600\n",
            "43/43 [==============================] - 0s 3ms/step - loss: 0.5607 - accuracy: 0.7310 - val_loss: 0.6607 - val_accuracy: 0.6512 - lr: 8.8818e-19\n",
            "Epoch 288/600\n",
            "43/43 [==============================] - 0s 3ms/step - loss: 0.5607 - accuracy: 0.7310 - val_loss: 0.6607 - val_accuracy: 0.6512 - lr: 8.8818e-19\n",
            "Epoch 289/600\n",
            "43/43 [==============================] - 0s 3ms/step - loss: 0.5607 - accuracy: 0.7310 - val_loss: 0.6607 - val_accuracy: 0.6512 - lr: 8.8818e-19\n",
            "Epoch 290/600\n",
            "43/43 [==============================] - 0s 3ms/step - loss: 0.5607 - accuracy: 0.7310 - val_loss: 0.6607 - val_accuracy: 0.6512 - lr: 8.8818e-19\n",
            "Epoch 291/600\n",
            "43/43 [==============================] - 0s 3ms/step - loss: 0.5607 - accuracy: 0.7310 - val_loss: 0.6607 - val_accuracy: 0.6512 - lr: 8.8818e-19\n",
            "Epoch 292/600\n",
            "43/43 [==============================] - 0s 3ms/step - loss: 0.5607 - accuracy: 0.7310 - val_loss: 0.6607 - val_accuracy: 0.6512 - lr: 4.4409e-19\n",
            "Epoch 293/600\n",
            "43/43 [==============================] - 0s 3ms/step - loss: 0.5607 - accuracy: 0.7310 - val_loss: 0.6607 - val_accuracy: 0.6512 - lr: 4.4409e-19\n",
            "Epoch 294/600\n",
            "43/43 [==============================] - 0s 3ms/step - loss: 0.5607 - accuracy: 0.7310 - val_loss: 0.6607 - val_accuracy: 0.6512 - lr: 4.4409e-19\n",
            "Epoch 295/600\n",
            "43/43 [==============================] - 0s 3ms/step - loss: 0.5607 - accuracy: 0.7310 - val_loss: 0.6607 - val_accuracy: 0.6512 - lr: 4.4409e-19\n",
            "Epoch 296/600\n",
            "43/43 [==============================] - 0s 3ms/step - loss: 0.5607 - accuracy: 0.7310 - val_loss: 0.6607 - val_accuracy: 0.6512 - lr: 4.4409e-19\n",
            "Epoch 297/600\n",
            "43/43 [==============================] - 0s 3ms/step - loss: 0.5607 - accuracy: 0.7310 - val_loss: 0.6607 - val_accuracy: 0.6512 - lr: 2.2204e-19\n",
            "Epoch 298/600\n",
            "43/43 [==============================] - 0s 3ms/step - loss: 0.5607 - accuracy: 0.7310 - val_loss: 0.6607 - val_accuracy: 0.6512 - lr: 2.2204e-19\n",
            "Epoch 299/600\n",
            "43/43 [==============================] - 0s 3ms/step - loss: 0.5607 - accuracy: 0.7310 - val_loss: 0.6607 - val_accuracy: 0.6512 - lr: 2.2204e-19\n",
            "Epoch 300/600\n",
            "43/43 [==============================] - 0s 3ms/step - loss: 0.5607 - accuracy: 0.7310 - val_loss: 0.6607 - val_accuracy: 0.6512 - lr: 2.2204e-19\n",
            "Epoch 301/600\n",
            "43/43 [==============================] - 0s 3ms/step - loss: 0.5607 - accuracy: 0.7310 - val_loss: 0.6607 - val_accuracy: 0.6512 - lr: 2.2204e-19\n",
            "Epoch 302/600\n",
            "43/43 [==============================] - 0s 3ms/step - loss: 0.5607 - accuracy: 0.7310 - val_loss: 0.6607 - val_accuracy: 0.6512 - lr: 1.1102e-19\n",
            "Epoch 303/600\n",
            "43/43 [==============================] - 0s 3ms/step - loss: 0.5607 - accuracy: 0.7310 - val_loss: 0.6607 - val_accuracy: 0.6512 - lr: 1.1102e-19\n",
            "Epoch 304/600\n",
            "43/43 [==============================] - 0s 3ms/step - loss: 0.5607 - accuracy: 0.7310 - val_loss: 0.6607 - val_accuracy: 0.6512 - lr: 1.1102e-19\n",
            "Epoch 305/600\n",
            "43/43 [==============================] - 0s 3ms/step - loss: 0.5607 - accuracy: 0.7310 - val_loss: 0.6607 - val_accuracy: 0.6512 - lr: 1.1102e-19\n",
            "Epoch 306/600\n",
            "43/43 [==============================] - 0s 3ms/step - loss: 0.5607 - accuracy: 0.7310 - val_loss: 0.6607 - val_accuracy: 0.6512 - lr: 1.1102e-19\n",
            "Epoch 307/600\n",
            "43/43 [==============================] - 0s 3ms/step - loss: 0.5607 - accuracy: 0.7310 - val_loss: 0.6607 - val_accuracy: 0.6512 - lr: 5.5511e-20\n",
            "Epoch 308/600\n",
            "43/43 [==============================] - 0s 3ms/step - loss: 0.5607 - accuracy: 0.7310 - val_loss: 0.6607 - val_accuracy: 0.6512 - lr: 5.5511e-20\n",
            "Epoch 309/600\n",
            "43/43 [==============================] - 0s 3ms/step - loss: 0.5607 - accuracy: 0.7310 - val_loss: 0.6607 - val_accuracy: 0.6512 - lr: 5.5511e-20\n",
            "Epoch 310/600\n",
            "43/43 [==============================] - 0s 3ms/step - loss: 0.5607 - accuracy: 0.7310 - val_loss: 0.6607 - val_accuracy: 0.6512 - lr: 5.5511e-20\n",
            "Epoch 311/600\n",
            "43/43 [==============================] - 0s 3ms/step - loss: 0.5607 - accuracy: 0.7310 - val_loss: 0.6607 - val_accuracy: 0.6512 - lr: 5.5511e-20\n",
            "Epoch 312/600\n",
            "43/43 [==============================] - 0s 3ms/step - loss: 0.5607 - accuracy: 0.7310 - val_loss: 0.6607 - val_accuracy: 0.6512 - lr: 2.7756e-20\n",
            "Epoch 313/600\n",
            "43/43 [==============================] - 0s 3ms/step - loss: 0.5607 - accuracy: 0.7310 - val_loss: 0.6607 - val_accuracy: 0.6512 - lr: 2.7756e-20\n",
            "Epoch 314/600\n",
            "43/43 [==============================] - 0s 3ms/step - loss: 0.5607 - accuracy: 0.7310 - val_loss: 0.6607 - val_accuracy: 0.6512 - lr: 2.7756e-20\n",
            "Epoch 315/600\n",
            "43/43 [==============================] - 0s 3ms/step - loss: 0.5607 - accuracy: 0.7310 - val_loss: 0.6607 - val_accuracy: 0.6512 - lr: 2.7756e-20\n",
            "Epoch 316/600\n",
            "43/43 [==============================] - 0s 3ms/step - loss: 0.5607 - accuracy: 0.7310 - val_loss: 0.6607 - val_accuracy: 0.6512 - lr: 2.7756e-20\n",
            "Epoch 317/600\n",
            "43/43 [==============================] - 0s 3ms/step - loss: 0.5607 - accuracy: 0.7310 - val_loss: 0.6607 - val_accuracy: 0.6512 - lr: 1.3878e-20\n",
            "Epoch 318/600\n",
            "43/43 [==============================] - 0s 3ms/step - loss: 0.5607 - accuracy: 0.7310 - val_loss: 0.6607 - val_accuracy: 0.6512 - lr: 1.3878e-20\n",
            "Epoch 319/600\n",
            "43/43 [==============================] - 0s 3ms/step - loss: 0.5607 - accuracy: 0.7310 - val_loss: 0.6607 - val_accuracy: 0.6512 - lr: 1.3878e-20\n",
            "Epoch 320/600\n",
            "43/43 [==============================] - 0s 3ms/step - loss: 0.5607 - accuracy: 0.7310 - val_loss: 0.6607 - val_accuracy: 0.6512 - lr: 1.3878e-20\n",
            "Epoch 321/600\n",
            "43/43 [==============================] - 0s 3ms/step - loss: 0.5607 - accuracy: 0.7310 - val_loss: 0.6607 - val_accuracy: 0.6512 - lr: 1.3878e-20\n",
            "Epoch 322/600\n",
            "43/43 [==============================] - 0s 3ms/step - loss: 0.5607 - accuracy: 0.7310 - val_loss: 0.6607 - val_accuracy: 0.6512 - lr: 6.9389e-21\n",
            "Epoch 323/600\n",
            "43/43 [==============================] - 0s 3ms/step - loss: 0.5607 - accuracy: 0.7310 - val_loss: 0.6607 - val_accuracy: 0.6512 - lr: 6.9389e-21\n",
            "Epoch 324/600\n",
            "43/43 [==============================] - 0s 3ms/step - loss: 0.5607 - accuracy: 0.7310 - val_loss: 0.6607 - val_accuracy: 0.6512 - lr: 6.9389e-21\n",
            "Epoch 325/600\n",
            "43/43 [==============================] - 0s 3ms/step - loss: 0.5607 - accuracy: 0.7310 - val_loss: 0.6607 - val_accuracy: 0.6512 - lr: 6.9389e-21\n",
            "Epoch 326/600\n",
            "43/43 [==============================] - 0s 3ms/step - loss: 0.5607 - accuracy: 0.7310 - val_loss: 0.6607 - val_accuracy: 0.6512 - lr: 6.9389e-21\n",
            "Epoch 327/600\n",
            "43/43 [==============================] - 0s 3ms/step - loss: 0.5607 - accuracy: 0.7310 - val_loss: 0.6607 - val_accuracy: 0.6512 - lr: 3.4694e-21\n",
            "Epoch 328/600\n",
            "43/43 [==============================] - 0s 3ms/step - loss: 0.5607 - accuracy: 0.7310 - val_loss: 0.6607 - val_accuracy: 0.6512 - lr: 3.4694e-21\n",
            "Epoch 329/600\n",
            "43/43 [==============================] - 0s 3ms/step - loss: 0.5607 - accuracy: 0.7310 - val_loss: 0.6607 - val_accuracy: 0.6512 - lr: 3.4694e-21\n",
            "Epoch 330/600\n",
            "43/43 [==============================] - 0s 3ms/step - loss: 0.5607 - accuracy: 0.7310 - val_loss: 0.6607 - val_accuracy: 0.6512 - lr: 3.4694e-21\n",
            "Epoch 331/600\n",
            "43/43 [==============================] - 0s 3ms/step - loss: 0.5607 - accuracy: 0.7310 - val_loss: 0.6607 - val_accuracy: 0.6512 - lr: 3.4694e-21\n",
            "Epoch 332/600\n",
            "43/43 [==============================] - 0s 3ms/step - loss: 0.5607 - accuracy: 0.7310 - val_loss: 0.6607 - val_accuracy: 0.6512 - lr: 1.7347e-21\n",
            "Epoch 333/600\n",
            "43/43 [==============================] - 0s 3ms/step - loss: 0.5607 - accuracy: 0.7310 - val_loss: 0.6607 - val_accuracy: 0.6512 - lr: 1.7347e-21\n",
            "Epoch 334/600\n",
            "43/43 [==============================] - 0s 3ms/step - loss: 0.5607 - accuracy: 0.7310 - val_loss: 0.6607 - val_accuracy: 0.6512 - lr: 1.7347e-21\n",
            "Epoch 335/600\n",
            "43/43 [==============================] - 0s 3ms/step - loss: 0.5607 - accuracy: 0.7310 - val_loss: 0.6607 - val_accuracy: 0.6512 - lr: 1.7347e-21\n",
            "Epoch 336/600\n",
            "43/43 [==============================] - 0s 3ms/step - loss: 0.5607 - accuracy: 0.7310 - val_loss: 0.6607 - val_accuracy: 0.6512 - lr: 1.7347e-21\n",
            "Epoch 337/600\n",
            "43/43 [==============================] - 0s 3ms/step - loss: 0.5607 - accuracy: 0.7310 - val_loss: 0.6607 - val_accuracy: 0.6512 - lr: 8.6736e-22\n",
            "Epoch 338/600\n",
            "43/43 [==============================] - 0s 3ms/step - loss: 0.5607 - accuracy: 0.7310 - val_loss: 0.6607 - val_accuracy: 0.6512 - lr: 8.6736e-22\n",
            "Epoch 339/600\n",
            "43/43 [==============================] - 0s 3ms/step - loss: 0.5607 - accuracy: 0.7310 - val_loss: 0.6607 - val_accuracy: 0.6512 - lr: 8.6736e-22\n",
            "Epoch 340/600\n",
            "43/43 [==============================] - 0s 3ms/step - loss: 0.5607 - accuracy: 0.7310 - val_loss: 0.6607 - val_accuracy: 0.6512 - lr: 8.6736e-22\n",
            "Epoch 341/600\n",
            "43/43 [==============================] - 0s 3ms/step - loss: 0.5607 - accuracy: 0.7310 - val_loss: 0.6607 - val_accuracy: 0.6512 - lr: 8.6736e-22\n",
            "Epoch 342/600\n",
            "43/43 [==============================] - 0s 3ms/step - loss: 0.5607 - accuracy: 0.7310 - val_loss: 0.6607 - val_accuracy: 0.6512 - lr: 4.3368e-22\n",
            "Epoch 343/600\n",
            "43/43 [==============================] - 0s 3ms/step - loss: 0.5607 - accuracy: 0.7310 - val_loss: 0.6607 - val_accuracy: 0.6512 - lr: 4.3368e-22\n",
            "Epoch 344/600\n",
            "43/43 [==============================] - 0s 3ms/step - loss: 0.5607 - accuracy: 0.7310 - val_loss: 0.6607 - val_accuracy: 0.6512 - lr: 4.3368e-22\n",
            "Epoch 345/600\n",
            "43/43 [==============================] - 0s 3ms/step - loss: 0.5607 - accuracy: 0.7310 - val_loss: 0.6607 - val_accuracy: 0.6512 - lr: 4.3368e-22\n",
            "Epoch 346/600\n",
            "43/43 [==============================] - 0s 3ms/step - loss: 0.5607 - accuracy: 0.7310 - val_loss: 0.6607 - val_accuracy: 0.6512 - lr: 4.3368e-22\n",
            "Epoch 347/600\n",
            "43/43 [==============================] - 0s 3ms/step - loss: 0.5607 - accuracy: 0.7310 - val_loss: 0.6607 - val_accuracy: 0.6512 - lr: 2.1684e-22\n",
            "Epoch 348/600\n",
            "43/43 [==============================] - 0s 3ms/step - loss: 0.5607 - accuracy: 0.7310 - val_loss: 0.6607 - val_accuracy: 0.6512 - lr: 2.1684e-22\n",
            "Epoch 349/600\n",
            "43/43 [==============================] - 0s 3ms/step - loss: 0.5607 - accuracy: 0.7310 - val_loss: 0.6607 - val_accuracy: 0.6512 - lr: 2.1684e-22\n",
            "Epoch 350/600\n",
            "43/43 [==============================] - 0s 3ms/step - loss: 0.5607 - accuracy: 0.7310 - val_loss: 0.6607 - val_accuracy: 0.6512 - lr: 2.1684e-22\n",
            "Epoch 351/600\n",
            "43/43 [==============================] - 0s 3ms/step - loss: 0.5607 - accuracy: 0.7310 - val_loss: 0.6607 - val_accuracy: 0.6512 - lr: 2.1684e-22\n",
            "Epoch 352/600\n",
            "43/43 [==============================] - 0s 3ms/step - loss: 0.5607 - accuracy: 0.7310 - val_loss: 0.6607 - val_accuracy: 0.6512 - lr: 1.0842e-22\n",
            "Epoch 353/600\n",
            "43/43 [==============================] - 0s 3ms/step - loss: 0.5607 - accuracy: 0.7310 - val_loss: 0.6607 - val_accuracy: 0.6512 - lr: 1.0842e-22\n",
            "Epoch 354/600\n",
            "43/43 [==============================] - 0s 3ms/step - loss: 0.5607 - accuracy: 0.7310 - val_loss: 0.6607 - val_accuracy: 0.6512 - lr: 1.0842e-22\n",
            "Epoch 355/600\n",
            "43/43 [==============================] - 0s 3ms/step - loss: 0.5607 - accuracy: 0.7310 - val_loss: 0.6607 - val_accuracy: 0.6512 - lr: 1.0842e-22\n",
            "Epoch 356/600\n",
            "43/43 [==============================] - 0s 3ms/step - loss: 0.5607 - accuracy: 0.7310 - val_loss: 0.6607 - val_accuracy: 0.6512 - lr: 1.0842e-22\n",
            "Epoch 357/600\n",
            "43/43 [==============================] - 0s 3ms/step - loss: 0.5607 - accuracy: 0.7310 - val_loss: 0.6607 - val_accuracy: 0.6512 - lr: 5.4210e-23\n",
            "Epoch 358/600\n",
            "43/43 [==============================] - 0s 3ms/step - loss: 0.5607 - accuracy: 0.7310 - val_loss: 0.6607 - val_accuracy: 0.6512 - lr: 5.4210e-23\n",
            "Epoch 359/600\n",
            "43/43 [==============================] - 0s 3ms/step - loss: 0.5607 - accuracy: 0.7310 - val_loss: 0.6607 - val_accuracy: 0.6512 - lr: 5.4210e-23\n",
            "Epoch 360/600\n",
            "43/43 [==============================] - 0s 3ms/step - loss: 0.5607 - accuracy: 0.7310 - val_loss: 0.6607 - val_accuracy: 0.6512 - lr: 5.4210e-23\n",
            "Epoch 361/600\n",
            "43/43 [==============================] - 0s 3ms/step - loss: 0.5607 - accuracy: 0.7310 - val_loss: 0.6607 - val_accuracy: 0.6512 - lr: 5.4210e-23\n",
            "Epoch 362/600\n",
            "43/43 [==============================] - 0s 3ms/step - loss: 0.5607 - accuracy: 0.7310 - val_loss: 0.6607 - val_accuracy: 0.6512 - lr: 2.7105e-23\n",
            "Epoch 363/600\n",
            "43/43 [==============================] - 0s 3ms/step - loss: 0.5607 - accuracy: 0.7310 - val_loss: 0.6607 - val_accuracy: 0.6512 - lr: 2.7105e-23\n",
            "Epoch 364/600\n",
            "43/43 [==============================] - 0s 3ms/step - loss: 0.5607 - accuracy: 0.7310 - val_loss: 0.6607 - val_accuracy: 0.6512 - lr: 2.7105e-23\n",
            "Epoch 365/600\n",
            "43/43 [==============================] - 0s 3ms/step - loss: 0.5607 - accuracy: 0.7310 - val_loss: 0.6607 - val_accuracy: 0.6512 - lr: 2.7105e-23\n",
            "Epoch 366/600\n",
            "43/43 [==============================] - 0s 3ms/step - loss: 0.5607 - accuracy: 0.7310 - val_loss: 0.6607 - val_accuracy: 0.6512 - lr: 2.7105e-23\n",
            "Epoch 367/600\n",
            "43/43 [==============================] - 0s 3ms/step - loss: 0.5607 - accuracy: 0.7310 - val_loss: 0.6607 - val_accuracy: 0.6512 - lr: 1.3553e-23\n",
            "Epoch 368/600\n",
            "43/43 [==============================] - 0s 3ms/step - loss: 0.5607 - accuracy: 0.7310 - val_loss: 0.6607 - val_accuracy: 0.6512 - lr: 1.3553e-23\n",
            "Epoch 369/600\n",
            "43/43 [==============================] - 0s 3ms/step - loss: 0.5607 - accuracy: 0.7310 - val_loss: 0.6607 - val_accuracy: 0.6512 - lr: 1.3553e-23\n",
            "Epoch 370/600\n",
            "43/43 [==============================] - 0s 3ms/step - loss: 0.5607 - accuracy: 0.7310 - val_loss: 0.6607 - val_accuracy: 0.6512 - lr: 1.3553e-23\n",
            "Epoch 371/600\n",
            "43/43 [==============================] - 0s 3ms/step - loss: 0.5607 - accuracy: 0.7310 - val_loss: 0.6607 - val_accuracy: 0.6512 - lr: 1.3553e-23\n",
            "Epoch 372/600\n",
            "43/43 [==============================] - 0s 3ms/step - loss: 0.5607 - accuracy: 0.7310 - val_loss: 0.6607 - val_accuracy: 0.6512 - lr: 6.7763e-24\n",
            "Epoch 373/600\n",
            "43/43 [==============================] - 0s 3ms/step - loss: 0.5607 - accuracy: 0.7310 - val_loss: 0.6607 - val_accuracy: 0.6512 - lr: 6.7763e-24\n",
            "Epoch 374/600\n",
            "43/43 [==============================] - 0s 3ms/step - loss: 0.5607 - accuracy: 0.7310 - val_loss: 0.6607 - val_accuracy: 0.6512 - lr: 6.7763e-24\n",
            "Epoch 375/600\n",
            "43/43 [==============================] - 0s 3ms/step - loss: 0.5607 - accuracy: 0.7310 - val_loss: 0.6607 - val_accuracy: 0.6512 - lr: 6.7763e-24\n",
            "Epoch 376/600\n",
            "43/43 [==============================] - 0s 3ms/step - loss: 0.5607 - accuracy: 0.7310 - val_loss: 0.6607 - val_accuracy: 0.6512 - lr: 6.7763e-24\n",
            "Epoch 377/600\n",
            "43/43 [==============================] - 0s 3ms/step - loss: 0.5607 - accuracy: 0.7310 - val_loss: 0.6607 - val_accuracy: 0.6512 - lr: 3.3881e-24\n",
            "Epoch 378/600\n",
            "43/43 [==============================] - 0s 3ms/step - loss: 0.5607 - accuracy: 0.7310 - val_loss: 0.6607 - val_accuracy: 0.6512 - lr: 3.3881e-24\n",
            "Epoch 379/600\n",
            "43/43 [==============================] - 0s 3ms/step - loss: 0.5607 - accuracy: 0.7310 - val_loss: 0.6607 - val_accuracy: 0.6512 - lr: 3.3881e-24\n",
            "Epoch 380/600\n",
            "43/43 [==============================] - 0s 3ms/step - loss: 0.5607 - accuracy: 0.7310 - val_loss: 0.6607 - val_accuracy: 0.6512 - lr: 3.3881e-24\n",
            "Epoch 381/600\n",
            "43/43 [==============================] - 0s 3ms/step - loss: 0.5607 - accuracy: 0.7310 - val_loss: 0.6607 - val_accuracy: 0.6512 - lr: 3.3881e-24\n",
            "Epoch 382/600\n",
            "43/43 [==============================] - 0s 3ms/step - loss: 0.5607 - accuracy: 0.7310 - val_loss: 0.6607 - val_accuracy: 0.6512 - lr: 1.6941e-24\n",
            "Epoch 383/600\n",
            "43/43 [==============================] - 0s 3ms/step - loss: 0.5607 - accuracy: 0.7310 - val_loss: 0.6607 - val_accuracy: 0.6512 - lr: 1.6941e-24\n",
            "Epoch 384/600\n",
            "43/43 [==============================] - 0s 3ms/step - loss: 0.5607 - accuracy: 0.7310 - val_loss: 0.6607 - val_accuracy: 0.6512 - lr: 1.6941e-24\n",
            "Epoch 385/600\n",
            "43/43 [==============================] - 0s 3ms/step - loss: 0.5607 - accuracy: 0.7310 - val_loss: 0.6607 - val_accuracy: 0.6512 - lr: 1.6941e-24\n",
            "Epoch 386/600\n",
            "43/43 [==============================] - 0s 3ms/step - loss: 0.5607 - accuracy: 0.7310 - val_loss: 0.6607 - val_accuracy: 0.6512 - lr: 1.6941e-24\n",
            "Epoch 387/600\n",
            "43/43 [==============================] - 0s 3ms/step - loss: 0.5607 - accuracy: 0.7310 - val_loss: 0.6607 - val_accuracy: 0.6512 - lr: 8.4703e-25\n",
            "Epoch 388/600\n",
            "43/43 [==============================] - 0s 3ms/step - loss: 0.5607 - accuracy: 0.7310 - val_loss: 0.6607 - val_accuracy: 0.6512 - lr: 8.4703e-25\n",
            "Epoch 389/600\n",
            "43/43 [==============================] - 0s 3ms/step - loss: 0.5607 - accuracy: 0.7310 - val_loss: 0.6607 - val_accuracy: 0.6512 - lr: 8.4703e-25\n",
            "Epoch 390/600\n",
            "43/43 [==============================] - 0s 3ms/step - loss: 0.5607 - accuracy: 0.7310 - val_loss: 0.6607 - val_accuracy: 0.6512 - lr: 8.4703e-25\n",
            "Epoch 391/600\n",
            " 1/43 [..............................] - ETA: 0s - loss: 0.7164 - accuracy: 0.5000"
          ]
        },
        {
          "output_type": "error",
          "ename": "KeyboardInterrupt",
          "evalue": "ignored",
          "traceback": [
            "\u001b[0;31m---------------------------------------------------------------------------\u001b[0m",
            "\u001b[0;31mKeyboardInterrupt\u001b[0m                         Traceback (most recent call last)",
            "\u001b[0;32m<ipython-input-96-95b949e3fc57>\u001b[0m in \u001b[0;36m<module>\u001b[0;34m()\u001b[0m\n\u001b[1;32m     15\u001b[0m                   \u001b[0mvalidation_split\u001b[0m \u001b[0;34m=\u001b[0m \u001b[0;36m0.2\u001b[0m\u001b[0;34m,\u001b[0m\u001b[0;34m\u001b[0m\u001b[0;34m\u001b[0m\u001b[0m\n\u001b[1;32m     16\u001b[0m                   \u001b[0mshuffle\u001b[0m \u001b[0;34m=\u001b[0m \u001b[0;32mTrue\u001b[0m\u001b[0;34m,\u001b[0m\u001b[0;34m\u001b[0m\u001b[0;34m\u001b[0m\u001b[0m\n\u001b[0;32m---> 17\u001b[0;31m                   verbose = 1)\n\u001b[0m",
            "\u001b[0;32m/usr/local/lib/python3.7/dist-packages/keras/utils/traceback_utils.py\u001b[0m in \u001b[0;36merror_handler\u001b[0;34m(*args, **kwargs)\u001b[0m\n\u001b[1;32m     62\u001b[0m     \u001b[0mfiltered_tb\u001b[0m \u001b[0;34m=\u001b[0m \u001b[0;32mNone\u001b[0m\u001b[0;34m\u001b[0m\u001b[0;34m\u001b[0m\u001b[0m\n\u001b[1;32m     63\u001b[0m     \u001b[0;32mtry\u001b[0m\u001b[0;34m:\u001b[0m\u001b[0;34m\u001b[0m\u001b[0;34m\u001b[0m\u001b[0m\n\u001b[0;32m---> 64\u001b[0;31m       \u001b[0;32mreturn\u001b[0m \u001b[0mfn\u001b[0m\u001b[0;34m(\u001b[0m\u001b[0;34m*\u001b[0m\u001b[0margs\u001b[0m\u001b[0;34m,\u001b[0m \u001b[0;34m**\u001b[0m\u001b[0mkwargs\u001b[0m\u001b[0;34m)\u001b[0m\u001b[0;34m\u001b[0m\u001b[0;34m\u001b[0m\u001b[0m\n\u001b[0m\u001b[1;32m     65\u001b[0m     \u001b[0;32mexcept\u001b[0m \u001b[0mException\u001b[0m \u001b[0;32mas\u001b[0m \u001b[0me\u001b[0m\u001b[0;34m:\u001b[0m  \u001b[0;31m# pylint: disable=broad-except\u001b[0m\u001b[0;34m\u001b[0m\u001b[0;34m\u001b[0m\u001b[0m\n\u001b[1;32m     66\u001b[0m       \u001b[0mfiltered_tb\u001b[0m \u001b[0;34m=\u001b[0m \u001b[0m_process_traceback_frames\u001b[0m\u001b[0;34m(\u001b[0m\u001b[0me\u001b[0m\u001b[0;34m.\u001b[0m\u001b[0m__traceback__\u001b[0m\u001b[0;34m)\u001b[0m\u001b[0;34m\u001b[0m\u001b[0;34m\u001b[0m\u001b[0m\n",
            "\u001b[0;32m/usr/local/lib/python3.7/dist-packages/keras/engine/training.py\u001b[0m in \u001b[0;36mfit\u001b[0;34m(self, x, y, batch_size, epochs, verbose, callbacks, validation_split, validation_data, shuffle, class_weight, sample_weight, initial_epoch, steps_per_epoch, validation_steps, validation_batch_size, validation_freq, max_queue_size, workers, use_multiprocessing)\u001b[0m\n\u001b[1;32m   1219\u001b[0m               \u001b[0mlogs\u001b[0m \u001b[0;34m=\u001b[0m \u001b[0mtmp_logs\u001b[0m  \u001b[0;31m# No error, now safe to assign to logs.\u001b[0m\u001b[0;34m\u001b[0m\u001b[0;34m\u001b[0m\u001b[0m\n\u001b[1;32m   1220\u001b[0m               \u001b[0mend_step\u001b[0m \u001b[0;34m=\u001b[0m \u001b[0mstep\u001b[0m \u001b[0;34m+\u001b[0m \u001b[0mdata_handler\u001b[0m\u001b[0;34m.\u001b[0m\u001b[0mstep_increment\u001b[0m\u001b[0;34m\u001b[0m\u001b[0;34m\u001b[0m\u001b[0m\n\u001b[0;32m-> 1221\u001b[0;31m               \u001b[0mcallbacks\u001b[0m\u001b[0;34m.\u001b[0m\u001b[0mon_train_batch_end\u001b[0m\u001b[0;34m(\u001b[0m\u001b[0mend_step\u001b[0m\u001b[0;34m,\u001b[0m \u001b[0mlogs\u001b[0m\u001b[0;34m)\u001b[0m\u001b[0;34m\u001b[0m\u001b[0;34m\u001b[0m\u001b[0m\n\u001b[0m\u001b[1;32m   1222\u001b[0m               \u001b[0;32mif\u001b[0m \u001b[0mself\u001b[0m\u001b[0;34m.\u001b[0m\u001b[0mstop_training\u001b[0m\u001b[0;34m:\u001b[0m\u001b[0;34m\u001b[0m\u001b[0;34m\u001b[0m\u001b[0m\n\u001b[1;32m   1223\u001b[0m                 \u001b[0;32mbreak\u001b[0m\u001b[0;34m\u001b[0m\u001b[0;34m\u001b[0m\u001b[0m\n",
            "\u001b[0;32m/usr/local/lib/python3.7/dist-packages/keras/callbacks.py\u001b[0m in \u001b[0;36mon_train_batch_end\u001b[0;34m(self, batch, logs)\u001b[0m\n\u001b[1;32m    434\u001b[0m     \"\"\"\n\u001b[1;32m    435\u001b[0m     \u001b[0;32mif\u001b[0m \u001b[0mself\u001b[0m\u001b[0;34m.\u001b[0m\u001b[0m_should_call_train_batch_hooks\u001b[0m\u001b[0;34m:\u001b[0m\u001b[0;34m\u001b[0m\u001b[0;34m\u001b[0m\u001b[0m\n\u001b[0;32m--> 436\u001b[0;31m       \u001b[0mself\u001b[0m\u001b[0;34m.\u001b[0m\u001b[0m_call_batch_hook\u001b[0m\u001b[0;34m(\u001b[0m\u001b[0mModeKeys\u001b[0m\u001b[0;34m.\u001b[0m\u001b[0mTRAIN\u001b[0m\u001b[0;34m,\u001b[0m \u001b[0;34m'end'\u001b[0m\u001b[0;34m,\u001b[0m \u001b[0mbatch\u001b[0m\u001b[0;34m,\u001b[0m \u001b[0mlogs\u001b[0m\u001b[0;34m=\u001b[0m\u001b[0mlogs\u001b[0m\u001b[0;34m)\u001b[0m\u001b[0;34m\u001b[0m\u001b[0;34m\u001b[0m\u001b[0m\n\u001b[0m\u001b[1;32m    437\u001b[0m \u001b[0;34m\u001b[0m\u001b[0m\n\u001b[1;32m    438\u001b[0m   \u001b[0;32mdef\u001b[0m \u001b[0mon_test_batch_begin\u001b[0m\u001b[0;34m(\u001b[0m\u001b[0mself\u001b[0m\u001b[0;34m,\u001b[0m \u001b[0mbatch\u001b[0m\u001b[0;34m,\u001b[0m \u001b[0mlogs\u001b[0m\u001b[0;34m=\u001b[0m\u001b[0;32mNone\u001b[0m\u001b[0;34m)\u001b[0m\u001b[0;34m:\u001b[0m\u001b[0;34m\u001b[0m\u001b[0;34m\u001b[0m\u001b[0m\n",
            "\u001b[0;32m/usr/local/lib/python3.7/dist-packages/keras/callbacks.py\u001b[0m in \u001b[0;36m_call_batch_hook\u001b[0;34m(self, mode, hook, batch, logs)\u001b[0m\n\u001b[1;32m    293\u001b[0m       \u001b[0mself\u001b[0m\u001b[0;34m.\u001b[0m\u001b[0m_call_batch_begin_hook\u001b[0m\u001b[0;34m(\u001b[0m\u001b[0mmode\u001b[0m\u001b[0;34m,\u001b[0m \u001b[0mbatch\u001b[0m\u001b[0;34m,\u001b[0m \u001b[0mlogs\u001b[0m\u001b[0;34m)\u001b[0m\u001b[0;34m\u001b[0m\u001b[0;34m\u001b[0m\u001b[0m\n\u001b[1;32m    294\u001b[0m     \u001b[0;32melif\u001b[0m \u001b[0mhook\u001b[0m \u001b[0;34m==\u001b[0m \u001b[0;34m'end'\u001b[0m\u001b[0;34m:\u001b[0m\u001b[0;34m\u001b[0m\u001b[0;34m\u001b[0m\u001b[0m\n\u001b[0;32m--> 295\u001b[0;31m       \u001b[0mself\u001b[0m\u001b[0;34m.\u001b[0m\u001b[0m_call_batch_end_hook\u001b[0m\u001b[0;34m(\u001b[0m\u001b[0mmode\u001b[0m\u001b[0;34m,\u001b[0m \u001b[0mbatch\u001b[0m\u001b[0;34m,\u001b[0m \u001b[0mlogs\u001b[0m\u001b[0;34m)\u001b[0m\u001b[0;34m\u001b[0m\u001b[0;34m\u001b[0m\u001b[0m\n\u001b[0m\u001b[1;32m    296\u001b[0m     \u001b[0;32melse\u001b[0m\u001b[0;34m:\u001b[0m\u001b[0;34m\u001b[0m\u001b[0;34m\u001b[0m\u001b[0m\n\u001b[1;32m    297\u001b[0m       raise ValueError(\n",
            "\u001b[0;32m/usr/local/lib/python3.7/dist-packages/keras/callbacks.py\u001b[0m in \u001b[0;36m_call_batch_end_hook\u001b[0;34m(self, mode, batch, logs)\u001b[0m\n\u001b[1;32m    314\u001b[0m       \u001b[0mself\u001b[0m\u001b[0;34m.\u001b[0m\u001b[0m_batch_times\u001b[0m\u001b[0;34m.\u001b[0m\u001b[0mappend\u001b[0m\u001b[0;34m(\u001b[0m\u001b[0mbatch_time\u001b[0m\u001b[0;34m)\u001b[0m\u001b[0;34m\u001b[0m\u001b[0;34m\u001b[0m\u001b[0m\n\u001b[1;32m    315\u001b[0m \u001b[0;34m\u001b[0m\u001b[0m\n\u001b[0;32m--> 316\u001b[0;31m     \u001b[0mself\u001b[0m\u001b[0;34m.\u001b[0m\u001b[0m_call_batch_hook_helper\u001b[0m\u001b[0;34m(\u001b[0m\u001b[0mhook_name\u001b[0m\u001b[0;34m,\u001b[0m \u001b[0mbatch\u001b[0m\u001b[0;34m,\u001b[0m \u001b[0mlogs\u001b[0m\u001b[0;34m)\u001b[0m\u001b[0;34m\u001b[0m\u001b[0;34m\u001b[0m\u001b[0m\n\u001b[0m\u001b[1;32m    317\u001b[0m \u001b[0;34m\u001b[0m\u001b[0m\n\u001b[1;32m    318\u001b[0m     \u001b[0;32mif\u001b[0m \u001b[0mlen\u001b[0m\u001b[0;34m(\u001b[0m\u001b[0mself\u001b[0m\u001b[0;34m.\u001b[0m\u001b[0m_batch_times\u001b[0m\u001b[0;34m)\u001b[0m \u001b[0;34m>=\u001b[0m \u001b[0mself\u001b[0m\u001b[0;34m.\u001b[0m\u001b[0m_num_batches_for_timing_check\u001b[0m\u001b[0;34m:\u001b[0m\u001b[0;34m\u001b[0m\u001b[0;34m\u001b[0m\u001b[0m\n",
            "\u001b[0;32m/usr/local/lib/python3.7/dist-packages/keras/callbacks.py\u001b[0m in \u001b[0;36m_call_batch_hook_helper\u001b[0;34m(self, hook_name, batch, logs)\u001b[0m\n\u001b[1;32m    352\u001b[0m     \u001b[0;32mfor\u001b[0m \u001b[0mcallback\u001b[0m \u001b[0;32min\u001b[0m \u001b[0mself\u001b[0m\u001b[0;34m.\u001b[0m\u001b[0mcallbacks\u001b[0m\u001b[0;34m:\u001b[0m\u001b[0;34m\u001b[0m\u001b[0;34m\u001b[0m\u001b[0m\n\u001b[1;32m    353\u001b[0m       \u001b[0mhook\u001b[0m \u001b[0;34m=\u001b[0m \u001b[0mgetattr\u001b[0m\u001b[0;34m(\u001b[0m\u001b[0mcallback\u001b[0m\u001b[0;34m,\u001b[0m \u001b[0mhook_name\u001b[0m\u001b[0;34m)\u001b[0m\u001b[0;34m\u001b[0m\u001b[0;34m\u001b[0m\u001b[0m\n\u001b[0;32m--> 354\u001b[0;31m       \u001b[0mhook\u001b[0m\u001b[0;34m(\u001b[0m\u001b[0mbatch\u001b[0m\u001b[0;34m,\u001b[0m \u001b[0mlogs\u001b[0m\u001b[0;34m)\u001b[0m\u001b[0;34m\u001b[0m\u001b[0;34m\u001b[0m\u001b[0m\n\u001b[0m\u001b[1;32m    355\u001b[0m \u001b[0;34m\u001b[0m\u001b[0m\n\u001b[1;32m    356\u001b[0m     \u001b[0;32mif\u001b[0m \u001b[0mself\u001b[0m\u001b[0;34m.\u001b[0m\u001b[0m_check_timing\u001b[0m\u001b[0;34m:\u001b[0m\u001b[0;34m\u001b[0m\u001b[0;34m\u001b[0m\u001b[0m\n",
            "\u001b[0;32m/usr/local/lib/python3.7/dist-packages/keras/callbacks.py\u001b[0m in \u001b[0;36mon_train_batch_end\u001b[0;34m(self, batch, logs)\u001b[0m\n\u001b[1;32m   1030\u001b[0m \u001b[0;34m\u001b[0m\u001b[0m\n\u001b[1;32m   1031\u001b[0m   \u001b[0;32mdef\u001b[0m \u001b[0mon_train_batch_end\u001b[0m\u001b[0;34m(\u001b[0m\u001b[0mself\u001b[0m\u001b[0;34m,\u001b[0m \u001b[0mbatch\u001b[0m\u001b[0;34m,\u001b[0m \u001b[0mlogs\u001b[0m\u001b[0;34m=\u001b[0m\u001b[0;32mNone\u001b[0m\u001b[0;34m)\u001b[0m\u001b[0;34m:\u001b[0m\u001b[0;34m\u001b[0m\u001b[0;34m\u001b[0m\u001b[0m\n\u001b[0;32m-> 1032\u001b[0;31m     \u001b[0mself\u001b[0m\u001b[0;34m.\u001b[0m\u001b[0m_batch_update_progbar\u001b[0m\u001b[0;34m(\u001b[0m\u001b[0mbatch\u001b[0m\u001b[0;34m,\u001b[0m \u001b[0mlogs\u001b[0m\u001b[0;34m)\u001b[0m\u001b[0;34m\u001b[0m\u001b[0;34m\u001b[0m\u001b[0m\n\u001b[0m\u001b[1;32m   1033\u001b[0m \u001b[0;34m\u001b[0m\u001b[0m\n\u001b[1;32m   1034\u001b[0m   \u001b[0;32mdef\u001b[0m \u001b[0mon_test_batch_end\u001b[0m\u001b[0;34m(\u001b[0m\u001b[0mself\u001b[0m\u001b[0;34m,\u001b[0m \u001b[0mbatch\u001b[0m\u001b[0;34m,\u001b[0m \u001b[0mlogs\u001b[0m\u001b[0;34m=\u001b[0m\u001b[0;32mNone\u001b[0m\u001b[0;34m)\u001b[0m\u001b[0;34m:\u001b[0m\u001b[0;34m\u001b[0m\u001b[0;34m\u001b[0m\u001b[0m\n",
            "\u001b[0;32m/usr/local/lib/python3.7/dist-packages/keras/callbacks.py\u001b[0m in \u001b[0;36m_batch_update_progbar\u001b[0;34m(self, batch, logs)\u001b[0m\n\u001b[1;32m   1103\u001b[0m       \u001b[0;31m# Only block async when verbose = 1.\u001b[0m\u001b[0;34m\u001b[0m\u001b[0;34m\u001b[0m\u001b[0;34m\u001b[0m\u001b[0m\n\u001b[1;32m   1104\u001b[0m       \u001b[0mlogs\u001b[0m \u001b[0;34m=\u001b[0m \u001b[0mtf_utils\u001b[0m\u001b[0;34m.\u001b[0m\u001b[0msync_to_numpy_or_python_type\u001b[0m\u001b[0;34m(\u001b[0m\u001b[0mlogs\u001b[0m\u001b[0;34m)\u001b[0m\u001b[0;34m\u001b[0m\u001b[0;34m\u001b[0m\u001b[0m\n\u001b[0;32m-> 1105\u001b[0;31m       \u001b[0mself\u001b[0m\u001b[0;34m.\u001b[0m\u001b[0mprogbar\u001b[0m\u001b[0;34m.\u001b[0m\u001b[0mupdate\u001b[0m\u001b[0;34m(\u001b[0m\u001b[0mself\u001b[0m\u001b[0;34m.\u001b[0m\u001b[0mseen\u001b[0m\u001b[0;34m,\u001b[0m \u001b[0mlist\u001b[0m\u001b[0;34m(\u001b[0m\u001b[0mlogs\u001b[0m\u001b[0;34m.\u001b[0m\u001b[0mitems\u001b[0m\u001b[0;34m(\u001b[0m\u001b[0;34m)\u001b[0m\u001b[0;34m)\u001b[0m\u001b[0;34m,\u001b[0m \u001b[0mfinalize\u001b[0m\u001b[0;34m=\u001b[0m\u001b[0;32mFalse\u001b[0m\u001b[0;34m)\u001b[0m\u001b[0;34m\u001b[0m\u001b[0;34m\u001b[0m\u001b[0m\n\u001b[0m\u001b[1;32m   1106\u001b[0m \u001b[0;34m\u001b[0m\u001b[0m\n\u001b[1;32m   1107\u001b[0m   \u001b[0;32mdef\u001b[0m \u001b[0m_finalize_progbar\u001b[0m\u001b[0;34m(\u001b[0m\u001b[0mself\u001b[0m\u001b[0;34m,\u001b[0m \u001b[0mlogs\u001b[0m\u001b[0;34m,\u001b[0m \u001b[0mcounter\u001b[0m\u001b[0;34m)\u001b[0m\u001b[0;34m:\u001b[0m\u001b[0;34m\u001b[0m\u001b[0;34m\u001b[0m\u001b[0m\n",
            "\u001b[0;32m/usr/local/lib/python3.7/dist-packages/keras/utils/generic_utils.py\u001b[0m in \u001b[0;36mupdate\u001b[0;34m(self, current, values, finalize)\u001b[0m\n\u001b[1;32m    972\u001b[0m \u001b[0;34m\u001b[0m\u001b[0m\n\u001b[1;32m    973\u001b[0m       \u001b[0msys\u001b[0m\u001b[0;34m.\u001b[0m\u001b[0mstdout\u001b[0m\u001b[0;34m.\u001b[0m\u001b[0mwrite\u001b[0m\u001b[0;34m(\u001b[0m\u001b[0minfo\u001b[0m\u001b[0;34m)\u001b[0m\u001b[0;34m\u001b[0m\u001b[0;34m\u001b[0m\u001b[0m\n\u001b[0;32m--> 974\u001b[0;31m       \u001b[0msys\u001b[0m\u001b[0;34m.\u001b[0m\u001b[0mstdout\u001b[0m\u001b[0;34m.\u001b[0m\u001b[0mflush\u001b[0m\u001b[0;34m(\u001b[0m\u001b[0;34m)\u001b[0m\u001b[0;34m\u001b[0m\u001b[0;34m\u001b[0m\u001b[0m\n\u001b[0m\u001b[1;32m    975\u001b[0m \u001b[0;34m\u001b[0m\u001b[0m\n\u001b[1;32m    976\u001b[0m     \u001b[0;32melif\u001b[0m \u001b[0mself\u001b[0m\u001b[0;34m.\u001b[0m\u001b[0mverbose\u001b[0m \u001b[0;34m==\u001b[0m \u001b[0;36m2\u001b[0m\u001b[0;34m:\u001b[0m\u001b[0;34m\u001b[0m\u001b[0;34m\u001b[0m\u001b[0m\n",
            "\u001b[0;32m/usr/local/lib/python3.7/dist-packages/ipykernel/iostream.py\u001b[0m in \u001b[0;36mflush\u001b[0;34m(self)\u001b[0m\n\u001b[1;32m    347\u001b[0m                 \u001b[0mself\u001b[0m\u001b[0;34m.\u001b[0m\u001b[0mpub_thread\u001b[0m\u001b[0;34m.\u001b[0m\u001b[0mschedule\u001b[0m\u001b[0;34m(\u001b[0m\u001b[0mevt\u001b[0m\u001b[0;34m.\u001b[0m\u001b[0mset\u001b[0m\u001b[0;34m)\u001b[0m\u001b[0;34m\u001b[0m\u001b[0;34m\u001b[0m\u001b[0m\n\u001b[1;32m    348\u001b[0m                 \u001b[0;31m# and give a timeout to avoid\u001b[0m\u001b[0;34m\u001b[0m\u001b[0;34m\u001b[0m\u001b[0;34m\u001b[0m\u001b[0m\n\u001b[0;32m--> 349\u001b[0;31m                 \u001b[0;32mif\u001b[0m \u001b[0;32mnot\u001b[0m \u001b[0mevt\u001b[0m\u001b[0;34m.\u001b[0m\u001b[0mwait\u001b[0m\u001b[0;34m(\u001b[0m\u001b[0mself\u001b[0m\u001b[0;34m.\u001b[0m\u001b[0mflush_timeout\u001b[0m\u001b[0;34m)\u001b[0m\u001b[0;34m:\u001b[0m\u001b[0;34m\u001b[0m\u001b[0;34m\u001b[0m\u001b[0m\n\u001b[0m\u001b[1;32m    350\u001b[0m                     \u001b[0;31m# write directly to __stderr__ instead of warning because\u001b[0m\u001b[0;34m\u001b[0m\u001b[0;34m\u001b[0m\u001b[0;34m\u001b[0m\u001b[0m\n\u001b[1;32m    351\u001b[0m                     \u001b[0;31m# if this is happening sys.stderr may be the problem.\u001b[0m\u001b[0;34m\u001b[0m\u001b[0;34m\u001b[0m\u001b[0;34m\u001b[0m\u001b[0m\n",
            "\u001b[0;32m/usr/lib/python3.7/threading.py\u001b[0m in \u001b[0;36mwait\u001b[0;34m(self, timeout)\u001b[0m\n\u001b[1;32m    550\u001b[0m             \u001b[0msignaled\u001b[0m \u001b[0;34m=\u001b[0m \u001b[0mself\u001b[0m\u001b[0;34m.\u001b[0m\u001b[0m_flag\u001b[0m\u001b[0;34m\u001b[0m\u001b[0;34m\u001b[0m\u001b[0m\n\u001b[1;32m    551\u001b[0m             \u001b[0;32mif\u001b[0m \u001b[0;32mnot\u001b[0m \u001b[0msignaled\u001b[0m\u001b[0;34m:\u001b[0m\u001b[0;34m\u001b[0m\u001b[0;34m\u001b[0m\u001b[0m\n\u001b[0;32m--> 552\u001b[0;31m                 \u001b[0msignaled\u001b[0m \u001b[0;34m=\u001b[0m \u001b[0mself\u001b[0m\u001b[0;34m.\u001b[0m\u001b[0m_cond\u001b[0m\u001b[0;34m.\u001b[0m\u001b[0mwait\u001b[0m\u001b[0;34m(\u001b[0m\u001b[0mtimeout\u001b[0m\u001b[0;34m)\u001b[0m\u001b[0;34m\u001b[0m\u001b[0;34m\u001b[0m\u001b[0m\n\u001b[0m\u001b[1;32m    553\u001b[0m             \u001b[0;32mreturn\u001b[0m \u001b[0msignaled\u001b[0m\u001b[0;34m\u001b[0m\u001b[0;34m\u001b[0m\u001b[0m\n\u001b[1;32m    554\u001b[0m \u001b[0;34m\u001b[0m\u001b[0m\n",
            "\u001b[0;32m/usr/lib/python3.7/threading.py\u001b[0m in \u001b[0;36mwait\u001b[0;34m(self, timeout)\u001b[0m\n\u001b[1;32m    298\u001b[0m             \u001b[0;32melse\u001b[0m\u001b[0;34m:\u001b[0m\u001b[0;34m\u001b[0m\u001b[0;34m\u001b[0m\u001b[0m\n\u001b[1;32m    299\u001b[0m                 \u001b[0;32mif\u001b[0m \u001b[0mtimeout\u001b[0m \u001b[0;34m>\u001b[0m \u001b[0;36m0\u001b[0m\u001b[0;34m:\u001b[0m\u001b[0;34m\u001b[0m\u001b[0;34m\u001b[0m\u001b[0m\n\u001b[0;32m--> 300\u001b[0;31m                     \u001b[0mgotit\u001b[0m \u001b[0;34m=\u001b[0m \u001b[0mwaiter\u001b[0m\u001b[0;34m.\u001b[0m\u001b[0macquire\u001b[0m\u001b[0;34m(\u001b[0m\u001b[0;32mTrue\u001b[0m\u001b[0;34m,\u001b[0m \u001b[0mtimeout\u001b[0m\u001b[0;34m)\u001b[0m\u001b[0;34m\u001b[0m\u001b[0;34m\u001b[0m\u001b[0m\n\u001b[0m\u001b[1;32m    301\u001b[0m                 \u001b[0;32melse\u001b[0m\u001b[0;34m:\u001b[0m\u001b[0;34m\u001b[0m\u001b[0;34m\u001b[0m\u001b[0m\n\u001b[1;32m    302\u001b[0m                     \u001b[0mgotit\u001b[0m \u001b[0;34m=\u001b[0m \u001b[0mwaiter\u001b[0m\u001b[0;34m.\u001b[0m\u001b[0macquire\u001b[0m\u001b[0;34m(\u001b[0m\u001b[0;32mFalse\u001b[0m\u001b[0;34m)\u001b[0m\u001b[0;34m\u001b[0m\u001b[0;34m\u001b[0m\u001b[0m\n",
            "\u001b[0;31mKeyboardInterrupt\u001b[0m: "
          ]
        }
      ]
    }
  ]
}