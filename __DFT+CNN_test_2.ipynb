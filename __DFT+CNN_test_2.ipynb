{
  "nbformat": 4,
  "nbformat_minor": 0,
  "metadata": {
    "colab": {
      "name": "__DFT+CNN_test.ipynb",
      "provenance": [],
      "mount_file_id": "18r69LbxCgtdv9i1dK5FI_CrmZusiZnJ0",
      "authorship_tag": "ABX9TyPafQe0QlYMotoAIZTgPdO5",
      "include_colab_link": true
    },
    "kernelspec": {
      "name": "python3",
      "display_name": "Python 3"
    },
    "language_info": {
      "name": "python"
    }
  },
  "cells": [
    {
      "cell_type": "markdown",
      "metadata": {
        "id": "view-in-github",
        "colab_type": "text"
      },
      "source": [
        "<a href=\"https://colab.research.google.com/github/sakibchowdhury131/railcop/blob/main/__DFT%2BCNN_test_2.ipynb\" target=\"_parent\"><img src=\"https://colab.research.google.com/assets/colab-badge.svg\" alt=\"Open In Colab\"/></a>"
      ]
    },
    {
      "cell_type": "code",
      "metadata": {
        "colab": {
          "base_uri": "https://localhost:8080/"
        },
        "id": "GS-nyQLcCfhQ",
        "outputId": "f7bae032-4208-4807-c100-54e75c651a7c"
      },
      "source": [
        "!pip install -q tensorflow==2.2.0"
      ],
      "execution_count": null,
      "outputs": [
        {
          "output_type": "stream",
          "name": "stdout",
          "text": [
            "\u001b[K     |████████████████████████████████| 516.2 MB 4.1 kB/s \n",
            "\u001b[K     |████████████████████████████████| 3.0 MB 55.1 MB/s \n",
            "\u001b[K     |████████████████████████████████| 2.9 MB 42.8 MB/s \n",
            "\u001b[K     |████████████████████████████████| 454 kB 51.2 MB/s \n",
            "\u001b[?25h"
          ]
        }
      ]
    },
    {
      "cell_type": "code",
      "metadata": {
        "colab": {
          "base_uri": "https://localhost:8080/"
        },
        "id": "I-4d4ZklblM9",
        "outputId": "57095453-8ad8-4fa1-de63-c734b12285fd"
      },
      "source": [
        "from google.colab import drive\n",
        "drive.mount('/content/drive')"
      ],
      "execution_count": 1,
      "outputs": [
        {
          "output_type": "stream",
          "name": "stdout",
          "text": [
            "Drive already mounted at /content/drive; to attempt to forcibly remount, call drive.mount(\"/content/drive\", force_remount=True).\n"
          ]
        }
      ]
    },
    {
      "cell_type": "code",
      "metadata": {
        "id": "VMGFU-7Vg8Y6"
      },
      "source": [
        "import numpy as np\n",
        "np.random.seed(1)\n",
        "\n",
        "import tensorflow as tf\n",
        "tf.random.set_seed(1)"
      ],
      "execution_count": 2,
      "outputs": []
    },
    {
      "cell_type": "code",
      "metadata": {
        "id": "MwBbdKz5hHoU"
      },
      "source": [
        "import os\n",
        "from tensorflow import keras\n",
        "import matplotlib.pyplot as plt\n",
        "import math\n",
        "import pandas as pd"
      ],
      "execution_count": 3,
      "outputs": []
    },
    {
      "cell_type": "code",
      "metadata": {
        "colab": {
          "base_uri": "https://localhost:8080/"
        },
        "id": "zK4WfmLUCxO_",
        "outputId": "ad365073-49cf-4f5d-92ee-a48abc598148"
      },
      "source": [
        "label0 = pd.read_csv('/content/drive/MyDrive/RailCop/New Files/Sakib/data/label0/Copy of train_1.csv')\n",
        "label1 = pd.read_csv('/content/drive/MyDrive/RailCop/New Files/Sakib/data/label1/Copy of train_1.csv')\n",
        "print(label1)"
      ],
      "execution_count": 4,
      "outputs": [
        {
          "output_type": "stream",
          "name": "stdout",
          "text": [
            "      Sensor1  Sensor2  ...  Sensor2+Sensor4  Sensor1+Sensor2+Sensor3\n",
            "0           2        9  ...               10                       12\n",
            "1           4        9  ...                9                       13\n",
            "2           4        9  ...               11                       15\n",
            "3           4       11  ...               12                       16\n",
            "4           2        9  ...               10                       12\n",
            "...       ...      ...  ...              ...                      ...\n",
            "5384        3        9  ...               10                       13\n",
            "5385        3       10  ...               11                       14\n",
            "5386        4        8  ...                9                       13\n",
            "5387        3        9  ...               10                       13\n",
            "5388        3       10  ...               12                       15\n",
            "\n",
            "[5389 rows x 7 columns]\n"
          ]
        }
      ]
    },
    {
      "cell_type": "code",
      "metadata": {
        "colab": {
          "base_uri": "https://localhost:8080/"
        },
        "id": "dSHgZYxHEQjv",
        "outputId": "65d96235-95db-4de6-813d-a96f5a39b3b8"
      },
      "source": [
        "__fullVector0 = label0['Sensor1+Sensor2+Sensor3'].to_numpy()\n",
        "__fullVector1 = label1['Sensor1+Sensor2+Sensor3'].to_numpy()\n",
        "\n",
        "\n",
        "print(__fullVector0.shape)\n",
        "print(__fullVector1.shape)\n"
      ],
      "execution_count": 5,
      "outputs": [
        {
          "output_type": "stream",
          "name": "stdout",
          "text": [
            "(23050,)\n",
            "(5389,)\n"
          ]
        }
      ]
    },
    {
      "cell_type": "code",
      "metadata": {
        "id": "IxHOcgAKEzFD"
      },
      "source": [
        "__frameSize = 100\n",
        "\n",
        "## label 0 framing\n",
        "\n",
        "__numFrames0 = int(__fullVector0.shape[0] / __frameSize)\n",
        "__frames0 = np.zeros((__numFrames0,__frameSize))\n",
        "for i in range (0, __numFrames0):\n",
        "  for j in range (0, __frameSize):\n",
        "    __frames0[i][j] = __fullVector0[i*__frameSize+j]"
      ],
      "execution_count": 35,
      "outputs": []
    },
    {
      "cell_type": "code",
      "metadata": {
        "id": "LLdPYaw6InIu"
      },
      "source": [
        "## label 1 framing\n",
        "\n",
        "__numFrames1 = int(__fullVector1.shape[0] / __frameSize)\n",
        "__frames1 = np.zeros((__numFrames1,__frameSize))\n",
        "for i in range (0, __numFrames1):\n",
        "  for j in range (0, __frameSize):\n",
        "    __frames1[i][j] = __fullVector1[i*__frameSize+j]"
      ],
      "execution_count": 36,
      "outputs": []
    },
    {
      "cell_type": "code",
      "metadata": {
        "colab": {
          "base_uri": "https://localhost:8080/"
        },
        "id": "OaiwVxH2JDM1",
        "outputId": "4d44e3c4-d09e-452d-a123-189585021389"
      },
      "source": [
        "__frames0.shape"
      ],
      "execution_count": 37,
      "outputs": [
        {
          "output_type": "execute_result",
          "data": {
            "text/plain": [
              "(230, 100)"
            ]
          },
          "metadata": {},
          "execution_count": 37
        }
      ]
    },
    {
      "cell_type": "code",
      "metadata": {
        "colab": {
          "base_uri": "https://localhost:8080/"
        },
        "id": "vcL-0u7tJIe8",
        "outputId": "2f6dec32-74d9-447d-dbef-1a6d61290020"
      },
      "source": [
        "__frames1.shape"
      ],
      "execution_count": 38,
      "outputs": [
        {
          "output_type": "execute_result",
          "data": {
            "text/plain": [
              "(53, 100)"
            ]
          },
          "metadata": {},
          "execution_count": 38
        }
      ]
    },
    {
      "cell_type": "code",
      "metadata": {
        "id": "SCU13F4tJR58"
      },
      "source": [
        "__maxFrames = __frames1.shape[0]\n",
        "__label0 = __frames0[0:__maxFrames, :]\n",
        "__label1 = __frames1[0:__maxFrames, :]"
      ],
      "execution_count": 39,
      "outputs": []
    },
    {
      "cell_type": "code",
      "metadata": {
        "colab": {
          "base_uri": "https://localhost:8080/"
        },
        "id": "-HuAiNmf6NnQ",
        "outputId": "009717d1-f6cc-43a6-abd1-5d77093e1528"
      },
      "source": [
        "Y0 = np.zeros(__label0.shape[0])\n",
        "Y1 = np.ones(__label1.shape[0])\n",
        "print(Y0.shape)\n",
        "print(Y1.shape)"
      ],
      "execution_count": 40,
      "outputs": [
        {
          "output_type": "stream",
          "name": "stdout",
          "text": [
            "(53,)\n",
            "(53,)\n"
          ]
        }
      ]
    },
    {
      "cell_type": "code",
      "metadata": {
        "id": "t0fbc4SIPY13"
      },
      "source": [
        "## Applying DFT\n",
        "## finding Fourier Co-efficients Xn\n",
        "\n",
        "def get_xn(samples,n):\n",
        "    L  = len(samples)\n",
        "    ks = np.arange(0,L,1)\n",
        "    xn = np.sum(samples*np.exp((1j*2*np.pi*ks*n)/L))/L\n",
        "    return(xn)"
      ],
      "execution_count": 41,
      "outputs": []
    },
    {
      "cell_type": "code",
      "metadata": {
        "id": "8vsN2UOEPzP2"
      },
      "source": [
        "## Compute Fourier coefficients only up to the Nyquest Limit Xn, n=1,...,L/2 and \n",
        "## multiply the absolute value of the Fourier coefficients by 2, to account for \n",
        "## the symetry of the Fourier coefficients above the Nyquest Limit.\n",
        "\n",
        "\n",
        "def get_xns(samples):\n",
        "    mag = []\n",
        "    L = len(samples)\n",
        "    for n in range(int(L/2)): # Nyquest Limit\n",
        "        mag.append(np.abs(get_xn(samples,n))*2)\n",
        "    return(mag)\n",
        "mag = get_xns(__frames0[2])"
      ],
      "execution_count": 42,
      "outputs": []
    },
    {
      "cell_type": "code",
      "metadata": {
        "colab": {
          "base_uri": "https://localhost:8080/",
          "height": 241
        },
        "id": "qKa6Pah3QEik",
        "outputId": "0cff205a-745d-4e25-f64f-22ff82f35afe"
      },
      "source": [
        "## Fourier Plot \n",
        "\n",
        "def get_Hz_scale_vec(ks,sample_rate,Npoints):\n",
        "    freq_Hz = ks*sample_rate/Npoints\n",
        "    freq_Hz  = [int(i) for i in freq_Hz ] \n",
        "    return(freq_Hz )\n",
        "Nxlim = 12\n",
        "sample_rate = int(9600/4)\n",
        "ks   = np.linspace(0,len(mag),Nxlim)\n",
        "ksHz = get_Hz_scale_vec(ks,sample_rate,len(__frames1[0]))\n",
        "\n",
        "plt.figure(figsize=(20,3))\n",
        "plt.plot(mag[1:])\n",
        "plt.xticks(ks,ksHz)\n",
        "plt.title(\"Frequency Domain\")\n",
        "plt.xlabel(\"Frequency (Hz)\")\n",
        "plt.ylabel(\"|Fourier Coefficient|\")\n",
        "plt.show()"
      ],
      "execution_count": 43,
      "outputs": [
        {
          "output_type": "display_data",
          "data": {
            "image/png": "[encoded data removed]",
            "text/plain": [
              "<Figure size 1440x216 with 1 Axes>"
            ]
          },
          "metadata": {
            "needs_background": "light"
          }
        }
      ]
    },
    {
      "cell_type": "code",
      "metadata": {
        "colab": {
          "base_uri": "https://localhost:8080/",
          "height": 282
        },
        "id": "0OawIhlaWke4",
        "outputId": "5215f853-b781-4566-9312-abba83892938"
      },
      "source": [
        "plt.plot (__label1[3])"
      ],
      "execution_count": 44,
      "outputs": [
        {
          "output_type": "execute_result",
          "data": {
            "text/plain": [
              "[<matplotlib.lines.Line2D at 0x7f375eff0a90>]"
            ]
          },
          "metadata": {},
          "execution_count": 44
        },
        {
          "output_type": "display_data",
          "data": {
            "image/png": "[encoded data removed]",
            "text/plain": [
              "<Figure size 432x288 with 1 Axes>"
            ]
          },
          "metadata": {
            "needs_background": "light"
          }
        }
      ]
    },
    {
      "cell_type": "code",
      "metadata": {
        "id": "MJUw7uZnRSqS"
      },
      "source": [
        "## Fourier coefficients of label0 \n",
        "__fourier0 = np.zeros((__maxFrames,len(mag)))\n",
        "for i in range(0, __maxFrames):\n",
        "  __fourier0[i] = np.array(get_xns(__label0[i]))\n",
        "\n",
        "\n",
        "\n",
        "## Fourier coefficients of label1 \n",
        "__fourier1 = np.zeros((__maxFrames,len(mag)))\n",
        "for i in range(0, __maxFrames):\n",
        "  __fourier1[i] = np.array(get_xns(__label1[i]))"
      ],
      "execution_count": 45,
      "outputs": []
    },
    {
      "cell_type": "code",
      "metadata": {
        "colab": {
          "base_uri": "https://localhost:8080/"
        },
        "id": "6CnpRw747nep",
        "outputId": "881b5f6d-8423-44c7-e2ec-7ab4c02e683d"
      },
      "source": [
        "X = np.asarray(np.concatenate((__fourier0[:, 1:], __fourier1[:, 1:]), axis = 0), dtype=np.float32)\n",
        "Y = np.asarray(np.concatenate((Y0, Y1), axis = 0), dtype = np.float32)\n",
        "print(X.shape)\n",
        "print(Y.shape)"
      ],
      "execution_count": 46,
      "outputs": [
        {
          "output_type": "stream",
          "name": "stdout",
          "text": [
            "(106, 49)\n",
            "(106,)\n"
          ]
        }
      ]
    },
    {
      "cell_type": "code",
      "metadata": {
        "id": "Dkru_rqG8y_j"
      },
      "source": [
        "from sklearn.utils import shuffle\n",
        "X, Y = shuffle(X,Y)"
      ],
      "execution_count": 47,
      "outputs": []
    },
    {
      "cell_type": "code",
      "metadata": {
        "colab": {
          "base_uri": "https://localhost:8080/"
        },
        "id": "mlQZ0BlbVWLM",
        "outputId": "7031ded1-a3fe-4865-dc37-5dd508e6e080"
      },
      "source": [
        "X.shape"
      ],
      "execution_count": 48,
      "outputs": [
        {
          "output_type": "execute_result",
          "data": {
            "text/plain": [
              "(106, 49)"
            ]
          },
          "metadata": {},
          "execution_count": 48
        }
      ]
    },
    {
      "cell_type": "code",
      "metadata": {
        "colab": {
          "base_uri": "https://localhost:8080/"
        },
        "id": "0IkBKV3V8SKV",
        "outputId": "ae736f17-2bb7-45a5-c29c-ce47ab590fde"
      },
      "source": [
        "def network():\n",
        "  __input = keras.Input((X.shape[1], 1))\n",
        "  __conv1 = keras.layers.Conv1D(filters = 16, kernel_size = 3, activation = 'relu')(__input)\n",
        "  __conv2 = keras.layers.Conv1D(filters = 16, kernel_size = 3, activation = 'relu')(__conv1)\n",
        "  __dense3 = keras.layers.Dense(16, activation = 'relu')(__conv2)\n",
        "  __flat4 = keras.layers.Flatten()(__dense3)\n",
        "  __output = keras.layers.Dense(1, activation = 'sigmoid')(__flat4)\n",
        "\n",
        "  model = keras.Model(inputs = __input, outputs = __output)\n",
        "  return model \n",
        "\n",
        "\n",
        "\n",
        "model = network()\n",
        "model.summary()"
      ],
      "execution_count": 54,
      "outputs": [
        {
          "output_type": "stream",
          "name": "stdout",
          "text": [
            "Model: \"model_3\"\n",
            "_________________________________________________________________\n",
            " Layer (type)                Output Shape              Param #   \n",
            "=================================================================\n",
            " input_4 (InputLayer)        [(None, 49, 1)]           0         \n",
            "                                                                 \n",
            " conv1d_6 (Conv1D)           (None, 47, 16)            64        \n",
            "                                                                 \n",
            " conv1d_7 (Conv1D)           (None, 45, 16)            784       \n",
            "                                                                 \n",
            " dense_6 (Dense)             (None, 45, 16)            272       \n",
            "                                                                 \n",
            " flatten_1 (Flatten)         (None, 720)               0         \n",
            "                                                                 \n",
            " dense_7 (Dense)             (None, 1)                 721       \n",
            "                                                                 \n",
            "=================================================================\n",
            "Total params: 1,841\n",
            "Trainable params: 1,841\n",
            "Non-trainable params: 0\n",
            "_________________________________________________________________\n"
          ]
        }
      ]
    },
    {
      "cell_type": "code",
      "metadata": {
        "id": "fjqPOWy4-ihx"
      },
      "source": [
        "model.compile(loss='binary_crossentropy',\n",
        "                      optimizer= 'adam',\n",
        "                      metrics=['accuracy'])"
      ],
      "execution_count": 55,
      "outputs": []
    },
    {
      "cell_type": "code",
      "metadata": {
        "colab": {
          "base_uri": "https://localhost:8080/",
          "height": 1000
        },
        "id": "vuiIE4FR-1LG",
        "outputId": "adab69c4-6c39-40e7-ae1c-d3a2ca2cd535"
      },
      "source": [
        "__modelVersion = '__timeSeriesTest1.0'\n",
        "\n",
        "weight_saver = tf.keras.callbacks.ModelCheckpoint('/content/drive/MyDrive/RailCop/New Files/Sakib/models/'+__modelVersion, monitor='val_accuracy', \n",
        "                                save_best_only=True, save_weights_only=False, mode= 'max')\n",
        "\n",
        "annealer = tf.keras.callbacks.ReduceLROnPlateau(monitor='val_loss', factor=0.5,\n",
        "                              patience=5, min_lr=0.000001,mode= 'min')\n",
        "\n",
        "\n",
        "hist = model.fit( x = X , \n",
        "                  y = Y, \n",
        "                  batch_size = 4,\n",
        "                  epochs = 600,\n",
        "                  callbacks = [weight_saver , annealer],\n",
        "                  validation_split = 0.2,\n",
        "                  shuffle = True,\n",
        "                  verbose = 1)"
      ],
      "execution_count": 56,
      "outputs": [
        {
          "output_type": "stream",
          "name": "stdout",
          "text": [
            "Epoch 1/600\n",
            "13/21 [=================>............] - ETA: 0s - loss: 0.7015 - accuracy: 0.3269 INFO:tensorflow:Assets written to: /content/drive/MyDrive/RailCop/New Files/Sakib/models/__timeSeriesTest1.0/assets\n",
            "21/21 [==============================] - 4s 126ms/step - loss: 0.6992 - accuracy: 0.3690 - val_loss: 0.6872 - val_accuracy: 0.6818 - lr: 0.0010\n",
            "Epoch 2/600\n",
            "21/21 [==============================] - 0s 5ms/step - loss: 0.6877 - accuracy: 0.6190 - val_loss: 0.6864 - val_accuracy: 0.6818 - lr: 0.0010\n",
            "Epoch 3/600\n",
            "21/21 [==============================] - 0s 5ms/step - loss: 0.6849 - accuracy: 0.6905 - val_loss: 0.6848 - val_accuracy: 0.6818 - lr: 0.0010\n",
            "Epoch 4/600\n",
            "21/21 [==============================] - 0s 4ms/step - loss: 0.6793 - accuracy: 0.6190 - val_loss: 0.6907 - val_accuracy: 0.4091 - lr: 0.0010\n",
            "Epoch 5/600\n",
            "21/21 [==============================] - 0s 5ms/step - loss: 0.6691 - accuracy: 0.6786 - val_loss: 0.6775 - val_accuracy: 0.6364 - lr: 0.0010\n",
            "Epoch 6/600\n",
            "21/21 [==============================] - 0s 4ms/step - loss: 0.6566 - accuracy: 0.7262 - val_loss: 0.6713 - val_accuracy: 0.4545 - lr: 0.0010\n",
            "Epoch 7/600\n",
            "21/21 [==============================] - 0s 5ms/step - loss: 0.6465 - accuracy: 0.7262 - val_loss: 0.6737 - val_accuracy: 0.4545 - lr: 0.0010\n",
            "Epoch 8/600\n",
            " 1/21 [>.............................] - ETA: 0s - loss: 0.6410 - accuracy: 0.7500INFO:tensorflow:Assets written to: /content/drive/MyDrive/RailCop/New Files/Sakib/models/__timeSeriesTest1.0/assets\n",
            "21/21 [==============================] - 1s 63ms/step - loss: 0.6164 - accuracy: 0.6905 - val_loss: 0.6361 - val_accuracy: 0.7273 - lr: 0.0010\n",
            "Epoch 9/600\n",
            "21/21 [==============================] - 0s 4ms/step - loss: 0.5904 - accuracy: 0.7738 - val_loss: 0.6254 - val_accuracy: 0.6818 - lr: 0.0010\n",
            "Epoch 10/600\n",
            "21/21 [==============================] - 0s 4ms/step - loss: 0.5497 - accuracy: 0.7738 - val_loss: 0.6498 - val_accuracy: 0.5000 - lr: 0.0010\n",
            "Epoch 11/600\n",
            "21/21 [==============================] - 0s 5ms/step - loss: 0.5266 - accuracy: 0.7619 - val_loss: 0.6151 - val_accuracy: 0.5909 - lr: 0.0010\n",
            "Epoch 12/600\n",
            "21/21 [==============================] - 0s 5ms/step - loss: 0.4747 - accuracy: 0.8214 - val_loss: 0.5911 - val_accuracy: 0.6364 - lr: 0.0010\n",
            "Epoch 13/600\n",
            "21/21 [==============================] - 0s 4ms/step - loss: 0.4528 - accuracy: 0.8214 - val_loss: 0.7883 - val_accuracy: 0.4545 - lr: 0.0010\n",
            "Epoch 14/600\n",
            "21/21 [==============================] - 0s 4ms/step - loss: 0.4328 - accuracy: 0.7738 - val_loss: 0.5711 - val_accuracy: 0.6818 - lr: 0.0010\n",
            "Epoch 15/600\n",
            "21/21 [==============================] - 0s 5ms/step - loss: 0.3959 - accuracy: 0.8333 - val_loss: 0.6502 - val_accuracy: 0.5455 - lr: 0.0010\n",
            "Epoch 16/600\n",
            "21/21 [==============================] - 0s 4ms/step - loss: 0.3768 - accuracy: 0.8452 - val_loss: 0.6211 - val_accuracy: 0.6364 - lr: 0.0010\n",
            "Epoch 17/600\n",
            "21/21 [==============================] - 0s 5ms/step - loss: 0.3920 - accuracy: 0.7857 - val_loss: 0.6017 - val_accuracy: 0.6818 - lr: 0.0010\n",
            "Epoch 18/600\n",
            "21/21 [==============================] - 0s 5ms/step - loss: 0.3559 - accuracy: 0.8333 - val_loss: 0.6327 - val_accuracy: 0.5909 - lr: 0.0010\n",
            "Epoch 19/600\n",
            "21/21 [==============================] - 0s 4ms/step - loss: 0.3347 - accuracy: 0.8571 - val_loss: 0.6845 - val_accuracy: 0.5909 - lr: 0.0010\n",
            "Epoch 20/600\n",
            "21/21 [==============================] - 0s 4ms/step - loss: 0.3157 - accuracy: 0.8690 - val_loss: 0.6729 - val_accuracy: 0.5909 - lr: 5.0000e-04\n",
            "Epoch 21/600\n",
            "21/21 [==============================] - 0s 4ms/step - loss: 0.3138 - accuracy: 0.8810 - val_loss: 0.7017 - val_accuracy: 0.5909 - lr: 5.0000e-04\n",
            "Epoch 22/600\n",
            "21/21 [==============================] - 0s 5ms/step - loss: 0.2981 - accuracy: 0.8810 - val_loss: 0.7047 - val_accuracy: 0.5909 - lr: 5.0000e-04\n",
            "Epoch 23/600\n",
            "21/21 [==============================] - 0s 5ms/step - loss: 0.2951 - accuracy: 0.8690 - val_loss: 0.7151 - val_accuracy: 0.5909 - lr: 5.0000e-04\n",
            "Epoch 24/600\n",
            "21/21 [==============================] - 0s 6ms/step - loss: 0.2868 - accuracy: 0.8690 - val_loss: 0.7159 - val_accuracy: 0.5909 - lr: 5.0000e-04\n",
            "Epoch 25/600\n",
            "21/21 [==============================] - 0s 4ms/step - loss: 0.2784 - accuracy: 0.8810 - val_loss: 0.7212 - val_accuracy: 0.5909 - lr: 2.5000e-04\n",
            "Epoch 26/600\n",
            "21/21 [==============================] - 0s 4ms/step - loss: 0.2760 - accuracy: 0.8690 - val_loss: 0.7454 - val_accuracy: 0.5909 - lr: 2.5000e-04\n",
            "Epoch 27/600\n",
            "21/21 [==============================] - 0s 4ms/step - loss: 0.2701 - accuracy: 0.8810 - val_loss: 0.7262 - val_accuracy: 0.5909 - lr: 2.5000e-04\n",
            "Epoch 28/600\n",
            "21/21 [==============================] - 0s 5ms/step - loss: 0.2679 - accuracy: 0.8810 - val_loss: 0.7492 - val_accuracy: 0.5909 - lr: 2.5000e-04\n",
            "Epoch 29/600\n",
            "21/21 [==============================] - 0s 4ms/step - loss: 0.2658 - accuracy: 0.8810 - val_loss: 0.7732 - val_accuracy: 0.5909 - lr: 2.5000e-04\n",
            "Epoch 30/600\n",
            "21/21 [==============================] - 0s 4ms/step - loss: 0.2625 - accuracy: 0.8810 - val_loss: 0.7602 - val_accuracy: 0.5909 - lr: 1.2500e-04\n",
            "Epoch 31/600\n",
            "21/21 [==============================] - 0s 4ms/step - loss: 0.2595 - accuracy: 0.8810 - val_loss: 0.7560 - val_accuracy: 0.5909 - lr: 1.2500e-04\n",
            "Epoch 32/600\n",
            "21/21 [==============================] - 0s 5ms/step - loss: 0.2602 - accuracy: 0.8810 - val_loss: 0.7500 - val_accuracy: 0.5909 - lr: 1.2500e-04\n",
            "Epoch 33/600\n",
            "21/21 [==============================] - 0s 5ms/step - loss: 0.2623 - accuracy: 0.8810 - val_loss: 0.7760 - val_accuracy: 0.5909 - lr: 1.2500e-04\n",
            "Epoch 34/600\n",
            "21/21 [==============================] - 0s 5ms/step - loss: 0.2538 - accuracy: 0.8929 - val_loss: 0.7508 - val_accuracy: 0.5909 - lr: 1.2500e-04\n",
            "Epoch 35/600\n",
            "21/21 [==============================] - 0s 4ms/step - loss: 0.2531 - accuracy: 0.8810 - val_loss: 0.7537 - val_accuracy: 0.5909 - lr: 6.2500e-05\n",
            "Epoch 36/600\n",
            "21/21 [==============================] - 0s 5ms/step - loss: 0.2522 - accuracy: 0.8929 - val_loss: 0.7562 - val_accuracy: 0.5909 - lr: 6.2500e-05\n",
            "Epoch 37/600\n",
            "21/21 [==============================] - 0s 6ms/step - loss: 0.2526 - accuracy: 0.8929 - val_loss: 0.7707 - val_accuracy: 0.5909 - lr: 6.2500e-05\n",
            "Epoch 38/600\n",
            "21/21 [==============================] - 0s 6ms/step - loss: 0.2510 - accuracy: 0.8929 - val_loss: 0.7641 - val_accuracy: 0.5909 - lr: 6.2500e-05\n",
            "Epoch 39/600\n",
            "21/21 [==============================] - 0s 5ms/step - loss: 0.2501 - accuracy: 0.8929 - val_loss: 0.7662 - val_accuracy: 0.5909 - lr: 6.2500e-05\n",
            "Epoch 40/600\n",
            "21/21 [==============================] - 0s 5ms/step - loss: 0.2488 - accuracy: 0.8929 - val_loss: 0.7697 - val_accuracy: 0.5909 - lr: 3.1250e-05\n",
            "Epoch 41/600\n",
            "21/21 [==============================] - 0s 5ms/step - loss: 0.2488 - accuracy: 0.8929 - val_loss: 0.7717 - val_accuracy: 0.5909 - lr: 3.1250e-05\n",
            "Epoch 42/600\n",
            "21/21 [==============================] - 0s 5ms/step - loss: 0.2483 - accuracy: 0.8929 - val_loss: 0.7746 - val_accuracy: 0.5909 - lr: 3.1250e-05\n",
            "Epoch 43/600\n",
            "21/21 [==============================] - 0s 6ms/step - loss: 0.2480 - accuracy: 0.8929 - val_loss: 0.7728 - val_accuracy: 0.5909 - lr: 3.1250e-05\n",
            "Epoch 44/600\n",
            "21/21 [==============================] - 0s 6ms/step - loss: 0.2477 - accuracy: 0.8929 - val_loss: 0.7728 - val_accuracy: 0.5909 - lr: 3.1250e-05\n",
            "Epoch 45/600\n",
            "21/21 [==============================] - 0s 5ms/step - loss: 0.2472 - accuracy: 0.8929 - val_loss: 0.7742 - val_accuracy: 0.5909 - lr: 1.5625e-05\n",
            "Epoch 46/600\n",
            "21/21 [==============================] - 0s 6ms/step - loss: 0.2469 - accuracy: 0.8929 - val_loss: 0.7741 - val_accuracy: 0.5909 - lr: 1.5625e-05\n",
            "Epoch 47/600\n",
            "21/21 [==============================] - 0s 5ms/step - loss: 0.2469 - accuracy: 0.8929 - val_loss: 0.7721 - val_accuracy: 0.5909 - lr: 1.5625e-05\n",
            "Epoch 48/600\n",
            "21/21 [==============================] - 0s 4ms/step - loss: 0.2465 - accuracy: 0.8929 - val_loss: 0.7739 - val_accuracy: 0.5909 - lr: 1.5625e-05\n",
            "Epoch 49/600\n",
            "21/21 [==============================] - 0s 4ms/step - loss: 0.2464 - accuracy: 0.8929 - val_loss: 0.7745 - val_accuracy: 0.5909 - lr: 1.5625e-05\n",
            "Epoch 50/600\n",
            "21/21 [==============================] - 0s 4ms/step - loss: 0.2461 - accuracy: 0.8929 - val_loss: 0.7745 - val_accuracy: 0.5909 - lr: 7.8125e-06\n",
            "Epoch 51/600\n",
            "21/21 [==============================] - 0s 5ms/step - loss: 0.2461 - accuracy: 0.8929 - val_loss: 0.7743 - val_accuracy: 0.5909 - lr: 7.8125e-06\n",
            "Epoch 52/600\n",
            "21/21 [==============================] - 0s 5ms/step - loss: 0.2459 - accuracy: 0.8929 - val_loss: 0.7748 - val_accuracy: 0.5909 - lr: 7.8125e-06\n",
            "Epoch 53/600\n",
            "21/21 [==============================] - 0s 4ms/step - loss: 0.2459 - accuracy: 0.8929 - val_loss: 0.7746 - val_accuracy: 0.5909 - lr: 7.8125e-06\n",
            "Epoch 54/600\n",
            "21/21 [==============================] - 0s 5ms/step - loss: 0.2458 - accuracy: 0.8929 - val_loss: 0.7756 - val_accuracy: 0.5909 - lr: 7.8125e-06\n",
            "Epoch 55/600\n",
            "21/21 [==============================] - 0s 6ms/step - loss: 0.2457 - accuracy: 0.8929 - val_loss: 0.7757 - val_accuracy: 0.5909 - lr: 3.9063e-06\n",
            "Epoch 56/600\n",
            "21/21 [==============================] - 0s 5ms/step - loss: 0.2457 - accuracy: 0.8929 - val_loss: 0.7759 - val_accuracy: 0.5909 - lr: 3.9063e-06\n",
            "Epoch 57/600\n",
            "21/21 [==============================] - 0s 4ms/step - loss: 0.2456 - accuracy: 0.8929 - val_loss: 0.7755 - val_accuracy: 0.5909 - lr: 3.9063e-06\n",
            "Epoch 58/600\n",
            "21/21 [==============================] - 0s 5ms/step - loss: 0.2456 - accuracy: 0.8929 - val_loss: 0.7755 - val_accuracy: 0.5909 - lr: 3.9063e-06\n",
            "Epoch 59/600\n",
            "21/21 [==============================] - 0s 5ms/step - loss: 0.2455 - accuracy: 0.8929 - val_loss: 0.7757 - val_accuracy: 0.5909 - lr: 3.9063e-06\n",
            "Epoch 60/600\n",
            "21/21 [==============================] - 0s 5ms/step - loss: 0.2454 - accuracy: 0.8929 - val_loss: 0.7757 - val_accuracy: 0.5909 - lr: 1.9531e-06\n",
            "Epoch 61/600\n",
            "21/21 [==============================] - 0s 5ms/step - loss: 0.2455 - accuracy: 0.8929 - val_loss: 0.7760 - val_accuracy: 0.5909 - lr: 1.9531e-06\n",
            "Epoch 62/600\n",
            "21/21 [==============================] - 0s 4ms/step - loss: 0.2454 - accuracy: 0.8929 - val_loss: 0.7760 - val_accuracy: 0.5909 - lr: 1.9531e-06\n",
            "Epoch 63/600\n",
            "21/21 [==============================] - 0s 5ms/step - loss: 0.2454 - accuracy: 0.8929 - val_loss: 0.7759 - val_accuracy: 0.5909 - lr: 1.9531e-06\n",
            "Epoch 64/600\n",
            "21/21 [==============================] - 0s 4ms/step - loss: 0.2454 - accuracy: 0.8929 - val_loss: 0.7758 - val_accuracy: 0.5909 - lr: 1.9531e-06\n",
            "Epoch 65/600\n",
            "21/21 [==============================] - 0s 4ms/step - loss: 0.2453 - accuracy: 0.8929 - val_loss: 0.7759 - val_accuracy: 0.5909 - lr: 1.0000e-06\n",
            "Epoch 66/600\n",
            "21/21 [==============================] - 0s 4ms/step - loss: 0.2453 - accuracy: 0.8929 - val_loss: 0.7760 - val_accuracy: 0.5909 - lr: 1.0000e-06\n",
            "Epoch 67/600\n",
            "21/21 [==============================] - 0s 5ms/step - loss: 0.2453 - accuracy: 0.8929 - val_loss: 0.7760 - val_accuracy: 0.5909 - lr: 1.0000e-06\n",
            "Epoch 68/600\n",
            "21/21 [==============================] - 0s 5ms/step - loss: 0.2453 - accuracy: 0.8929 - val_loss: 0.7759 - val_accuracy: 0.5909 - lr: 1.0000e-06\n",
            "Epoch 69/600\n",
            "21/21 [==============================] - 0s 5ms/step - loss: 0.2453 - accuracy: 0.8929 - val_loss: 0.7760 - val_accuracy: 0.5909 - lr: 1.0000e-06\n",
            "Epoch 70/600\n",
            "21/21 [==============================] - 0s 4ms/step - loss: 0.2453 - accuracy: 0.8929 - val_loss: 0.7759 - val_accuracy: 0.5909 - lr: 1.0000e-06\n",
            "Epoch 71/600\n",
            "21/21 [==============================] - 0s 4ms/step - loss: 0.2453 - accuracy: 0.8929 - val_loss: 0.7759 - val_accuracy: 0.5909 - lr: 1.0000e-06\n",
            "Epoch 72/600\n",
            "21/21 [==============================] - 0s 5ms/step - loss: 0.2453 - accuracy: 0.8929 - val_loss: 0.7760 - val_accuracy: 0.5909 - lr: 1.0000e-06\n",
            "Epoch 73/600\n",
            "21/21 [==============================] - 0s 5ms/step - loss: 0.2453 - accuracy: 0.8929 - val_loss: 0.7760 - val_accuracy: 0.5909 - lr: 1.0000e-06\n",
            "Epoch 74/600\n",
            "21/21 [==============================] - 0s 4ms/step - loss: 0.2452 - accuracy: 0.8929 - val_loss: 0.7761 - val_accuracy: 0.5909 - lr: 1.0000e-06\n",
            "Epoch 75/600\n",
            "21/21 [==============================] - 0s 5ms/step - loss: 0.2452 - accuracy: 0.8929 - val_loss: 0.7760 - val_accuracy: 0.5909 - lr: 1.0000e-06\n",
            "Epoch 76/600\n",
            "21/21 [==============================] - 0s 5ms/step - loss: 0.2452 - accuracy: 0.8929 - val_loss: 0.7761 - val_accuracy: 0.5909 - lr: 1.0000e-06\n",
            "Epoch 77/600\n",
            "21/21 [==============================] - 0s 4ms/step - loss: 0.2452 - accuracy: 0.8929 - val_loss: 0.7762 - val_accuracy: 0.5909 - lr: 1.0000e-06\n",
            "Epoch 78/600\n",
            "21/21 [==============================] - 0s 4ms/step - loss: 0.2452 - accuracy: 0.8929 - val_loss: 0.7762 - val_accuracy: 0.5909 - lr: 1.0000e-06\n",
            "Epoch 79/600\n",
            "21/21 [==============================] - 0s 4ms/step - loss: 0.2452 - accuracy: 0.8929 - val_loss: 0.7762 - val_accuracy: 0.5909 - lr: 1.0000e-06\n",
            "Epoch 80/600\n",
            "21/21 [==============================] - 0s 4ms/step - loss: 0.2452 - accuracy: 0.8929 - val_loss: 0.7762 - val_accuracy: 0.5909 - lr: 1.0000e-06\n",
            "Epoch 81/600\n",
            "21/21 [==============================] - 0s 4ms/step - loss: 0.2452 - accuracy: 0.8929 - val_loss: 0.7762 - val_accuracy: 0.5909 - lr: 1.0000e-06\n",
            "Epoch 82/600\n",
            "21/21 [==============================] - 0s 4ms/step - loss: 0.2451 - accuracy: 0.8929 - val_loss: 0.7762 - val_accuracy: 0.5909 - lr: 1.0000e-06\n",
            "Epoch 83/600\n",
            "21/21 [==============================] - 0s 5ms/step - loss: 0.2452 - accuracy: 0.8929 - val_loss: 0.7764 - val_accuracy: 0.5909 - lr: 1.0000e-06\n",
            "Epoch 84/600\n",
            "21/21 [==============================] - 0s 4ms/step - loss: 0.2451 - accuracy: 0.8929 - val_loss: 0.7763 - val_accuracy: 0.5909 - lr: 1.0000e-06\n",
            "Epoch 85/600\n",
            "21/21 [==============================] - 0s 5ms/step - loss: 0.2451 - accuracy: 0.8929 - val_loss: 0.7763 - val_accuracy: 0.5909 - lr: 1.0000e-06\n",
            "Epoch 86/600\n",
            "21/21 [==============================] - 0s 4ms/step - loss: 0.2451 - accuracy: 0.8929 - val_loss: 0.7764 - val_accuracy: 0.5909 - lr: 1.0000e-06\n",
            "Epoch 87/600\n",
            "21/21 [==============================] - 0s 5ms/step - loss: 0.2451 - accuracy: 0.8929 - val_loss: 0.7763 - val_accuracy: 0.5909 - lr: 1.0000e-06\n",
            "Epoch 88/600\n",
            "21/21 [==============================] - 0s 4ms/step - loss: 0.2451 - accuracy: 0.8929 - val_loss: 0.7764 - val_accuracy: 0.5909 - lr: 1.0000e-06\n",
            "Epoch 89/600\n",
            "21/21 [==============================] - 0s 4ms/step - loss: 0.2451 - accuracy: 0.8929 - val_loss: 0.7764 - val_accuracy: 0.5909 - lr: 1.0000e-06\n",
            "Epoch 90/600\n",
            "21/21 [==============================] - 0s 5ms/step - loss: 0.2451 - accuracy: 0.8929 - val_loss: 0.7765 - val_accuracy: 0.5909 - lr: 1.0000e-06\n",
            "Epoch 91/600\n",
            "21/21 [==============================] - 0s 4ms/step - loss: 0.2451 - accuracy: 0.8929 - val_loss: 0.7765 - val_accuracy: 0.5909 - lr: 1.0000e-06\n",
            "Epoch 92/600\n",
            "21/21 [==============================] - 0s 4ms/step - loss: 0.2451 - accuracy: 0.8929 - val_loss: 0.7765 - val_accuracy: 0.5909 - lr: 1.0000e-06\n",
            "Epoch 93/600\n",
            "21/21 [==============================] - 0s 5ms/step - loss: 0.2450 - accuracy: 0.8929 - val_loss: 0.7764 - val_accuracy: 0.5909 - lr: 1.0000e-06\n",
            "Epoch 94/600\n",
            "21/21 [==============================] - 0s 5ms/step - loss: 0.2450 - accuracy: 0.8929 - val_loss: 0.7765 - val_accuracy: 0.5909 - lr: 1.0000e-06\n",
            "Epoch 95/600\n",
            "21/21 [==============================] - 0s 5ms/step - loss: 0.2450 - accuracy: 0.8929 - val_loss: 0.7765 - val_accuracy: 0.5909 - lr: 1.0000e-06\n",
            "Epoch 96/600\n",
            "21/21 [==============================] - 0s 4ms/step - loss: 0.2450 - accuracy: 0.8929 - val_loss: 0.7765 - val_accuracy: 0.5909 - lr: 1.0000e-06\n",
            "Epoch 97/600\n",
            "21/21 [==============================] - 0s 4ms/step - loss: 0.2450 - accuracy: 0.8929 - val_loss: 0.7766 - val_accuracy: 0.5909 - lr: 1.0000e-06\n",
            "Epoch 98/600\n",
            "21/21 [==============================] - 0s 4ms/step - loss: 0.2450 - accuracy: 0.8929 - val_loss: 0.7767 - val_accuracy: 0.5909 - lr: 1.0000e-06\n",
            "Epoch 99/600\n",
            "21/21 [==============================] - 0s 5ms/step - loss: 0.2450 - accuracy: 0.8929 - val_loss: 0.7766 - val_accuracy: 0.5909 - lr: 1.0000e-06\n",
            "Epoch 100/600\n",
            "21/21 [==============================] - 0s 4ms/step - loss: 0.2450 - accuracy: 0.8929 - val_loss: 0.7767 - val_accuracy: 0.5909 - lr: 1.0000e-06\n",
            "Epoch 101/600\n",
            "21/21 [==============================] - 0s 5ms/step - loss: 0.2450 - accuracy: 0.8929 - val_loss: 0.7767 - val_accuracy: 0.5909 - lr: 1.0000e-06\n",
            "Epoch 102/600\n",
            "21/21 [==============================] - 0s 4ms/step - loss: 0.2450 - accuracy: 0.8929 - val_loss: 0.7767 - val_accuracy: 0.5909 - lr: 1.0000e-06\n",
            "Epoch 103/600\n",
            "21/21 [==============================] - 0s 5ms/step - loss: 0.2450 - accuracy: 0.8929 - val_loss: 0.7766 - val_accuracy: 0.5909 - lr: 1.0000e-06\n",
            "Epoch 104/600\n",
            "21/21 [==============================] - 0s 5ms/step - loss: 0.2449 - accuracy: 0.8929 - val_loss: 0.7766 - val_accuracy: 0.5909 - lr: 1.0000e-06\n",
            "Epoch 105/600\n",
            "21/21 [==============================] - 0s 4ms/step - loss: 0.2449 - accuracy: 0.8929 - val_loss: 0.7768 - val_accuracy: 0.5909 - lr: 1.0000e-06\n",
            "Epoch 106/600\n",
            "21/21 [==============================] - 0s 6ms/step - loss: 0.2449 - accuracy: 0.8929 - val_loss: 0.7767 - val_accuracy: 0.5909 - lr: 1.0000e-06\n",
            "Epoch 107/600\n",
            "21/21 [==============================] - 0s 5ms/step - loss: 0.2449 - accuracy: 0.8929 - val_loss: 0.7768 - val_accuracy: 0.5909 - lr: 1.0000e-06\n",
            "Epoch 108/600\n",
            "21/21 [==============================] - 0s 5ms/step - loss: 0.2449 - accuracy: 0.8929 - val_loss: 0.7767 - val_accuracy: 0.5909 - lr: 1.0000e-06\n",
            "Epoch 109/600\n",
            "21/21 [==============================] - 0s 5ms/step - loss: 0.2449 - accuracy: 0.8929 - val_loss: 0.7768 - val_accuracy: 0.5909 - lr: 1.0000e-06\n",
            "Epoch 110/600\n",
            "21/21 [==============================] - 0s 5ms/step - loss: 0.2449 - accuracy: 0.8929 - val_loss: 0.7769 - val_accuracy: 0.5909 - lr: 1.0000e-06\n",
            "Epoch 111/600\n",
            "21/21 [==============================] - 0s 5ms/step - loss: 0.2449 - accuracy: 0.8929 - val_loss: 0.7769 - val_accuracy: 0.5909 - lr: 1.0000e-06\n",
            "Epoch 112/600\n",
            "21/21 [==============================] - 0s 5ms/step - loss: 0.2449 - accuracy: 0.8929 - val_loss: 0.7769 - val_accuracy: 0.5909 - lr: 1.0000e-06\n",
            "Epoch 113/600\n",
            "21/21 [==============================] - 0s 6ms/step - loss: 0.2449 - accuracy: 0.8929 - val_loss: 0.7770 - val_accuracy: 0.5909 - lr: 1.0000e-06\n",
            "Epoch 114/600\n",
            "21/21 [==============================] - 0s 5ms/step - loss: 0.2448 - accuracy: 0.8929 - val_loss: 0.7769 - val_accuracy: 0.5909 - lr: 1.0000e-06\n",
            "Epoch 115/600\n",
            "21/21 [==============================] - 0s 5ms/step - loss: 0.2448 - accuracy: 0.8929 - val_loss: 0.7769 - val_accuracy: 0.5909 - lr: 1.0000e-06\n",
            "Epoch 116/600\n",
            "21/21 [==============================] - 0s 4ms/step - loss: 0.2448 - accuracy: 0.8929 - val_loss: 0.7770 - val_accuracy: 0.5909 - lr: 1.0000e-06\n",
            "Epoch 117/600\n",
            "21/21 [==============================] - 0s 5ms/step - loss: 0.2448 - accuracy: 0.8929 - val_loss: 0.7770 - val_accuracy: 0.5909 - lr: 1.0000e-06\n",
            "Epoch 118/600\n",
            "21/21 [==============================] - 0s 6ms/step - loss: 0.2448 - accuracy: 0.8929 - val_loss: 0.7770 - val_accuracy: 0.5909 - lr: 1.0000e-06\n",
            "Epoch 119/600\n",
            "21/21 [==============================] - 0s 5ms/step - loss: 0.2448 - accuracy: 0.8929 - val_loss: 0.7770 - val_accuracy: 0.5909 - lr: 1.0000e-06\n",
            "Epoch 120/600\n",
            "21/21 [==============================] - 0s 5ms/step - loss: 0.2448 - accuracy: 0.8929 - val_loss: 0.7769 - val_accuracy: 0.5909 - lr: 1.0000e-06\n",
            "Epoch 121/600\n",
            "21/21 [==============================] - 0s 5ms/step - loss: 0.2448 - accuracy: 0.8929 - val_loss: 0.7771 - val_accuracy: 0.5909 - lr: 1.0000e-06\n",
            "Epoch 122/600\n",
            "21/21 [==============================] - 0s 5ms/step - loss: 0.2448 - accuracy: 0.8929 - val_loss: 0.7770 - val_accuracy: 0.5909 - lr: 1.0000e-06\n",
            "Epoch 123/600\n",
            "21/21 [==============================] - 0s 5ms/step - loss: 0.2448 - accuracy: 0.8929 - val_loss: 0.7771 - val_accuracy: 0.5909 - lr: 1.0000e-06\n",
            "Epoch 124/600\n",
            "21/21 [==============================] - 0s 5ms/step - loss: 0.2447 - accuracy: 0.8929 - val_loss: 0.7771 - val_accuracy: 0.5909 - lr: 1.0000e-06\n",
            "Epoch 125/600\n",
            "21/21 [==============================] - 0s 4ms/step - loss: 0.2447 - accuracy: 0.8929 - val_loss: 0.7772 - val_accuracy: 0.5909 - lr: 1.0000e-06\n",
            "Epoch 126/600\n",
            "21/21 [==============================] - 0s 5ms/step - loss: 0.2447 - accuracy: 0.8929 - val_loss: 0.7772 - val_accuracy: 0.5909 - lr: 1.0000e-06\n",
            "Epoch 127/600\n",
            "21/21 [==============================] - 0s 5ms/step - loss: 0.2447 - accuracy: 0.8929 - val_loss: 0.7771 - val_accuracy: 0.5909 - lr: 1.0000e-06\n",
            "Epoch 128/600\n",
            "21/21 [==============================] - 0s 4ms/step - loss: 0.2447 - accuracy: 0.8929 - val_loss: 0.7772 - val_accuracy: 0.5909 - lr: 1.0000e-06\n",
            "Epoch 129/600\n",
            "21/21 [==============================] - 0s 5ms/step - loss: 0.2447 - accuracy: 0.8929 - val_loss: 0.7773 - val_accuracy: 0.5909 - lr: 1.0000e-06\n",
            "Epoch 130/600\n",
            "21/21 [==============================] - 0s 4ms/step - loss: 0.2447 - accuracy: 0.8929 - val_loss: 0.7773 - val_accuracy: 0.5909 - lr: 1.0000e-06\n",
            "Epoch 131/600\n",
            "21/21 [==============================] - 0s 5ms/step - loss: 0.2447 - accuracy: 0.8929 - val_loss: 0.7772 - val_accuracy: 0.5909 - lr: 1.0000e-06\n",
            "Epoch 132/600\n",
            "21/21 [==============================] - 0s 5ms/step - loss: 0.2447 - accuracy: 0.8929 - val_loss: 0.7773 - val_accuracy: 0.5909 - lr: 1.0000e-06\n",
            "Epoch 133/600\n",
            "21/21 [==============================] - 0s 4ms/step - loss: 0.2446 - accuracy: 0.8929 - val_loss: 0.7773 - val_accuracy: 0.5909 - lr: 1.0000e-06\n",
            "Epoch 134/600\n",
            "21/21 [==============================] - 0s 4ms/step - loss: 0.2446 - accuracy: 0.8929 - val_loss: 0.7773 - val_accuracy: 0.5909 - lr: 1.0000e-06\n",
            "Epoch 135/600\n",
            "21/21 [==============================] - 0s 4ms/step - loss: 0.2446 - accuracy: 0.8929 - val_loss: 0.7774 - val_accuracy: 0.5909 - lr: 1.0000e-06\n",
            "Epoch 136/600\n",
            "21/21 [==============================] - 0s 5ms/step - loss: 0.2446 - accuracy: 0.8929 - val_loss: 0.7774 - val_accuracy: 0.5909 - lr: 1.0000e-06\n",
            "Epoch 137/600\n",
            "21/21 [==============================] - 0s 5ms/step - loss: 0.2446 - accuracy: 0.8929 - val_loss: 0.7774 - val_accuracy: 0.5909 - lr: 1.0000e-06\n",
            "Epoch 138/600\n",
            "21/21 [==============================] - 0s 5ms/step - loss: 0.2446 - accuracy: 0.8929 - val_loss: 0.7773 - val_accuracy: 0.5909 - lr: 1.0000e-06\n",
            "Epoch 139/600\n",
            "21/21 [==============================] - 0s 4ms/step - loss: 0.2446 - accuracy: 0.8929 - val_loss: 0.7775 - val_accuracy: 0.5909 - lr: 1.0000e-06\n",
            "Epoch 140/600\n",
            "21/21 [==============================] - 0s 4ms/step - loss: 0.2446 - accuracy: 0.8929 - val_loss: 0.7774 - val_accuracy: 0.5909 - lr: 1.0000e-06\n",
            "Epoch 141/600\n",
            "21/21 [==============================] - 0s 5ms/step - loss: 0.2446 - accuracy: 0.8929 - val_loss: 0.7775 - val_accuracy: 0.5909 - lr: 1.0000e-06\n",
            "Epoch 142/600\n",
            "21/21 [==============================] - 0s 5ms/step - loss: 0.2446 - accuracy: 0.8929 - val_loss: 0.7775 - val_accuracy: 0.5909 - lr: 1.0000e-06\n",
            "Epoch 143/600\n",
            "21/21 [==============================] - 0s 5ms/step - loss: 0.2445 - accuracy: 0.8929 - val_loss: 0.7775 - val_accuracy: 0.5909 - lr: 1.0000e-06\n",
            "Epoch 144/600\n",
            "21/21 [==============================] - 0s 5ms/step - loss: 0.2445 - accuracy: 0.8929 - val_loss: 0.7775 - val_accuracy: 0.5909 - lr: 1.0000e-06\n",
            "Epoch 145/600\n",
            "21/21 [==============================] - 0s 5ms/step - loss: 0.2445 - accuracy: 0.8929 - val_loss: 0.7776 - val_accuracy: 0.5909 - lr: 1.0000e-06\n",
            "Epoch 146/600\n",
            "21/21 [==============================] - 0s 5ms/step - loss: 0.2445 - accuracy: 0.8929 - val_loss: 0.7775 - val_accuracy: 0.5909 - lr: 1.0000e-06\n",
            "Epoch 147/600\n",
            "21/21 [==============================] - 0s 4ms/step - loss: 0.2445 - accuracy: 0.8929 - val_loss: 0.7775 - val_accuracy: 0.5909 - lr: 1.0000e-06\n",
            "Epoch 148/600\n",
            "21/21 [==============================] - 0s 5ms/step - loss: 0.2445 - accuracy: 0.8929 - val_loss: 0.7777 - val_accuracy: 0.5909 - lr: 1.0000e-06\n",
            "Epoch 149/600\n",
            "21/21 [==============================] - 0s 5ms/step - loss: 0.2445 - accuracy: 0.8929 - val_loss: 0.7776 - val_accuracy: 0.5909 - lr: 1.0000e-06\n",
            "Epoch 150/600\n",
            "21/21 [==============================] - 0s 6ms/step - loss: 0.2445 - accuracy: 0.8929 - val_loss: 0.7777 - val_accuracy: 0.5909 - lr: 1.0000e-06\n",
            "Epoch 151/600\n",
            "21/21 [==============================] - 0s 5ms/step - loss: 0.2445 - accuracy: 0.8929 - val_loss: 0.7777 - val_accuracy: 0.5909 - lr: 1.0000e-06\n",
            "Epoch 152/600\n",
            "21/21 [==============================] - 0s 5ms/step - loss: 0.2445 - accuracy: 0.8929 - val_loss: 0.7776 - val_accuracy: 0.5909 - lr: 1.0000e-06\n",
            "Epoch 153/600\n",
            "21/21 [==============================] - 0s 4ms/step - loss: 0.2444 - accuracy: 0.8929 - val_loss: 0.7777 - val_accuracy: 0.5909 - lr: 1.0000e-06\n",
            "Epoch 154/600\n",
            "21/21 [==============================] - 0s 4ms/step - loss: 0.2444 - accuracy: 0.8929 - val_loss: 0.7776 - val_accuracy: 0.5909 - lr: 1.0000e-06\n",
            "Epoch 155/600\n",
            "21/21 [==============================] - 0s 5ms/step - loss: 0.2444 - accuracy: 0.8929 - val_loss: 0.7777 - val_accuracy: 0.5909 - lr: 1.0000e-06\n",
            "Epoch 156/600\n",
            "21/21 [==============================] - 0s 4ms/step - loss: 0.2444 - accuracy: 0.8929 - val_loss: 0.7777 - val_accuracy: 0.5909 - lr: 1.0000e-06\n",
            "Epoch 157/600\n",
            "21/21 [==============================] - 0s 4ms/step - loss: 0.2444 - accuracy: 0.8929 - val_loss: 0.7777 - val_accuracy: 0.5909 - lr: 1.0000e-06\n",
            "Epoch 158/600\n",
            "21/21 [==============================] - 0s 5ms/step - loss: 0.2444 - accuracy: 0.8929 - val_loss: 0.7777 - val_accuracy: 0.5909 - lr: 1.0000e-06\n",
            "Epoch 159/600\n",
            "21/21 [==============================] - 0s 6ms/step - loss: 0.2444 - accuracy: 0.8929 - val_loss: 0.7778 - val_accuracy: 0.5909 - lr: 1.0000e-06\n",
            "Epoch 160/600\n",
            "21/21 [==============================] - 0s 6ms/step - loss: 0.2444 - accuracy: 0.8929 - val_loss: 0.7777 - val_accuracy: 0.5909 - lr: 1.0000e-06\n",
            "Epoch 161/600\n",
            "21/21 [==============================] - 0s 5ms/step - loss: 0.2444 - accuracy: 0.8929 - val_loss: 0.7779 - val_accuracy: 0.5909 - lr: 1.0000e-06\n",
            "Epoch 162/600\n",
            "21/21 [==============================] - 0s 4ms/step - loss: 0.2444 - accuracy: 0.8929 - val_loss: 0.7778 - val_accuracy: 0.5909 - lr: 1.0000e-06\n",
            "Epoch 163/600\n",
            "21/21 [==============================] - 0s 4ms/step - loss: 0.2443 - accuracy: 0.8929 - val_loss: 0.7779 - val_accuracy: 0.5909 - lr: 1.0000e-06\n",
            "Epoch 164/600\n",
            "21/21 [==============================] - 0s 5ms/step - loss: 0.2443 - accuracy: 0.8929 - val_loss: 0.7778 - val_accuracy: 0.5909 - lr: 1.0000e-06\n",
            "Epoch 165/600\n",
            "21/21 [==============================] - 0s 6ms/step - loss: 0.2443 - accuracy: 0.8929 - val_loss: 0.7779 - val_accuracy: 0.5909 - lr: 1.0000e-06\n",
            "Epoch 166/600\n",
            "21/21 [==============================] - 0s 5ms/step - loss: 0.2443 - accuracy: 0.8929 - val_loss: 0.7780 - val_accuracy: 0.5909 - lr: 1.0000e-06\n",
            "Epoch 167/600\n",
            "21/21 [==============================] - 0s 4ms/step - loss: 0.2443 - accuracy: 0.8929 - val_loss: 0.7780 - val_accuracy: 0.5909 - lr: 1.0000e-06\n",
            "Epoch 168/600\n",
            "21/21 [==============================] - 0s 5ms/step - loss: 0.2443 - accuracy: 0.8929 - val_loss: 0.7780 - val_accuracy: 0.5909 - lr: 1.0000e-06\n",
            "Epoch 169/600\n",
            "21/21 [==============================] - 0s 5ms/step - loss: 0.2443 - accuracy: 0.8929 - val_loss: 0.7779 - val_accuracy: 0.5909 - lr: 1.0000e-06\n",
            "Epoch 170/600\n",
            "21/21 [==============================] - 0s 5ms/step - loss: 0.2443 - accuracy: 0.8929 - val_loss: 0.7781 - val_accuracy: 0.5909 - lr: 1.0000e-06\n",
            "Epoch 171/600\n",
            "21/21 [==============================] - 0s 5ms/step - loss: 0.2443 - accuracy: 0.8929 - val_loss: 0.7780 - val_accuracy: 0.5909 - lr: 1.0000e-06\n",
            "Epoch 172/600\n",
            "21/21 [==============================] - 0s 5ms/step - loss: 0.2443 - accuracy: 0.8929 - val_loss: 0.7780 - val_accuracy: 0.5909 - lr: 1.0000e-06\n",
            "Epoch 173/600\n",
            "21/21 [==============================] - 0s 4ms/step - loss: 0.2442 - accuracy: 0.8929 - val_loss: 0.7781 - val_accuracy: 0.5909 - lr: 1.0000e-06\n",
            "Epoch 174/600\n",
            "21/21 [==============================] - 0s 6ms/step - loss: 0.2442 - accuracy: 0.8929 - val_loss: 0.7781 - val_accuracy: 0.5909 - lr: 1.0000e-06\n",
            "Epoch 175/600\n",
            "21/21 [==============================] - 0s 5ms/step - loss: 0.2442 - accuracy: 0.8929 - val_loss: 0.7781 - val_accuracy: 0.5909 - lr: 1.0000e-06\n",
            "Epoch 176/600\n",
            "21/21 [==============================] - 0s 4ms/step - loss: 0.2442 - accuracy: 0.8929 - val_loss: 0.7781 - val_accuracy: 0.5909 - lr: 1.0000e-06\n",
            "Epoch 177/600\n",
            "21/21 [==============================] - 0s 6ms/step - loss: 0.2442 - accuracy: 0.8929 - val_loss: 0.7782 - val_accuracy: 0.5909 - lr: 1.0000e-06\n",
            "Epoch 178/600\n",
            "21/21 [==============================] - 0s 5ms/step - loss: 0.2442 - accuracy: 0.8929 - val_loss: 0.7781 - val_accuracy: 0.5909 - lr: 1.0000e-06\n",
            "Epoch 179/600\n",
            "21/21 [==============================] - 0s 4ms/step - loss: 0.2442 - accuracy: 0.8929 - val_loss: 0.7782 - val_accuracy: 0.5909 - lr: 1.0000e-06\n",
            "Epoch 180/600\n",
            "21/21 [==============================] - 0s 5ms/step - loss: 0.2442 - accuracy: 0.8929 - val_loss: 0.7783 - val_accuracy: 0.5909 - lr: 1.0000e-06\n",
            "Epoch 181/600\n",
            "21/21 [==============================] - 0s 4ms/step - loss: 0.2442 - accuracy: 0.8929 - val_loss: 0.7784 - val_accuracy: 0.5909 - lr: 1.0000e-06\n",
            "Epoch 182/600\n",
            "21/21 [==============================] - 0s 4ms/step - loss: 0.2442 - accuracy: 0.8929 - val_loss: 0.7781 - val_accuracy: 0.5909 - lr: 1.0000e-06\n",
            "Epoch 183/600\n",
            "21/21 [==============================] - 0s 4ms/step - loss: 0.2442 - accuracy: 0.8929 - val_loss: 0.7783 - val_accuracy: 0.5909 - lr: 1.0000e-06\n",
            "Epoch 184/600\n",
            "21/21 [==============================] - 0s 5ms/step - loss: 0.2442 - accuracy: 0.8929 - val_loss: 0.7784 - val_accuracy: 0.5909 - lr: 1.0000e-06\n",
            "Epoch 185/600\n",
            "21/21 [==============================] - 0s 5ms/step - loss: 0.2441 - accuracy: 0.8929 - val_loss: 0.7784 - val_accuracy: 0.5909 - lr: 1.0000e-06\n",
            "Epoch 186/600\n",
            "21/21 [==============================] - 0s 5ms/step - loss: 0.2441 - accuracy: 0.8929 - val_loss: 0.7783 - val_accuracy: 0.5909 - lr: 1.0000e-06\n",
            "Epoch 187/600\n",
            "21/21 [==============================] - 0s 6ms/step - loss: 0.2441 - accuracy: 0.8929 - val_loss: 0.7784 - val_accuracy: 0.5909 - lr: 1.0000e-06\n",
            "Epoch 188/600\n",
            "21/21 [==============================] - 0s 6ms/step - loss: 0.2441 - accuracy: 0.8929 - val_loss: 0.7784 - val_accuracy: 0.5909 - lr: 1.0000e-06\n",
            "Epoch 189/600\n",
            "21/21 [==============================] - 0s 6ms/step - loss: 0.2441 - accuracy: 0.8929 - val_loss: 0.7784 - val_accuracy: 0.5909 - lr: 1.0000e-06\n",
            "Epoch 190/600\n",
            "21/21 [==============================] - 0s 5ms/step - loss: 0.2441 - accuracy: 0.8929 - val_loss: 0.7785 - val_accuracy: 0.5909 - lr: 1.0000e-06\n",
            "Epoch 191/600\n",
            "21/21 [==============================] - 0s 5ms/step - loss: 0.2441 - accuracy: 0.8929 - val_loss: 0.7783 - val_accuracy: 0.5909 - lr: 1.0000e-06\n",
            "Epoch 192/600\n",
            "21/21 [==============================] - 0s 5ms/step - loss: 0.2441 - accuracy: 0.8929 - val_loss: 0.7785 - val_accuracy: 0.5909 - lr: 1.0000e-06\n",
            "Epoch 193/600\n",
            "21/21 [==============================] - 0s 5ms/step - loss: 0.2440 - accuracy: 0.8929 - val_loss: 0.7785 - val_accuracy: 0.5909 - lr: 1.0000e-06\n",
            "Epoch 194/600\n",
            "21/21 [==============================] - 0s 5ms/step - loss: 0.2440 - accuracy: 0.8929 - val_loss: 0.7785 - val_accuracy: 0.5909 - lr: 1.0000e-06\n",
            "Epoch 195/600\n",
            "21/21 [==============================] - 0s 5ms/step - loss: 0.2440 - accuracy: 0.8929 - val_loss: 0.7785 - val_accuracy: 0.5909 - lr: 1.0000e-06\n",
            "Epoch 196/600\n",
            "21/21 [==============================] - 0s 5ms/step - loss: 0.2440 - accuracy: 0.8929 - val_loss: 0.7785 - val_accuracy: 0.5909 - lr: 1.0000e-06\n",
            "Epoch 197/600\n",
            "21/21 [==============================] - 0s 6ms/step - loss: 0.2440 - accuracy: 0.8929 - val_loss: 0.7785 - val_accuracy: 0.5909 - lr: 1.0000e-06\n",
            "Epoch 198/600\n",
            "21/21 [==============================] - 0s 5ms/step - loss: 0.2440 - accuracy: 0.8929 - val_loss: 0.7787 - val_accuracy: 0.5909 - lr: 1.0000e-06\n",
            "Epoch 199/600\n",
            "21/21 [==============================] - 0s 5ms/step - loss: 0.2440 - accuracy: 0.8929 - val_loss: 0.7786 - val_accuracy: 0.5909 - lr: 1.0000e-06\n",
            "Epoch 200/600\n",
            "21/21 [==============================] - 0s 5ms/step - loss: 0.2440 - accuracy: 0.8929 - val_loss: 0.7787 - val_accuracy: 0.5909 - lr: 1.0000e-06\n",
            "Epoch 201/600\n",
            "21/21 [==============================] - 0s 5ms/step - loss: 0.2440 - accuracy: 0.8929 - val_loss: 0.7785 - val_accuracy: 0.5909 - lr: 1.0000e-06\n",
            "Epoch 202/600\n",
            "21/21 [==============================] - 0s 4ms/step - loss: 0.2439 - accuracy: 0.8929 - val_loss: 0.7786 - val_accuracy: 0.5909 - lr: 1.0000e-06\n",
            "Epoch 203/600\n",
            "21/21 [==============================] - 0s 5ms/step - loss: 0.2440 - accuracy: 0.8929 - val_loss: 0.7787 - val_accuracy: 0.5909 - lr: 1.0000e-06\n",
            "Epoch 204/600\n",
            "21/21 [==============================] - 0s 6ms/step - loss: 0.2440 - accuracy: 0.8929 - val_loss: 0.7788 - val_accuracy: 0.5909 - lr: 1.0000e-06\n",
            "Epoch 205/600\n",
            "21/21 [==============================] - 0s 5ms/step - loss: 0.2439 - accuracy: 0.8929 - val_loss: 0.7788 - val_accuracy: 0.5909 - lr: 1.0000e-06\n",
            "Epoch 206/600\n",
            "21/21 [==============================] - 0s 6ms/step - loss: 0.2439 - accuracy: 0.8929 - val_loss: 0.7787 - val_accuracy: 0.5909 - lr: 1.0000e-06\n",
            "Epoch 207/600\n",
            "21/21 [==============================] - 0s 5ms/step - loss: 0.2439 - accuracy: 0.8929 - val_loss: 0.7787 - val_accuracy: 0.5909 - lr: 1.0000e-06\n",
            "Epoch 208/600\n",
            "21/21 [==============================] - 0s 5ms/step - loss: 0.2439 - accuracy: 0.8929 - val_loss: 0.7788 - val_accuracy: 0.5909 - lr: 1.0000e-06\n",
            "Epoch 209/600\n",
            "21/21 [==============================] - 0s 5ms/step - loss: 0.2439 - accuracy: 0.8929 - val_loss: 0.7789 - val_accuracy: 0.5909 - lr: 1.0000e-06\n",
            "Epoch 210/600\n",
            "21/21 [==============================] - 0s 5ms/step - loss: 0.2439 - accuracy: 0.8929 - val_loss: 0.7789 - val_accuracy: 0.5909 - lr: 1.0000e-06\n",
            "Epoch 211/600\n",
            "21/21 [==============================] - 0s 5ms/step - loss: 0.2439 - accuracy: 0.8929 - val_loss: 0.7789 - val_accuracy: 0.5909 - lr: 1.0000e-06\n",
            "Epoch 212/600\n",
            "21/21 [==============================] - 0s 4ms/step - loss: 0.2439 - accuracy: 0.8929 - val_loss: 0.7790 - val_accuracy: 0.5909 - lr: 1.0000e-06\n",
            "Epoch 213/600\n",
            "21/21 [==============================] - 0s 4ms/step - loss: 0.2438 - accuracy: 0.8929 - val_loss: 0.7789 - val_accuracy: 0.5909 - lr: 1.0000e-06\n",
            "Epoch 214/600\n",
            "21/21 [==============================] - 0s 5ms/step - loss: 0.2438 - accuracy: 0.8929 - val_loss: 0.7790 - val_accuracy: 0.5909 - lr: 1.0000e-06\n",
            "Epoch 215/600\n",
            "21/21 [==============================] - 0s 6ms/step - loss: 0.2438 - accuracy: 0.8929 - val_loss: 0.7789 - val_accuracy: 0.5909 - lr: 1.0000e-06\n",
            "Epoch 216/600\n",
            "21/21 [==============================] - 0s 5ms/step - loss: 0.2438 - accuracy: 0.8929 - val_loss: 0.7789 - val_accuracy: 0.5909 - lr: 1.0000e-06\n",
            "Epoch 217/600\n",
            "21/21 [==============================] - 0s 5ms/step - loss: 0.2438 - accuracy: 0.8929 - val_loss: 0.7789 - val_accuracy: 0.5909 - lr: 1.0000e-06\n",
            "Epoch 218/600\n",
            "21/21 [==============================] - 0s 5ms/step - loss: 0.2438 - accuracy: 0.8929 - val_loss: 0.7790 - val_accuracy: 0.5909 - lr: 1.0000e-06\n",
            "Epoch 219/600\n",
            "21/21 [==============================] - 0s 5ms/step - loss: 0.2438 - accuracy: 0.8929 - val_loss: 0.7789 - val_accuracy: 0.5909 - lr: 1.0000e-06\n",
            "Epoch 220/600\n",
            "21/21 [==============================] - 0s 5ms/step - loss: 0.2438 - accuracy: 0.8929 - val_loss: 0.7791 - val_accuracy: 0.5909 - lr: 1.0000e-06\n",
            "Epoch 221/600\n",
            "21/21 [==============================] - 0s 5ms/step - loss: 0.2438 - accuracy: 0.8929 - val_loss: 0.7790 - val_accuracy: 0.5909 - lr: 1.0000e-06\n",
            "Epoch 222/600\n",
            "21/21 [==============================] - 0s 5ms/step - loss: 0.2438 - accuracy: 0.8929 - val_loss: 0.7791 - val_accuracy: 0.5909 - lr: 1.0000e-06\n",
            "Epoch 223/600\n",
            "21/21 [==============================] - 0s 5ms/step - loss: 0.2438 - accuracy: 0.8929 - val_loss: 0.7792 - val_accuracy: 0.5909 - lr: 1.0000e-06\n",
            "Epoch 224/600\n",
            "21/21 [==============================] - 0s 5ms/step - loss: 0.2437 - accuracy: 0.8929 - val_loss: 0.7791 - val_accuracy: 0.5909 - lr: 1.0000e-06\n",
            "Epoch 225/600\n",
            "21/21 [==============================] - 0s 5ms/step - loss: 0.2437 - accuracy: 0.8929 - val_loss: 0.7792 - val_accuracy: 0.5909 - lr: 1.0000e-06\n",
            "Epoch 226/600\n",
            "21/21 [==============================] - 0s 5ms/step - loss: 0.2437 - accuracy: 0.8929 - val_loss: 0.7791 - val_accuracy: 0.5909 - lr: 1.0000e-06\n",
            "Epoch 227/600\n",
            "21/21 [==============================] - 0s 5ms/step - loss: 0.2437 - accuracy: 0.8929 - val_loss: 0.7792 - val_accuracy: 0.5909 - lr: 1.0000e-06\n",
            "Epoch 228/600\n",
            "21/21 [==============================] - 0s 6ms/step - loss: 0.2437 - accuracy: 0.8929 - val_loss: 0.7791 - val_accuracy: 0.5909 - lr: 1.0000e-06\n",
            "Epoch 229/600\n",
            "21/21 [==============================] - 0s 5ms/step - loss: 0.2437 - accuracy: 0.8929 - val_loss: 0.7792 - val_accuracy: 0.5909 - lr: 1.0000e-06\n",
            "Epoch 230/600\n",
            "21/21 [==============================] - 0s 5ms/step - loss: 0.2437 - accuracy: 0.8929 - val_loss: 0.7792 - val_accuracy: 0.5909 - lr: 1.0000e-06\n",
            "Epoch 231/600\n",
            "21/21 [==============================] - 0s 5ms/step - loss: 0.2437 - accuracy: 0.8929 - val_loss: 0.7792 - val_accuracy: 0.5909 - lr: 1.0000e-06\n",
            "Epoch 232/600\n",
            "21/21 [==============================] - 0s 5ms/step - loss: 0.2437 - accuracy: 0.8929 - val_loss: 0.7793 - val_accuracy: 0.5909 - lr: 1.0000e-06\n",
            "Epoch 233/600\n",
            "21/21 [==============================] - 0s 4ms/step - loss: 0.2436 - accuracy: 0.8929 - val_loss: 0.7793 - val_accuracy: 0.5909 - lr: 1.0000e-06\n",
            "Epoch 234/600\n",
            "21/21 [==============================] - 0s 6ms/step - loss: 0.2437 - accuracy: 0.8929 - val_loss: 0.7795 - val_accuracy: 0.5909 - lr: 1.0000e-06\n",
            "Epoch 235/600\n",
            "21/21 [==============================] - 0s 6ms/step - loss: 0.2436 - accuracy: 0.8929 - val_loss: 0.7794 - val_accuracy: 0.5909 - lr: 1.0000e-06\n",
            "Epoch 236/600\n",
            "21/21 [==============================] - 0s 5ms/step - loss: 0.2436 - accuracy: 0.8929 - val_loss: 0.7793 - val_accuracy: 0.5909 - lr: 1.0000e-06\n",
            "Epoch 237/600\n",
            "21/21 [==============================] - 0s 5ms/step - loss: 0.2436 - accuracy: 0.8929 - val_loss: 0.7794 - val_accuracy: 0.5909 - lr: 1.0000e-06\n",
            "Epoch 238/600\n",
            "21/21 [==============================] - 0s 4ms/step - loss: 0.2436 - accuracy: 0.8929 - val_loss: 0.7794 - val_accuracy: 0.5909 - lr: 1.0000e-06\n",
            "Epoch 239/600\n",
            "21/21 [==============================] - 0s 6ms/step - loss: 0.2436 - accuracy: 0.8929 - val_loss: 0.7794 - val_accuracy: 0.5909 - lr: 1.0000e-06\n",
            "Epoch 240/600\n",
            "21/21 [==============================] - 0s 5ms/step - loss: 0.2436 - accuracy: 0.8929 - val_loss: 0.7794 - val_accuracy: 0.5909 - lr: 1.0000e-06\n",
            "Epoch 241/600\n",
            "21/21 [==============================] - 0s 5ms/step - loss: 0.2436 - accuracy: 0.8929 - val_loss: 0.7795 - val_accuracy: 0.5909 - lr: 1.0000e-06\n",
            "Epoch 242/600\n",
            "21/21 [==============================] - 0s 5ms/step - loss: 0.2436 - accuracy: 0.8929 - val_loss: 0.7794 - val_accuracy: 0.5909 - lr: 1.0000e-06\n",
            "Epoch 243/600\n",
            "21/21 [==============================] - 0s 5ms/step - loss: 0.2436 - accuracy: 0.8929 - val_loss: 0.7795 - val_accuracy: 0.5909 - lr: 1.0000e-06\n",
            "Epoch 244/600\n",
            "21/21 [==============================] - 0s 5ms/step - loss: 0.2435 - accuracy: 0.8929 - val_loss: 0.7795 - val_accuracy: 0.5909 - lr: 1.0000e-06\n",
            "Epoch 245/600\n",
            "21/21 [==============================] - 0s 4ms/step - loss: 0.2435 - accuracy: 0.8929 - val_loss: 0.7796 - val_accuracy: 0.5909 - lr: 1.0000e-06\n",
            "Epoch 246/600\n",
            "21/21 [==============================] - 0s 6ms/step - loss: 0.2435 - accuracy: 0.8929 - val_loss: 0.7795 - val_accuracy: 0.5909 - lr: 1.0000e-06\n",
            "Epoch 247/600\n",
            "21/21 [==============================] - 0s 5ms/step - loss: 0.2435 - accuracy: 0.8929 - val_loss: 0.7796 - val_accuracy: 0.5909 - lr: 1.0000e-06\n",
            "Epoch 248/600\n",
            "21/21 [==============================] - 0s 6ms/step - loss: 0.2435 - accuracy: 0.8929 - val_loss: 0.7796 - val_accuracy: 0.5909 - lr: 1.0000e-06\n",
            "Epoch 249/600\n",
            "21/21 [==============================] - 0s 5ms/step - loss: 0.2435 - accuracy: 0.8929 - val_loss: 0.7796 - val_accuracy: 0.5909 - lr: 1.0000e-06\n",
            "Epoch 250/600\n",
            "21/21 [==============================] - 0s 6ms/step - loss: 0.2435 - accuracy: 0.8929 - val_loss: 0.7796 - val_accuracy: 0.5909 - lr: 1.0000e-06\n",
            "Epoch 251/600\n",
            "21/21 [==============================] - 0s 5ms/step - loss: 0.2435 - accuracy: 0.8929 - val_loss: 0.7796 - val_accuracy: 0.5909 - lr: 1.0000e-06\n",
            "Epoch 252/600\n",
            "21/21 [==============================] - 0s 6ms/step - loss: 0.2435 - accuracy: 0.8929 - val_loss: 0.7795 - val_accuracy: 0.5909 - lr: 1.0000e-06\n",
            "Epoch 253/600\n",
            "21/21 [==============================] - 0s 5ms/step - loss: 0.2435 - accuracy: 0.8929 - val_loss: 0.7797 - val_accuracy: 0.5909 - lr: 1.0000e-06\n",
            "Epoch 254/600\n",
            "21/21 [==============================] - 0s 5ms/step - loss: 0.2434 - accuracy: 0.8929 - val_loss: 0.7797 - val_accuracy: 0.5909 - lr: 1.0000e-06\n",
            "Epoch 255/600\n",
            "21/21 [==============================] - 0s 5ms/step - loss: 0.2434 - accuracy: 0.8929 - val_loss: 0.7797 - val_accuracy: 0.5909 - lr: 1.0000e-06\n",
            "Epoch 256/600\n",
            "21/21 [==============================] - 0s 5ms/step - loss: 0.2434 - accuracy: 0.8929 - val_loss: 0.7797 - val_accuracy: 0.5909 - lr: 1.0000e-06\n",
            "Epoch 257/600\n",
            "21/21 [==============================] - 0s 5ms/step - loss: 0.2434 - accuracy: 0.8929 - val_loss: 0.7797 - val_accuracy: 0.5909 - lr: 1.0000e-06\n",
            "Epoch 258/600\n",
            "21/21 [==============================] - 0s 4ms/step - loss: 0.2434 - accuracy: 0.8929 - val_loss: 0.7799 - val_accuracy: 0.5909 - lr: 1.0000e-06\n",
            "Epoch 259/600\n",
            "21/21 [==============================] - 0s 6ms/step - loss: 0.2434 - accuracy: 0.8929 - val_loss: 0.7799 - val_accuracy: 0.5909 - lr: 1.0000e-06\n",
            "Epoch 260/600\n",
            "21/21 [==============================] - 0s 5ms/step - loss: 0.2434 - accuracy: 0.8929 - val_loss: 0.7798 - val_accuracy: 0.5909 - lr: 1.0000e-06\n",
            "Epoch 261/600\n",
            "21/21 [==============================] - 0s 6ms/step - loss: 0.2434 - accuracy: 0.8929 - val_loss: 0.7799 - val_accuracy: 0.5909 - lr: 1.0000e-06\n",
            "Epoch 262/600\n",
            "21/21 [==============================] - 0s 5ms/step - loss: 0.2434 - accuracy: 0.8929 - val_loss: 0.7798 - val_accuracy: 0.5909 - lr: 1.0000e-06\n",
            "Epoch 263/600\n",
            "21/21 [==============================] - 0s 5ms/step - loss: 0.2434 - accuracy: 0.8929 - val_loss: 0.7799 - val_accuracy: 0.5909 - lr: 1.0000e-06\n",
            "Epoch 264/600\n",
            "21/21 [==============================] - 0s 5ms/step - loss: 0.2433 - accuracy: 0.8929 - val_loss: 0.7799 - val_accuracy: 0.5909 - lr: 1.0000e-06\n",
            "Epoch 265/600\n",
            "21/21 [==============================] - 0s 5ms/step - loss: 0.2434 - accuracy: 0.8929 - val_loss: 0.7798 - val_accuracy: 0.5909 - lr: 1.0000e-06\n",
            "Epoch 266/600\n",
            " 1/21 [>.............................] - ETA: 0s - loss: 0.3424 - accuracy: 0.7500"
          ]
        },
        {
          "output_type": "error",
          "ename": "KeyboardInterrupt",
          "evalue": "ignored",
          "traceback": [
            "\u001b[0;31m---------------------------------------------------------------------------\u001b[0m",
            "\u001b[0;31mKeyboardInterrupt\u001b[0m                         Traceback (most recent call last)",
            "\u001b[0;32m<ipython-input-56-69169aa09b6e>\u001b[0m in \u001b[0;36m<module>\u001b[0;34m()\u001b[0m\n\u001b[1;32m     15\u001b[0m                   \u001b[0mvalidation_split\u001b[0m \u001b[0;34m=\u001b[0m \u001b[0;36m0.2\u001b[0m\u001b[0;34m,\u001b[0m\u001b[0;34m\u001b[0m\u001b[0;34m\u001b[0m\u001b[0m\n\u001b[1;32m     16\u001b[0m                   \u001b[0mshuffle\u001b[0m \u001b[0;34m=\u001b[0m \u001b[0;32mTrue\u001b[0m\u001b[0;34m,\u001b[0m\u001b[0;34m\u001b[0m\u001b[0;34m\u001b[0m\u001b[0m\n\u001b[0;32m---> 17\u001b[0;31m                   verbose = 1)\n\u001b[0m",
            "\u001b[0;32m/usr/local/lib/python3.7/dist-packages/keras/utils/traceback_utils.py\u001b[0m in \u001b[0;36merror_handler\u001b[0;34m(*args, **kwargs)\u001b[0m\n\u001b[1;32m     62\u001b[0m     \u001b[0mfiltered_tb\u001b[0m \u001b[0;34m=\u001b[0m \u001b[0;32mNone\u001b[0m\u001b[0;34m\u001b[0m\u001b[0;34m\u001b[0m\u001b[0m\n\u001b[1;32m     63\u001b[0m     \u001b[0;32mtry\u001b[0m\u001b[0;34m:\u001b[0m\u001b[0;34m\u001b[0m\u001b[0;34m\u001b[0m\u001b[0m\n\u001b[0;32m---> 64\u001b[0;31m       \u001b[0;32mreturn\u001b[0m \u001b[0mfn\u001b[0m\u001b[0;34m(\u001b[0m\u001b[0;34m*\u001b[0m\u001b[0margs\u001b[0m\u001b[0;34m,\u001b[0m \u001b[0;34m**\u001b[0m\u001b[0mkwargs\u001b[0m\u001b[0;34m)\u001b[0m\u001b[0;34m\u001b[0m\u001b[0;34m\u001b[0m\u001b[0m\n\u001b[0m\u001b[1;32m     65\u001b[0m     \u001b[0;32mexcept\u001b[0m \u001b[0mException\u001b[0m \u001b[0;32mas\u001b[0m \u001b[0me\u001b[0m\u001b[0;34m:\u001b[0m  \u001b[0;31m# pylint: disable=broad-except\u001b[0m\u001b[0;34m\u001b[0m\u001b[0;34m\u001b[0m\u001b[0m\n\u001b[1;32m     66\u001b[0m       \u001b[0mfiltered_tb\u001b[0m \u001b[0;34m=\u001b[0m \u001b[0m_process_traceback_frames\u001b[0m\u001b[0;34m(\u001b[0m\u001b[0me\u001b[0m\u001b[0;34m.\u001b[0m\u001b[0m__traceback__\u001b[0m\u001b[0;34m)\u001b[0m\u001b[0;34m\u001b[0m\u001b[0;34m\u001b[0m\u001b[0m\n",
            "\u001b[0;32m/usr/local/lib/python3.7/dist-packages/keras/engine/training.py\u001b[0m in \u001b[0;36mfit\u001b[0;34m(self, x, y, batch_size, epochs, verbose, callbacks, validation_split, validation_data, shuffle, class_weight, sample_weight, initial_epoch, steps_per_epoch, validation_steps, validation_batch_size, validation_freq, max_queue_size, workers, use_multiprocessing)\u001b[0m\n\u001b[1;32m   1214\u001b[0m                 _r=1):\n\u001b[1;32m   1215\u001b[0m               \u001b[0mcallbacks\u001b[0m\u001b[0;34m.\u001b[0m\u001b[0mon_train_batch_begin\u001b[0m\u001b[0;34m(\u001b[0m\u001b[0mstep\u001b[0m\u001b[0;34m)\u001b[0m\u001b[0;34m\u001b[0m\u001b[0;34m\u001b[0m\u001b[0m\n\u001b[0;32m-> 1216\u001b[0;31m               \u001b[0mtmp_logs\u001b[0m \u001b[0;34m=\u001b[0m \u001b[0mself\u001b[0m\u001b[0;34m.\u001b[0m\u001b[0mtrain_function\u001b[0m\u001b[0;34m(\u001b[0m\u001b[0miterator\u001b[0m\u001b[0;34m)\u001b[0m\u001b[0;34m\u001b[0m\u001b[0;34m\u001b[0m\u001b[0m\n\u001b[0m\u001b[1;32m   1217\u001b[0m               \u001b[0;32mif\u001b[0m \u001b[0mdata_handler\u001b[0m\u001b[0;34m.\u001b[0m\u001b[0mshould_sync\u001b[0m\u001b[0;34m:\u001b[0m\u001b[0;34m\u001b[0m\u001b[0;34m\u001b[0m\u001b[0m\n\u001b[1;32m   1218\u001b[0m                 \u001b[0mcontext\u001b[0m\u001b[0;34m.\u001b[0m\u001b[0masync_wait\u001b[0m\u001b[0;34m(\u001b[0m\u001b[0;34m)\u001b[0m\u001b[0;34m\u001b[0m\u001b[0;34m\u001b[0m\u001b[0m\n",
            "\u001b[0;32m/usr/local/lib/python3.7/dist-packages/tensorflow/python/util/traceback_utils.py\u001b[0m in \u001b[0;36merror_handler\u001b[0;34m(*args, **kwargs)\u001b[0m\n\u001b[1;32m    148\u001b[0m     \u001b[0mfiltered_tb\u001b[0m \u001b[0;34m=\u001b[0m \u001b[0;32mNone\u001b[0m\u001b[0;34m\u001b[0m\u001b[0;34m\u001b[0m\u001b[0m\n\u001b[1;32m    149\u001b[0m     \u001b[0;32mtry\u001b[0m\u001b[0;34m:\u001b[0m\u001b[0;34m\u001b[0m\u001b[0;34m\u001b[0m\u001b[0m\n\u001b[0;32m--> 150\u001b[0;31m       \u001b[0;32mreturn\u001b[0m \u001b[0mfn\u001b[0m\u001b[0;34m(\u001b[0m\u001b[0;34m*\u001b[0m\u001b[0margs\u001b[0m\u001b[0;34m,\u001b[0m \u001b[0;34m**\u001b[0m\u001b[0mkwargs\u001b[0m\u001b[0;34m)\u001b[0m\u001b[0;34m\u001b[0m\u001b[0;34m\u001b[0m\u001b[0m\n\u001b[0m\u001b[1;32m    151\u001b[0m     \u001b[0;32mexcept\u001b[0m \u001b[0mException\u001b[0m \u001b[0;32mas\u001b[0m \u001b[0me\u001b[0m\u001b[0;34m:\u001b[0m\u001b[0;34m\u001b[0m\u001b[0;34m\u001b[0m\u001b[0m\n\u001b[1;32m    152\u001b[0m       \u001b[0mfiltered_tb\u001b[0m \u001b[0;34m=\u001b[0m \u001b[0m_process_traceback_frames\u001b[0m\u001b[0;34m(\u001b[0m\u001b[0me\u001b[0m\u001b[0;34m.\u001b[0m\u001b[0m__traceback__\u001b[0m\u001b[0;34m)\u001b[0m\u001b[0;34m\u001b[0m\u001b[0;34m\u001b[0m\u001b[0m\n",
            "\u001b[0;32m/usr/local/lib/python3.7/dist-packages/tensorflow/python/eager/def_function.py\u001b[0m in \u001b[0;36m__call__\u001b[0;34m(self, *args, **kwds)\u001b[0m\n\u001b[1;32m    908\u001b[0m \u001b[0;34m\u001b[0m\u001b[0m\n\u001b[1;32m    909\u001b[0m       \u001b[0;32mwith\u001b[0m \u001b[0mOptionalXlaContext\u001b[0m\u001b[0;34m(\u001b[0m\u001b[0mself\u001b[0m\u001b[0;34m.\u001b[0m\u001b[0m_jit_compile\u001b[0m\u001b[0;34m)\u001b[0m\u001b[0;34m:\u001b[0m\u001b[0;34m\u001b[0m\u001b[0;34m\u001b[0m\u001b[0m\n\u001b[0;32m--> 910\u001b[0;31m         \u001b[0mresult\u001b[0m \u001b[0;34m=\u001b[0m \u001b[0mself\u001b[0m\u001b[0;34m.\u001b[0m\u001b[0m_call\u001b[0m\u001b[0;34m(\u001b[0m\u001b[0;34m*\u001b[0m\u001b[0margs\u001b[0m\u001b[0;34m,\u001b[0m \u001b[0;34m**\u001b[0m\u001b[0mkwds\u001b[0m\u001b[0;34m)\u001b[0m\u001b[0;34m\u001b[0m\u001b[0;34m\u001b[0m\u001b[0m\n\u001b[0m\u001b[1;32m    911\u001b[0m \u001b[0;34m\u001b[0m\u001b[0m\n\u001b[1;32m    912\u001b[0m       \u001b[0mnew_tracing_count\u001b[0m \u001b[0;34m=\u001b[0m \u001b[0mself\u001b[0m\u001b[0;34m.\u001b[0m\u001b[0mexperimental_get_tracing_count\u001b[0m\u001b[0;34m(\u001b[0m\u001b[0;34m)\u001b[0m\u001b[0;34m\u001b[0m\u001b[0;34m\u001b[0m\u001b[0m\n",
            "\u001b[0;32m/usr/local/lib/python3.7/dist-packages/tensorflow/python/eager/def_function.py\u001b[0m in \u001b[0;36m_call\u001b[0;34m(self, *args, **kwds)\u001b[0m\n\u001b[1;32m    940\u001b[0m       \u001b[0;31m# In this case we have created variables on the first call, so we run the\u001b[0m\u001b[0;34m\u001b[0m\u001b[0;34m\u001b[0m\u001b[0;34m\u001b[0m\u001b[0m\n\u001b[1;32m    941\u001b[0m       \u001b[0;31m# defunned version which is guaranteed to never create variables.\u001b[0m\u001b[0;34m\u001b[0m\u001b[0;34m\u001b[0m\u001b[0;34m\u001b[0m\u001b[0m\n\u001b[0;32m--> 942\u001b[0;31m       \u001b[0;32mreturn\u001b[0m \u001b[0mself\u001b[0m\u001b[0;34m.\u001b[0m\u001b[0m_stateless_fn\u001b[0m\u001b[0;34m(\u001b[0m\u001b[0;34m*\u001b[0m\u001b[0margs\u001b[0m\u001b[0;34m,\u001b[0m \u001b[0;34m**\u001b[0m\u001b[0mkwds\u001b[0m\u001b[0;34m)\u001b[0m  \u001b[0;31m# pylint: disable=not-callable\u001b[0m\u001b[0;34m\u001b[0m\u001b[0;34m\u001b[0m\u001b[0m\n\u001b[0m\u001b[1;32m    943\u001b[0m     \u001b[0;32melif\u001b[0m \u001b[0mself\u001b[0m\u001b[0;34m.\u001b[0m\u001b[0m_stateful_fn\u001b[0m \u001b[0;32mis\u001b[0m \u001b[0;32mnot\u001b[0m \u001b[0;32mNone\u001b[0m\u001b[0;34m:\u001b[0m\u001b[0;34m\u001b[0m\u001b[0;34m\u001b[0m\u001b[0m\n\u001b[1;32m    944\u001b[0m       \u001b[0;31m# Release the lock early so that multiple threads can perform the call\u001b[0m\u001b[0;34m\u001b[0m\u001b[0;34m\u001b[0m\u001b[0;34m\u001b[0m\u001b[0m\n",
            "\u001b[0;32m/usr/local/lib/python3.7/dist-packages/tensorflow/python/eager/function.py\u001b[0m in \u001b[0;36m__call__\u001b[0;34m(self, *args, **kwargs)\u001b[0m\n\u001b[1;32m   3129\u001b[0m        filtered_flat_args) = self._maybe_define_function(args, kwargs)\n\u001b[1;32m   3130\u001b[0m     return graph_function._call_flat(\n\u001b[0;32m-> 3131\u001b[0;31m         filtered_flat_args, captured_inputs=graph_function.captured_inputs)  # pylint: disable=protected-access\n\u001b[0m\u001b[1;32m   3132\u001b[0m \u001b[0;34m\u001b[0m\u001b[0m\n\u001b[1;32m   3133\u001b[0m   \u001b[0;34m@\u001b[0m\u001b[0mproperty\u001b[0m\u001b[0;34m\u001b[0m\u001b[0;34m\u001b[0m\u001b[0m\n",
            "\u001b[0;32m/usr/local/lib/python3.7/dist-packages/tensorflow/python/eager/function.py\u001b[0m in \u001b[0;36m_call_flat\u001b[0;34m(self, args, captured_inputs, cancellation_manager)\u001b[0m\n\u001b[1;32m   1958\u001b[0m       \u001b[0;31m# No tape is watching; skip to running the function.\u001b[0m\u001b[0;34m\u001b[0m\u001b[0;34m\u001b[0m\u001b[0;34m\u001b[0m\u001b[0m\n\u001b[1;32m   1959\u001b[0m       return self._build_call_outputs(self._inference_function.call(\n\u001b[0;32m-> 1960\u001b[0;31m           ctx, args, cancellation_manager=cancellation_manager))\n\u001b[0m\u001b[1;32m   1961\u001b[0m     forward_backward = self._select_forward_and_backward_functions(\n\u001b[1;32m   1962\u001b[0m         \u001b[0margs\u001b[0m\u001b[0;34m,\u001b[0m\u001b[0;34m\u001b[0m\u001b[0;34m\u001b[0m\u001b[0m\n",
            "\u001b[0;32m/usr/local/lib/python3.7/dist-packages/tensorflow/python/eager/function.py\u001b[0m in \u001b[0;36mcall\u001b[0;34m(self, ctx, args, cancellation_manager)\u001b[0m\n\u001b[1;32m    601\u001b[0m               \u001b[0minputs\u001b[0m\u001b[0;34m=\u001b[0m\u001b[0margs\u001b[0m\u001b[0;34m,\u001b[0m\u001b[0;34m\u001b[0m\u001b[0;34m\u001b[0m\u001b[0m\n\u001b[1;32m    602\u001b[0m               \u001b[0mattrs\u001b[0m\u001b[0;34m=\u001b[0m\u001b[0mattrs\u001b[0m\u001b[0;34m,\u001b[0m\u001b[0;34m\u001b[0m\u001b[0;34m\u001b[0m\u001b[0m\n\u001b[0;32m--> 603\u001b[0;31m               ctx=ctx)\n\u001b[0m\u001b[1;32m    604\u001b[0m         \u001b[0;32melse\u001b[0m\u001b[0;34m:\u001b[0m\u001b[0;34m\u001b[0m\u001b[0;34m\u001b[0m\u001b[0m\n\u001b[1;32m    605\u001b[0m           outputs = execute.execute_with_cancellation(\n",
            "\u001b[0;32m/usr/local/lib/python3.7/dist-packages/tensorflow/python/eager/execute.py\u001b[0m in \u001b[0;36mquick_execute\u001b[0;34m(op_name, num_outputs, inputs, attrs, ctx, name)\u001b[0m\n\u001b[1;32m     57\u001b[0m     \u001b[0mctx\u001b[0m\u001b[0;34m.\u001b[0m\u001b[0mensure_initialized\u001b[0m\u001b[0;34m(\u001b[0m\u001b[0;34m)\u001b[0m\u001b[0;34m\u001b[0m\u001b[0;34m\u001b[0m\u001b[0m\n\u001b[1;32m     58\u001b[0m     tensors = pywrap_tfe.TFE_Py_Execute(ctx._handle, device_name, op_name,\n\u001b[0;32m---> 59\u001b[0;31m                                         inputs, attrs, num_outputs)\n\u001b[0m\u001b[1;32m     60\u001b[0m   \u001b[0;32mexcept\u001b[0m \u001b[0mcore\u001b[0m\u001b[0;34m.\u001b[0m\u001b[0m_NotOkStatusException\u001b[0m \u001b[0;32mas\u001b[0m \u001b[0me\u001b[0m\u001b[0;34m:\u001b[0m\u001b[0;34m\u001b[0m\u001b[0;34m\u001b[0m\u001b[0m\n\u001b[1;32m     61\u001b[0m     \u001b[0;32mif\u001b[0m \u001b[0mname\u001b[0m \u001b[0;32mis\u001b[0m \u001b[0;32mnot\u001b[0m \u001b[0;32mNone\u001b[0m\u001b[0;34m:\u001b[0m\u001b[0;34m\u001b[0m\u001b[0;34m\u001b[0m\u001b[0m\n",
            "\u001b[0;31mKeyboardInterrupt\u001b[0m: "
          ]
        }
      ]
    }
  ]
}